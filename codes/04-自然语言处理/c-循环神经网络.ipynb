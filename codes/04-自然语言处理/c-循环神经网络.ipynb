{
 "cells": [
  {
   "metadata": {
    "ExecuteTime": {
     "end_time": "2025-05-29T01:30:23.030558Z",
     "start_time": "2025-05-29T01:30:21.392038Z"
    }
   },
   "cell_type": "code",
   "source": [
    "import torch\n",
    "from torch import nn\n",
    "\n",
    "rnn = nn.RNN(5, 6, 1)\n",
    "input = torch.randn(4, 1, 5)\n",
    "h0 = torch.zeros(1, 1, 6)\n",
    "output, hn = rnn(input, h0)\n",
    "print(input)\n",
    "print(output)\n",
    "print(hn)"
   ],
   "id": "e4c67bef6e0d3aef",
   "outputs": [
    {
     "name": "stdout",
     "output_type": "stream",
     "text": [
      "tensor([[[ 0.6239, -1.1810, -0.3002, -1.5603,  0.0907]],\n",
      "\n",
      "        [[ 1.5535,  0.8690,  0.2811, -0.0804,  0.4148]],\n",
      "\n",
      "        [[ 0.1580,  0.8594,  0.5457, -1.1841,  0.5880]],\n",
      "\n",
      "        [[ 1.2040,  0.0691,  0.9511, -0.5362, -1.1651]]])\n",
      "tensor([[[-0.5627,  0.7014, -0.3620, -0.2961, -0.0437,  0.2179]],\n",
      "\n",
      "        [[ 0.6763, -0.3637, -0.5154, -0.0915, -0.0013,  0.3857]],\n",
      "\n",
      "        [[-0.1020,  0.4541,  0.0745, -0.2153, -0.5341, -0.4034]],\n",
      "\n",
      "        [[ 0.6084, -0.1061,  0.4672,  0.1353,  0.1425,  0.4619]]],\n",
      "       grad_fn=<StackBackward0>)\n",
      "tensor([[[ 0.6084, -0.1061,  0.4672,  0.1353,  0.1425,  0.4619]]],\n",
      "       grad_fn=<StackBackward0>)\n"
     ]
    }
   ],
   "execution_count": 1
  },
  {
   "metadata": {
    "ExecuteTime": {
     "end_time": "2025-05-29T01:30:27.594972Z",
     "start_time": "2025-05-29T01:30:27.517374Z"
    }
   },
   "cell_type": "code",
   "source": [
    "lstm = nn.LSTM(5, 6, 1)\n",
    "input = torch.randn(4, 1, 5)\n",
    "h0 = torch.zeros(1, 1, 6)\n",
    "c0 = torch.zeros(1, 1, 6)\n",
    "\n",
    "output, (hn, cn) = lstm(input, (h0, c0))\n",
    "print(input)\n",
    "print(output)\n",
    "print(hn)\n",
    "print(cn)"
   ],
   "id": "d11946d4186f41bf",
   "outputs": [
    {
     "name": "stdout",
     "output_type": "stream",
     "text": [
      "tensor([[[ 0.1214,  1.4013, -0.8282, -0.6490, -0.6444]],\n",
      "\n",
      "        [[-1.3884, -0.4219,  0.9662,  0.8994,  0.9114]],\n",
      "\n",
      "        [[ 0.7463,  1.0022,  0.1587, -0.9399,  0.2633]],\n",
      "\n",
      "        [[ 0.5525,  0.0758, -0.0900,  0.2946,  0.7047]]])\n",
      "tensor([[[-0.0949, -0.1497, -0.0559, -0.0066, -0.1607, -0.0087]],\n",
      "\n",
      "        [[-0.0065, -0.0682, -0.0578,  0.1449, -0.0812, -0.2522]],\n",
      "\n",
      "        [[ 0.1471, -0.1003, -0.0151,  0.0756, -0.2017, -0.1428]],\n",
      "\n",
      "        [[ 0.1753, -0.0899, -0.0483,  0.1571, -0.2274, -0.2221]]],\n",
      "       grad_fn=<MkldnnRnnLayerBackward0>)\n",
      "tensor([[[ 0.1753, -0.0899, -0.0483,  0.1571, -0.2274, -0.2221]]],\n",
      "       grad_fn=<StackBackward0>)\n",
      "tensor([[[ 0.3133, -0.2235, -0.0920,  0.2632, -0.4249, -0.3891]]],\n",
      "       grad_fn=<StackBackward0>)\n"
     ]
    }
   ],
   "execution_count": 2
  },
  {
   "metadata": {
    "ExecuteTime": {
     "end_time": "2025-05-29T01:30:28.739375Z",
     "start_time": "2025-05-29T01:30:28.727416Z"
    }
   },
   "cell_type": "code",
   "source": [
    "gru = nn.GRU(5, 6, 1)\n",
    "input = torch.randn(4, 1, 5)\n",
    "h0 = torch.zeros(1, 1, 6)\n",
    "output, hn = gru(input, h0)\n",
    "\n",
    "print(input)\n",
    "print(output)\n",
    "print(hn)"
   ],
   "id": "cd2559ed42293333",
   "outputs": [
    {
     "name": "stdout",
     "output_type": "stream",
     "text": [
      "tensor([[[-1.5407,  1.1341,  2.2486,  1.5365, -1.5767]],\n",
      "\n",
      "        [[-0.6710,  0.5718, -0.7531, -1.2667, -0.1710]],\n",
      "\n",
      "        [[ 0.7044, -1.5787,  0.6929,  1.6572,  1.3430]],\n",
      "\n",
      "        [[-2.3536,  0.7415, -0.3685,  0.4557, -0.0927]]])\n",
      "tensor([[[-4.0060e-01, -6.0356e-03, -2.5922e-01, -1.4083e-01, -9.9261e-02,\n",
      "           2.9266e-01]],\n",
      "\n",
      "        [[-5.3890e-01, -5.5163e-02, -1.9178e-01,  1.2123e-01,  2.4544e-01,\n",
      "          -1.1389e-01]],\n",
      "\n",
      "        [[ 1.8520e-01, -2.3449e-01, -2.1163e-02, -1.0576e-01, -1.8766e-01,\n",
      "          -3.4464e-01]],\n",
      "\n",
      "        [[-2.5257e-01, -3.6851e-01,  1.4174e-01,  1.5238e-01,  3.4581e-01,\n",
      "           1.8048e-04]]], grad_fn=<StackBackward0>)\n",
      "tensor([[[-2.5257e-01, -3.6851e-01,  1.4174e-01,  1.5238e-01,  3.4581e-01,\n",
      "           1.8048e-04]]], grad_fn=<StackBackward0>)\n"
     ]
    }
   ],
   "execution_count": 3
  },
  {
   "metadata": {},
   "cell_type": "code",
   "outputs": [],
   "execution_count": null,
   "source": "",
   "id": "974a75a73acfc87f"
  }
 ],
 "metadata": {
  "kernelspec": {
   "display_name": "Python 3",
   "language": "python",
   "name": "python3"
  },
  "language_info": {
   "codemirror_mode": {
    "name": "ipython",
    "version": 2
   },
   "file_extension": ".py",
   "mimetype": "text/x-python",
   "name": "python",
   "nbconvert_exporter": "python",
   "pygments_lexer": "ipython2",
   "version": "2.7.6"
  }
 },
 "nbformat": 4,
 "nbformat_minor": 5
}
