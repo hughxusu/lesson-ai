{
 "cells": [
  {
   "cell_type": "code",
   "id": "initial_id",
   "metadata": {
    "collapsed": true,
    "ExecuteTime": {
     "end_time": "2025-06-01T10:23:31.596061Z",
     "start_time": "2025-06-01T10:23:31.590163Z"
    }
   },
   "source": [
    "import torch\n",
    "from torch import nn\n",
    "\n",
    "embedding = nn.Embedding(10, 3)\n",
    "input = torch.LongTensor([[1, 2, 4, 5],[4, 3, 2, 0]])\n",
    "embedding(input)"
   ],
   "outputs": [
    {
     "data": {
      "text/plain": [
       "tensor([[[-1.7154, -0.3796,  1.1986],\n",
       "         [-0.2702,  0.0580, -0.1763],\n",
       "         [-1.0898, -0.4915, -1.2161],\n",
       "         [-1.3465, -1.0456, -0.5301]],\n",
       "\n",
       "        [[-1.0898, -0.4915, -1.2161],\n",
       "         [-1.4858,  0.1582,  0.6484],\n",
       "         [-0.2702,  0.0580, -0.1763],\n",
       "         [ 1.1180,  1.1031, -0.4801]]], grad_fn=<EmbeddingBackward0>)"
      ]
     },
     "execution_count": 2,
     "metadata": {},
     "output_type": "execute_result"
    }
   ],
   "execution_count": 2
  },
  {
   "metadata": {
    "ExecuteTime": {
     "end_time": "2025-06-01T10:23:32.598295Z",
     "start_time": "2025-06-01T10:23:32.591548Z"
    }
   },
   "cell_type": "code",
   "source": [
    "embedding = nn.Embedding(10, 3, padding_idx=0)\n",
    "input = torch.LongTensor([[0, 2, 0, 5]])\n",
    "embedding(input)"
   ],
   "id": "18329d75d64d583",
   "outputs": [
    {
     "data": {
      "text/plain": [
       "tensor([[[ 0.0000,  0.0000,  0.0000],\n",
       "         [ 0.9356,  0.3439, -0.4752],\n",
       "         [ 0.0000,  0.0000,  0.0000],\n",
       "         [ 0.9047, -0.1173, -0.7522]]], grad_fn=<EmbeddingBackward0>)"
      ]
     },
     "execution_count": 3,
     "metadata": {},
     "output_type": "execute_result"
    }
   ],
   "execution_count": 3
  },
  {
   "metadata": {
    "ExecuteTime": {
     "end_time": "2025-06-01T10:23:33.555758Z",
     "start_time": "2025-06-01T10:23:33.535936Z"
    }
   },
   "cell_type": "code",
   "source": [
    "import math\n",
    "\n",
    "class Embeddings(nn.Module):\n",
    "    def __init__(self, d_model, vocab):\n",
    "        super(Embeddings, self).__init__()\n",
    "        self.lut = nn.Embedding(vocab, d_model)\n",
    "        self.d_model = d_model\n",
    "\n",
    "    def forward(self, x):\n",
    "        return self.lut(x) * math.sqrt(self.d_model)\n",
    "    \n",
    "d_model = 512\n",
    "vocab = 1000\n",
    "x = torch.LongTensor([[100,2,421,508],[491,998,1,221]])\n",
    "emb = Embeddings(d_model, vocab)\n",
    "embr = emb(x)\n",
    "print(\"embr:\", embr)"
   ],
   "id": "471b8f00ca159b0f",
   "outputs": [
    {
     "name": "stdout",
     "output_type": "stream",
     "text": [
      "embr: tensor([[[  1.6915, -10.0383, -48.4048,  ..., -32.6809, -23.2183,  24.0230],\n",
      "         [  4.5072, -39.6910,   6.9739,  ..., -16.9322,  21.5810, -14.6581],\n",
      "         [-33.5574,  15.9538,  28.0040,  ...,  15.3379,   3.6651,   5.7678],\n",
      "         [ 11.1774, -23.5950,  25.3121,  ...,  12.3324,  24.3173, -33.4307]],\n",
      "\n",
      "        [[ -5.8937, -15.2101,   9.3811,  ...,  15.0427,   9.6020, -22.6974],\n",
      "         [-21.6922,  -1.3313, -56.7308,  ...,   8.9164,  -1.1304,  -3.1389],\n",
      "         [ 47.5384,  12.1539,  -3.2243,  ..., -19.3812,  23.9907,   5.4538],\n",
      "         [-16.8967, -46.6928,   6.4109,  ...,  12.8163, -31.8154,   7.0101]]],\n",
      "       grad_fn=<MulBackward0>)\n"
     ]
    }
   ],
   "execution_count": 4
  },
  {
   "metadata": {
    "ExecuteTime": {
     "end_time": "2025-06-01T10:23:34.775519Z",
     "start_time": "2025-06-01T10:23:34.768410Z"
    }
   },
   "cell_type": "code",
   "source": [
    "x = torch.tensor([1, 2, 3, 4])\n",
    "print(torch.unsqueeze(x, 0))\n",
    "print(torch.unsqueeze(x, 1))"
   ],
   "id": "cbec7c6f15c18191",
   "outputs": [
    {
     "name": "stdout",
     "output_type": "stream",
     "text": [
      "tensor([[1, 2, 3, 4]])\n",
      "tensor([[1],\n",
      "        [2],\n",
      "        [3],\n",
      "        [4]])\n"
     ]
    }
   ],
   "execution_count": 5
  },
  {
   "metadata": {
    "ExecuteTime": {
     "end_time": "2025-06-01T10:23:35.866262Z",
     "start_time": "2025-06-01T10:23:35.826765Z"
    }
   },
   "cell_type": "code",
   "source": [
    "class PositionalEncoding(nn.Module):\n",
    "    def __init__(self, d_model, dropout, max_len=5000):\n",
    "        super(PositionalEncoding, self).__init__()\n",
    "        self.dropout = nn.Dropout(p=dropout)\n",
    "\n",
    "        pe = torch.zeros(max_len, d_model)\n",
    "        position = torch.arange(0, max_len, dtype=torch.float).unsqueeze(1) \n",
    "        div_term = torch.exp(torch.arange(0, d_model, 2, dtype=torch.float) \n",
    "                             * -(math.log(10000.0) / d_model))\n",
    "        pe[:, 0::2] = torch.sin(position * div_term)\n",
    "        pe[:, 1::2] = torch.cos(position * div_term)\n",
    "        pe = pe.unsqueeze(0)\n",
    "        self.register_buffer('pe', pe)\n",
    "\n",
    "    def forward(self, x):\n",
    "        x = x + self.pe[:, :x.size(1)]\n",
    "        return self.dropout(x)\n",
    "\n",
    "dropout = 0.1\n",
    "max_len=60\n",
    "\n",
    "x = embr\n",
    "pe = PositionalEncoding(d_model, dropout, max_len)\n",
    "pe_result = pe(x)\n",
    "print(\"pe_result:\", pe_result)"
   ],
   "id": "bba90fbf61a90ba2",
   "outputs": [
    {
     "name": "stdout",
     "output_type": "stream",
     "text": [
      "pe_result: tensor([[[  1.8794, -10.0425, -53.7831,  ..., -35.2010, -25.7981,  27.8033],\n",
      "         [  5.9430, -43.5008,   8.6619,  ..., -17.7025,  23.9790, -15.1757],\n",
      "         [-36.2757,  17.2641,  32.1561,  ...,   0.0000,   4.0726,   0.0000],\n",
      "         [ 12.5762, -27.3167,  28.3969,  ...,  14.8137,  27.0195, -36.0341]],\n",
      "\n",
      "        [[ -6.5485,  -0.0000,  10.4234,  ...,  17.8253,  10.6688, -24.1082],\n",
      "         [-23.1675,  -0.8789, -62.1210,  ...,  11.0182,  -1.2559,  -2.3765],\n",
      "         [  0.0000,   0.0000,  -2.5421,  ..., -20.4235,  26.6566,   7.1709],\n",
      "         [-18.6173, -52.9808,   0.0000,  ...,  15.3514, -35.3501,   8.9001]]],\n",
      "       grad_fn=<MulBackward0>)\n"
     ]
    }
   ],
   "execution_count": 6
  },
  {
   "metadata": {
    "ExecuteTime": {
     "end_time": "2025-06-01T10:23:37.885344Z",
     "start_time": "2025-06-01T10:23:36.799519Z"
    }
   },
   "cell_type": "code",
   "source": [
    "import matplotlib.pyplot as plt\n",
    "import numpy as np\n",
    "\n",
    "plt.figure(figsize=(15, 5))\n",
    "pe = PositionalEncoding(20, 0)\n",
    "y = pe(torch.zeros(1, 100, 20))\n",
    "plt.plot(np.arange(100), y[0, :, 4:8].data.numpy(), linewidth=2)\n",
    "plt.legend([\"dim %d\"%p for p in [4,5,6,7]], fontsize=15)\n",
    "plt.show()"
   ],
   "id": "81b96dbbcde5b290",
   "outputs": [
    {
     "data": {
      "text/plain": [
       "<Figure size 1500x500 with 1 Axes>"
      ],
      "image/png": "[encoded data removed]"
     },
     "metadata": {},
     "output_type": "display_data"
    }
   ],
   "execution_count": 7
  },
  {
   "metadata": {
    "ExecuteTime": {
     "end_time": "2025-06-01T10:23:39.950152Z",
     "start_time": "2025-06-01T10:23:39.943552Z"
    }
   },
   "cell_type": "code",
   "source": [
    "mat = [[1,2,3], [4,5,6], [7,8,9], [10,11,12]]\n",
    "\n",
    "print(np.triu(mat, k=-1))\n",
    "print(np.triu(mat, k=0))\n",
    "print(np.triu(mat, k=1))"
   ],
   "id": "c846654826fed041",
   "outputs": [
    {
     "name": "stdout",
     "output_type": "stream",
     "text": [
      "[[ 1  2  3]\n",
      " [ 4  5  6]\n",
      " [ 0  8  9]\n",
      " [ 0  0 12]]\n",
      "[[1 2 3]\n",
      " [0 5 6]\n",
      " [0 0 9]\n",
      " [0 0 0]]\n",
      "[[0 2 3]\n",
      " [0 0 6]\n",
      " [0 0 0]\n",
      " [0 0 0]]\n"
     ]
    }
   ],
   "execution_count": 8
  },
  {
   "metadata": {
    "ExecuteTime": {
     "end_time": "2025-06-01T10:23:41.573216Z",
     "start_time": "2025-06-01T10:23:41.564981Z"
    }
   },
   "cell_type": "code",
   "source": [
    "def subsequent_mask(size):\n",
    "    attn_shape = (1, size, size)\n",
    "    subsequent_mask = np.triu(np.ones(attn_shape), k=1).astype('uint8')\n",
    "    return torch.from_numpy(1 - subsequent_mask)\n",
    "\n",
    "size = 4\n",
    "sm = subsequent_mask(size)\n",
    "print(\"sm:\", sm)"
   ],
   "id": "73e2701a1f714fc0",
   "outputs": [
    {
     "name": "stdout",
     "output_type": "stream",
     "text": [
      "sm: tensor([[[1, 0, 0, 0],\n",
      "         [1, 1, 0, 0],\n",
      "         [1, 1, 1, 0],\n",
      "         [1, 1, 1, 1]]], dtype=torch.uint8)\n"
     ]
    }
   ],
   "execution_count": 9
  },
  {
   "metadata": {
    "ExecuteTime": {
     "end_time": "2025-06-01T10:23:44.875516Z",
     "start_time": "2025-06-01T10:23:44.847555Z"
    }
   },
   "cell_type": "code",
   "source": [
    "import torch.nn.functional as F\n",
    "\n",
    "def attention(query, key, value, mask=None, dropout=None):\n",
    "    d_k = query.size(-1)\n",
    "    scores = torch.matmul(query, key.transpose(-2, -1)) / math.sqrt(d_k)\n",
    "\n",
    "    if mask is not None:\n",
    "        scores = scores.masked_fill(mask == 0, -1e9)\n",
    "\n",
    "    p_attn = F.softmax(scores, dim = -1)\n",
    "    if dropout is not None:\n",
    "        p_attn = dropout(p_attn)\n",
    "\n",
    "    return torch.matmul(p_attn, value), p_attn\n",
    "\n",
    "\n",
    "query = key = value = pe_result\n",
    "mask = torch.zeros(2, 4, 4)\n",
    "attn, p_attn = attention(query, key, value, mask=mask)\n",
    "print(\"attn:\", attn)\n",
    "print(\"p_attn:\", p_attn)"
   ],
   "id": "c77abbdcf0091b30",
   "outputs": [
    {
     "name": "stdout",
     "output_type": "stream",
     "text": [
      "attn: tensor([[[ -3.9693, -15.8990,   3.8579,  ...,  -9.5224,   7.3183,  -5.8516],\n",
      "         [ -3.9693, -15.8990,   3.8579,  ...,  -9.5224,   7.3183,  -5.8516],\n",
      "         [ -3.9693, -15.8990,   3.8579,  ...,  -9.5224,   7.3183,  -5.8516],\n",
      "         [ -3.9693, -15.8990,   3.8579,  ...,  -9.5224,   7.3183,  -5.8516]],\n",
      "\n",
      "        [[-12.0833, -13.4649, -13.5599,  ...,   5.9429,   0.1799,  -2.6034],\n",
      "         [-12.0833, -13.4649, -13.5599,  ...,   5.9429,   0.1799,  -2.6034],\n",
      "         [-12.0833, -13.4649, -13.5599,  ...,   5.9429,   0.1799,  -2.6034],\n",
      "         [-12.0833, -13.4649, -13.5599,  ...,   5.9429,   0.1799,  -2.6034]]],\n",
      "       grad_fn=<UnsafeViewBackward0>)\n",
      "p_attn: tensor([[[0.2500, 0.2500, 0.2500, 0.2500],\n",
      "         [0.2500, 0.2500, 0.2500, 0.2500],\n",
      "         [0.2500, 0.2500, 0.2500, 0.2500],\n",
      "         [0.2500, 0.2500, 0.2500, 0.2500]],\n",
      "\n",
      "        [[0.2500, 0.2500, 0.2500, 0.2500],\n",
      "         [0.2500, 0.2500, 0.2500, 0.2500],\n",
      "         [0.2500, 0.2500, 0.2500, 0.2500],\n",
      "         [0.2500, 0.2500, 0.2500, 0.2500]]], grad_fn=<SoftmaxBackward0>)\n"
     ]
    }
   ],
   "execution_count": 10
  },
  {
   "metadata": {
    "ExecuteTime": {
     "end_time": "2025-06-01T10:26:40.252479Z",
     "start_time": "2025-06-01T10:26:40.244183Z"
    }
   },
   "cell_type": "code",
   "source": [
    "import copy\n",
    "\n",
    "def clones(module, N):\n",
    "    return nn.ModuleList([copy.deepcopy(module) for _ in range(N)])\n",
    "\n",
    "class MultiHeadedAttention(nn.Module):\n",
    "    def __init__(self, head, embedding_dim, dropout=0.1):\n",
    "        super(MultiHeadedAttention, self).__init__()\n",
    "        assert embedding_dim % head == 0\n",
    "        self.d_k = embedding_dim // head\n",
    "        self.head = head\n",
    "        self.linears = clones(nn.Linear(embedding_dim, embedding_dim), 4)\n",
    "        self.attn = None\n",
    "        self.dropout = nn.Dropout(p=dropout)\n",
    "\n",
    "    def forward(self, query, key, value, mask=None):\n",
    "        if mask is not None:\n",
    "            mask = mask.unsqueeze(0)\n",
    "        batch_size = query.size(0)\n",
    "        query, key, value = \\\n",
    "           [model(x).view(batch_size, -1, self.head, self.d_k).transpose(1, 2)\n",
    "            for model, x in zip(self.linears, (query, key, value))]\n",
    "        x, self.attn = attention(query, key, value, mask=mask, dropout=self.dropout)\n",
    "        x = x.transpose(1, 2).contiguous().view(batch_size, -1, self.head * self.d_k)\n",
    "        return self.linears[-1](x)"
   ],
   "id": "ef4526db24941a8e",
   "outputs": [],
   "execution_count": 13
  },
  {
   "metadata": {
    "ExecuteTime": {
     "end_time": "2025-06-01T10:29:30.428558Z",
     "start_time": "2025-06-01T10:29:30.403569Z"
    }
   },
   "cell_type": "code",
   "source": [
    "head = 8\n",
    "embedding_dim = 512\n",
    "dropout = 0.2\n",
    "\n",
    "query = value = key = pe_result\n",
    "mask = torch.zeros(8, 4, 4)\n",
    "\n",
    "mha = MultiHeadedAttention(head, embedding_dim, dropout)\n",
    "mha_result = mha(query, key, value, mask)\n",
    "print(mha_result)"
   ],
   "id": "21a7ba1a243dd001",
   "outputs": [
    {
     "name": "stdout",
     "output_type": "stream",
     "text": [
      "tensor([[[-1.2561, -3.7909,  5.9235,  ..., -3.3730, -3.7386, -8.7749],\n",
      "         [-2.8995, -2.5098,  3.1341,  ..., -0.8260, -1.6129, -4.2850],\n",
      "         [-3.5346,  2.5107,  4.8079,  ...,  1.1325,  0.0138, -1.3151],\n",
      "         [ 0.4407,  1.4508,  5.6698,  ..., -1.6154, -2.6118, -2.8160]],\n",
      "\n",
      "        [[-0.9745, -0.0587,  1.8543,  ...,  0.2042, -7.7086, -1.6614],\n",
      "         [-3.4091,  1.2926,  1.8548,  ..., -3.2294, -7.0836,  0.1479],\n",
      "         [-1.4311, -1.0579,  0.4344,  ...,  1.0390, -5.9774, -1.0675],\n",
      "         [-2.6655, -1.0441, -0.2568,  ..., -2.3255, -7.3711,  1.5803]]],\n",
      "       grad_fn=<ViewBackward0>)\n"
     ]
    }
   ],
   "execution_count": 14
  },
  {
   "metadata": {
    "ExecuteTime": {
     "end_time": "2025-06-02T01:36:32.048496Z",
     "start_time": "2025-06-02T01:36:32.012110Z"
    }
   },
   "cell_type": "code",
   "source": [
    "class PositionwiseFeedForward(nn.Module):\n",
    "    def __init__(self, d_model, d_ff, dropout=0.1):\n",
    "        super(PositionwiseFeedForward, self).__init__()\n",
    "        self.w1 = nn.Linear(d_model, d_ff)\n",
    "        self.w2 = nn.Linear(d_ff, d_model)\n",
    "        self.dropout = nn.Dropout(dropout)\n",
    "\n",
    "    def forward(self, x):\n",
    "        return self.w2(self.dropout(F.relu(self.w1(x))))\n",
    "    \n",
    "    \n",
    "d_model = 512\n",
    "d_ff = 64\n",
    "dropout = 0.2\n",
    "x = mha_result\n",
    "ff = PositionwiseFeedForward(d_model, d_ff, dropout)\n",
    "ff_result = ff(x)\n",
    "print(ff_result)"
   ],
   "id": "77949bf15b6c0c43",
   "outputs": [
    {
     "name": "stdout",
     "output_type": "stream",
     "text": [
      "tensor([[[-0.0190, -0.4636,  0.5372,  ...,  0.8872, -0.9226, -1.7734],\n",
      "         [ 1.1885, -1.1952,  1.0132,  ...,  0.6029, -0.6581, -1.5036],\n",
      "         [ 0.4627, -0.1174,  1.1199,  ...,  0.8703, -0.3076, -1.4642],\n",
      "         [ 1.2982,  0.5354,  1.3637,  ...,  1.3553, -0.8239, -1.6280]],\n",
      "\n",
      "        [[ 1.7081, -2.0955, -1.5920,  ...,  0.1776,  0.6554,  0.5810],\n",
      "         [ 1.2469, -1.2608, -0.3507,  ..., -0.4612, -0.3333,  0.4229],\n",
      "         [ 1.2406, -1.6885, -0.8166,  ...,  0.7104,  0.3660,  0.8230],\n",
      "         [ 0.3499, -1.9578,  0.2919,  ..., -1.0932, -1.0828, -0.9282]]],\n",
      "       grad_fn=<ViewBackward0>)\n"
     ]
    }
   ],
   "execution_count": 23
  },
  {
   "metadata": {
    "ExecuteTime": {
     "end_time": "2025-06-02T03:19:11.120772Z",
     "start_time": "2025-06-02T03:19:11.112842Z"
    }
   },
   "cell_type": "code",
   "source": [
    "class LayerNorm(nn.Module):\n",
    "    def __init__(self, features, eps=1e-6):\n",
    "        super(LayerNorm, self).__init__()\n",
    "        self.a2 = nn.Parameter(torch.ones(features))\n",
    "        self.b2 = nn.Parameter(torch.zeros(features))\n",
    "        self.eps = eps\n",
    "\n",
    "    def forward(self, x):\n",
    "        mean = x.mean(-1, keepdim=True)\n",
    "        std = x.std(-1, keepdim=True)\n",
    "        return self.a2 * (x - mean) / (std + self.eps) + self.b2\n",
    "    \n",
    "features = d_model = 512\n",
    "eps = 1e-6\n",
    "ln = LayerNorm(features, eps)\n",
    "ln_result = ln(x)\n",
    "print(ln_result)"
   ],
   "id": "b41cfe538433eee3",
   "outputs": [
    {
     "name": "stdout",
     "output_type": "stream",
     "text": [
      "tensor([[[ 0.0538, -0.4764, -2.4217,  ..., -1.5953, -1.1771,  1.2067],\n",
      "         [ 0.2725, -1.8205,  0.3876,  ..., -0.7285,  1.0360, -0.6215],\n",
      "         [-1.5068,  0.7294,  1.3514,  ...,  0.0083,  0.1784,  0.0083],\n",
      "         [ 0.5489, -1.1501,  1.2227,  ...,  0.6442,  1.1640, -1.5213]],\n",
      "\n",
      "        [[-0.3218, -0.0619,  0.3516,  ...,  0.6453,  0.3614, -1.0185],\n",
      "         [-0.9741, -0.0520, -2.5856,  ...,  0.4402, -0.0676, -0.1140],\n",
      "         [-0.0045, -0.0045, -0.1068,  ..., -0.8264,  1.0681,  0.2840],\n",
      "         [-0.8067, -2.3608,  0.0353,  ...,  0.7296, -1.5634,  0.4378]]],\n",
      "       grad_fn=<AddBackward0>)\n"
     ]
    }
   ],
   "execution_count": 27
  },
  {
   "metadata": {
    "ExecuteTime": {
     "end_time": "2025-06-02T03:20:31.503946Z",
     "start_time": "2025-06-02T03:20:31.494383Z"
    }
   },
   "cell_type": "code",
   "source": [
    "class SublayerConnection(nn.Module):\n",
    "    def __init__(self, size, dropout=0.1):\n",
    "        super(SublayerConnection, self).__init__()\n",
    "        self.norm = LayerNorm(size)\n",
    "        self.dropout = nn.Dropout(p=dropout)\n",
    "\n",
    "    def forward(self, x, sublayer):\n",
    "        return x + self.dropout(sublayer(self.norm(x)))\n",
    "    \n",
    "size = 512\n",
    "dropout = 0.2\n",
    "head = 8\n",
    "d_model = 512\n",
    "x = pe_result\n",
    "mask = torch.zeros(8, 4, 4)\n",
    "self_attn =  MultiHeadedAttention(head, d_model)\n",
    "sublayer = lambda x: self_attn(x, x, x, mask)\n",
    "\n",
    "sc = SublayerConnection(size, dropout)\n",
    "sc_result = sc(x, sublayer)"
   ],
   "id": "fdfd119d76d9b1e6",
   "outputs": [],
   "execution_count": 41
  },
  {
   "metadata": {
    "ExecuteTime": {
     "end_time": "2025-06-02T03:20:34.665541Z",
     "start_time": "2025-06-02T03:20:34.659946Z"
    }
   },
   "cell_type": "code",
   "source": [
    "print(sc_result)\n",
    "print(sc_result.shape)"
   ],
   "id": "2ef05adb2852a87f",
   "outputs": [
    {
     "name": "stdout",
     "output_type": "stream",
     "text": [
      "tensor([[[  1.8683,  -9.9205, -53.7532,  ..., -34.9031, -25.7442,  27.3980],\n",
      "         [  5.8661, -43.3718,   8.7512,  ..., -17.7025,  24.0082, -15.6016],\n",
      "         [-36.4253,  17.3069,  32.1225,  ...,   0.3500,   4.0205,  -0.3586],\n",
      "         [ 12.5067, -27.2927,  28.4755,  ...,  14.8137,  27.0996, -36.3107]],\n",
      "\n",
      "        [[ -6.3654,  -0.3239,  10.1940,  ...,  17.6716,  10.8243, -23.9746],\n",
      "         [-22.9475,  -1.1026, -62.2567,  ...,  10.8770,  -1.1748,  -2.2972],\n",
      "         [  0.1446,  -0.2586,  -2.6867,  ..., -20.6134,  26.7857,   7.1709],\n",
      "         [-18.3782, -53.2479,   0.0000,  ...,  15.0879, -35.2131,   9.0532]]],\n",
      "       grad_fn=<AddBackward0>)\n",
      "torch.Size([2, 4, 512])\n"
     ]
    }
   ],
   "execution_count": 42
  },
  {
   "metadata": {
    "ExecuteTime": {
     "end_time": "2025-06-02T03:49:41.689163Z",
     "start_time": "2025-06-02T03:49:41.674693Z"
    }
   },
   "cell_type": "code",
   "source": [
    "class EncoderLayer(nn.Module):\n",
    "    def __init__(self, size, self_attn, feed_forward, dropout):\n",
    "        super(EncoderLayer, self).__init__()\n",
    "\n",
    "        self.self_attn = self_attn\n",
    "        self.feed_forward = feed_forward\n",
    "        self.sublayer = clones(SublayerConnection(size, dropout), 2)\n",
    "        self.size = size\n",
    "\n",
    "    def forward(self, x, mask):\n",
    "        x = self.sublayer[0](x, lambda x: self.self_attn(x, x, x, mask))\n",
    "        return self.sublayer[1](x, self.feed_forward)\n",
    "    \n",
    "size = 512\n",
    "head = 8\n",
    "d_model = 512\n",
    "d_ff = 64\n",
    "x = pe_result\n",
    "dropout = 0.2\n",
    "self_attn = MultiHeadedAttention(head, d_model)\n",
    "ff = PositionwiseFeedForward(d_model, d_ff, dropout)\n",
    "mask = torch.zeros(8, 4, 4)\n",
    "el = EncoderLayer(size, self_attn, ff, dropout)\n",
    "el_result = el(x, mask)"
   ],
   "id": "59e96777edb2515d",
   "outputs": [],
   "execution_count": 43
  },
  {
   "metadata": {
    "ExecuteTime": {
     "end_time": "2025-06-02T03:49:47.952749Z",
     "start_time": "2025-06-02T03:49:47.947832Z"
    }
   },
   "cell_type": "code",
   "source": [
    "print(el_result)\n",
    "print(el_result.shape)"
   ],
   "id": "237a17eb00876c3f",
   "outputs": [
    {
     "name": "stdout",
     "output_type": "stream",
     "text": [
      "tensor([[[  1.6142, -10.1185, -54.0936,  ..., -35.2881, -25.5171,  28.4419],\n",
      "         [  6.0134, -43.8749,   9.0824,  ..., -17.5646,  24.7309, -15.3377],\n",
      "         [-36.0181,  16.9859,  32.3165,  ...,  -0.1422,   4.4427,   0.4878],\n",
      "         [ 12.6800, -27.3127,  28.5214,  ...,  15.7132,  27.3325, -35.5538]],\n",
      "\n",
      "        [[ -6.5169,   0.2837,   9.1411,  ...,  17.7516,  10.6891, -24.0891],\n",
      "         [-23.5296,  -0.7209, -62.2175,  ...,  11.0245,  -1.3479,  -2.5784],\n",
      "         [ -0.7231,  -0.2119,  -3.0494,  ..., -19.6906,  26.7056,   7.9836],\n",
      "         [-18.7973, -52.6466,  -0.2729,  ...,  15.8187, -35.5225,   8.4876]]],\n",
      "       grad_fn=<AddBackward0>)\n",
      "torch.Size([2, 4, 512])\n"
     ]
    }
   ],
   "execution_count": 44
  },
  {
   "metadata": {
    "ExecuteTime": {
     "end_time": "2025-06-02T04:07:07.961303Z",
     "start_time": "2025-06-02T04:07:07.891584Z"
    }
   },
   "cell_type": "code",
   "source": [
    "class Encoder(nn.Module):\n",
    "    def __init__(self, layer, N):\n",
    "        super(Encoder, self).__init__()\n",
    "        self.layers = clones(layer, N)\n",
    "        self.norm = LayerNorm(layer.size)\n",
    "\n",
    "    def forward(self, x, mask):\n",
    "        for layer in self.layers:\n",
    "            x = layer(x, mask)\n",
    "        return self.norm(x)\n",
    "    \n",
    "size = 512\n",
    "head = 8\n",
    "d_model = 512\n",
    "d_ff = 64\n",
    "c = copy.deepcopy\n",
    "attn = MultiHeadedAttention(head, d_model)\n",
    "ff = PositionwiseFeedForward(d_model, d_ff, dropout)\n",
    "dropout = 0.2\n",
    "layer = EncoderLayer(size, c(attn), c(ff), dropout)\n",
    "N = 8\n",
    "mask = torch.zeros(8, 4, 4)\n",
    "en = Encoder(layer, N)\n",
    "en_result = en(x, mask)"
   ],
   "id": "972b53d548174064",
   "outputs": [],
   "execution_count": 45
  },
  {
   "metadata": {
    "ExecuteTime": {
     "end_time": "2025-06-02T04:07:14.783012Z",
     "start_time": "2025-06-02T04:07:14.777442Z"
    }
   },
   "cell_type": "code",
   "source": [
    "print(en_result)\n",
    "print(en_result.shape)"
   ],
   "id": "c0222ced10866f97",
   "outputs": [
    {
     "name": "stdout",
     "output_type": "stream",
     "text": [
      "tensor([[[ 0.0585, -0.5004, -2.4689,  ..., -1.3946, -1.2280,  1.2768],\n",
      "         [ 0.2178, -1.7251,  0.3640,  ..., -0.5514,  0.9293, -0.5553],\n",
      "         [-1.6000,  0.6555,  1.4357,  ...,  0.1924,  0.0907,  0.0782],\n",
      "         [ 0.5332, -1.1503,  1.1982,  ...,  0.7515,  0.8123, -1.4487]],\n",
      "\n",
      "        [[-0.4541, -0.0124,  0.3005,  ...,  0.6693,  0.2244, -0.9769],\n",
      "         [-0.9685, -0.1547, -2.6625,  ...,  0.4529, -0.2911, -0.0931],\n",
      "         [-0.0642, -0.0292, -0.0607,  ..., -0.8330,  0.9658,  0.2504],\n",
      "         [-1.0465, -2.3006,  0.1122,  ...,  0.8008, -1.7585,  0.4501]]],\n",
      "       grad_fn=<AddBackward0>)\n",
      "torch.Size([2, 4, 512])\n"
     ]
    }
   ],
   "execution_count": 46
  },
  {
   "metadata": {
    "ExecuteTime": {
     "end_time": "2025-06-02T07:35:01.579200Z",
     "start_time": "2025-06-02T07:35:01.558523Z"
    }
   },
   "cell_type": "code",
   "source": [
    "class DecoderLayer(nn.Module):\n",
    "    def __init__(self, size, self_attn, src_attn, feed_forward, dropout):\n",
    "        super(DecoderLayer, self).__init__()\n",
    "        self.size = size\n",
    "        self.self_attn = self_attn\n",
    "        self.src_attn = src_attn\n",
    "        self.feed_forward = feed_forward\n",
    "        self.sublayer = clones(SublayerConnection(size, dropout), 3)\n",
    "\n",
    "    def forward(self, x, memory, source_mask, target_mask):\n",
    "        m = memory\n",
    "        x = self.sublayer[0](x, lambda x: self.self_attn(x, x, x, target_mask))\n",
    "        x = self.sublayer[1](x, lambda x: self.src_attn(x, m, m, source_mask))\n",
    "        return self.sublayer[2](x, self.feed_forward)\n",
    "    \n",
    "head = 8\n",
    "size = 512\n",
    "d_model = 512\n",
    "d_ff = 64\n",
    "dropout = 0.2\n",
    "self_attn = src_attn = MultiHeadedAttention(head, d_model, dropout)\n",
    "ff = PositionwiseFeedForward(d_model, d_ff, dropout)\n",
    "x = pe_result\n",
    "memory = en_result\n",
    "mask = torch.zeros(8, 4, 4)\n",
    "source_mask = target_mask = mask\n",
    "dl = DecoderLayer(size, self_attn, src_attn, ff, dropout)\n",
    "dl_result = dl(x, memory, source_mask, target_mask)"
   ],
   "id": "4406b9e940778d87",
   "outputs": [],
   "execution_count": 49
  },
  {
   "metadata": {
    "ExecuteTime": {
     "end_time": "2025-06-02T07:35:03.391595Z",
     "start_time": "2025-06-02T07:35:03.386217Z"
    }
   },
   "cell_type": "code",
   "source": [
    "print(dl_result)\n",
    "print(dl_result.shape)"
   ],
   "id": "8a531aab25a7bec3",
   "outputs": [
    {
     "name": "stdout",
     "output_type": "stream",
     "text": [
      "tensor([[[  1.5069, -10.4655, -53.8795,  ..., -35.1440, -26.3605,  27.3824],\n",
      "         [  5.7965, -43.3231,   8.4166,  ..., -17.0828,  23.2807, -15.5862],\n",
      "         [-36.6930,  17.6205,  32.4596,  ...,   0.1836,   3.2441,  -1.1893],\n",
      "         [ 12.1765, -27.1649,  28.0014,  ...,  15.2165,  26.1366, -36.5590]],\n",
      "\n",
      "        [[ -6.9613,   0.6421,  10.5129,  ...,  17.4891,  10.6688, -24.4351],\n",
      "         [-23.3157,  -1.0833, -61.4666,  ...,  11.2681,  -1.9841,  -2.3310],\n",
      "         [ -0.5233,   0.3544,  -2.0511,  ..., -20.6485,  25.8392,   6.5970],\n",
      "         [-19.3094, -52.3216,   0.6019,  ...,  15.5379, -35.9940,   9.0713]]],\n",
      "       grad_fn=<AddBackward0>)\n",
      "torch.Size([2, 4, 512])\n"
     ]
    }
   ],
   "execution_count": 50
  },
  {
   "metadata": {
    "ExecuteTime": {
     "end_time": "2025-06-02T07:50:43.473631Z",
     "start_time": "2025-06-02T07:50:43.368278Z"
    }
   },
   "cell_type": "code",
   "source": [
    "class Decoder(nn.Module):\n",
    "    def __init__(self, layer, N):\n",
    "        super(Decoder, self).__init__()\n",
    "        self.layers = clones(layer, N)\n",
    "        self.norm = LayerNorm(layer.size)\n",
    "\n",
    "    def forward(self, x, memory, source_mask, target_mask): \n",
    "        for layer in self.layers:\n",
    "            x = layer(x, memory, source_mask, target_mask)\n",
    "        return self.norm(x)\n",
    "    \n",
    "size = 512\n",
    "d_model = 512\n",
    "head = 8\n",
    "d_ff = 64\n",
    "dropout = 0.2\n",
    "c = copy.deepcopy\n",
    "attn = MultiHeadedAttention(head, d_model)\n",
    "ff = PositionwiseFeedForward(d_model, d_ff, dropout)\n",
    "layer = DecoderLayer(d_model, c(attn), c(attn), c(ff), dropout)\n",
    "N = 8\n",
    "x = pe_result\n",
    "memory = en_result\n",
    "mask = torch.zeros(8, 4, 4)\n",
    "source_mask = target_mask = mask\n",
    "de = Decoder(layer, N)\n",
    "de_result = de(x, memory, source_mask, target_mask)"
   ],
   "id": "185d5651a280a2e8",
   "outputs": [],
   "execution_count": 55
  },
  {
   "metadata": {
    "ExecuteTime": {
     "end_time": "2025-06-02T07:50:45.426962Z",
     "start_time": "2025-06-02T07:50:45.420971Z"
    }
   },
   "cell_type": "code",
   "source": [
    "print(de_result)\n",
    "print(de_result.shape)"
   ],
   "id": "1be79f10c5bb74ad",
   "outputs": [
    {
     "name": "stdout",
     "output_type": "stream",
     "text": [
      "tensor([[[ 0.2682, -0.3396, -2.4071,  ..., -1.5155, -1.1057,  1.4718],\n",
      "         [ 0.3611, -1.7485,  0.5689,  ..., -0.5771,  0.9580, -0.1293],\n",
      "         [-1.3628,  0.7147,  1.3933,  ...,  0.1845,  0.1464,  0.3599],\n",
      "         [ 0.6904, -1.1566,  1.3469,  ...,  0.7061,  1.2254, -1.2757]],\n",
      "\n",
      "        [[-0.3197,  0.0409,  0.5749,  ...,  0.7076,  0.1199, -0.9301],\n",
      "         [-0.9353, -0.0034, -2.3883,  ...,  0.5811, -0.3176, -0.0323],\n",
      "         [ 0.0182, -0.1076,  0.0195,  ..., -0.7479,  0.8681,  0.2368],\n",
      "         [-0.8660, -2.2744,  0.2312,  ...,  0.7607, -1.8098,  0.4306]]],\n",
      "       grad_fn=<AddBackward0>)\n",
      "torch.Size([2, 4, 512])\n"
     ]
    }
   ],
   "execution_count": 56
  },
  {
   "metadata": {
    "ExecuteTime": {
     "end_time": "2025-06-02T08:02:55.193737Z",
     "start_time": "2025-06-02T08:02:55.177634Z"
    }
   },
   "cell_type": "code",
   "source": [
    "class Generator(nn.Module):\n",
    "    def __init__(self, d_model, vocab_size):\n",
    "        super(Generator, self).__init__()\n",
    "        self.project = nn.Linear(d_model, vocab_size)\n",
    "\n",
    "    def forward(self, x):\n",
    "        return F.log_softmax(self.project(x), dim=-1)\n",
    "    \n",
    "d_model = 512\n",
    "vocab_size = 1000\n",
    "x = de_result\n",
    "gen = Generator(d_model, vocab_size)\n",
    "gen_result = gen(x)"
   ],
   "id": "5f97b00a73de370a",
   "outputs": [],
   "execution_count": 57
  },
  {
   "metadata": {
    "ExecuteTime": {
     "end_time": "2025-06-02T08:03:04.009162Z",
     "start_time": "2025-06-02T08:03:04.003444Z"
    }
   },
   "cell_type": "code",
   "source": [
    "print(gen_result)\n",
    "print(gen_result.shape)"
   ],
   "id": "918326ae0b3be909",
   "outputs": [
    {
     "name": "stdout",
     "output_type": "stream",
     "text": [
      "tensor([[[-6.3853, -7.8396, -6.1764,  ..., -6.9542, -7.3331, -7.2725],\n",
      "         [-6.3125, -7.6771, -6.5457,  ..., -6.8733, -6.4408, -6.5981],\n",
      "         [-7.8793, -6.6254, -7.2645,  ..., -7.1450, -7.4212, -7.5923],\n",
      "         [-6.8165, -6.3280, -7.0729,  ..., -7.9606, -5.8516, -7.1175]],\n",
      "\n",
      "        [[-6.9081, -6.8635, -6.9039,  ..., -7.3997, -6.4350, -6.7970],\n",
      "         [-6.8936, -7.2516, -6.4175,  ..., -8.6241, -6.5665, -6.1434],\n",
      "         [-6.9152, -6.9909, -6.8430,  ..., -7.2831, -7.0553, -8.0046],\n",
      "         [-7.3220, -6.9406, -6.2439,  ..., -8.0602, -7.1914, -7.4034]]],\n",
      "       grad_fn=<LogSoftmaxBackward0>)\n",
      "torch.Size([2, 4, 1000])\n"
     ]
    }
   ],
   "execution_count": 58
  },
  {
   "metadata": {
    "ExecuteTime": {
     "end_time": "2025-06-02T10:46:16.023971Z",
     "start_time": "2025-06-02T10:46:15.967557Z"
    }
   },
   "cell_type": "code",
   "source": [
    "class EncoderDecoder(nn.Module):\n",
    "    def __init__(self, encoder, decoder, source_embed, target_embed, generator):\n",
    "        super(EncoderDecoder, self).__init__()\n",
    "        self.encoder = encoder\n",
    "        self.decoder = decoder\n",
    "        self.src_embed = source_embed\n",
    "        self.tgt_embed = target_embed\n",
    "        self.generator = generator\n",
    "\n",
    "    def forward(self, source, target, source_mask, target_mask):\n",
    "        return self.decode(self.encode(source, source_mask), \n",
    "                           source_mask, target, target_mask)\n",
    "\n",
    "    def encode(self, source, source_mask):\n",
    "        return self.encoder(self.src_embed(source), \n",
    "                            source_mask)\n",
    "\n",
    "    def decode(self, memory, source_mask, target, target_mask):\n",
    "        return self.decoder(self.tgt_embed(target), \n",
    "                            memory, source_mask, target_mask)\n",
    "    \n",
    "vocab_size = 1000\n",
    "d_model = 512\n",
    "encoder = en\n",
    "decoder = de\n",
    "source_embed = nn.Embedding(vocab_size, d_model)\n",
    "target_embed = nn.Embedding(vocab_size, d_model)\n",
    "generator = gen\n",
    "source = target = torch.LongTensor([[100, 2, 421, 508], [491, 998, 1, 221]])\n",
    "source_mask = target_mask = torch.zeros(8, 4, 4)\n",
    "ed = EncoderDecoder(encoder, decoder, source_embed, target_embed, generator)\n",
    "ed_result = ed(source, target, source_mask, target_mask)"
   ],
   "id": "3e53e235b8418d5b",
   "outputs": [],
   "execution_count": 60
  },
  {
   "metadata": {
    "ExecuteTime": {
     "end_time": "2025-06-02T10:46:19.517023Z",
     "start_time": "2025-06-02T10:46:19.511372Z"
    }
   },
   "cell_type": "code",
   "source": [
    "print(ed_result)\n",
    "print(ed_result.shape)"
   ],
   "id": "815a049b90e65b0b",
   "outputs": [
    {
     "name": "stdout",
     "output_type": "stream",
     "text": [
      "tensor([[[-1.6373, -1.8184,  0.4482,  ...,  0.3209,  0.1814, -0.0418],\n",
      "         [-1.4258, -1.5788,  0.9580,  ...,  0.1062, -0.3385, -0.1972],\n",
      "         [-1.3119, -1.8023,  1.2739,  ..., -0.1019, -0.0505, -0.0551],\n",
      "         [-0.9815, -1.7714,  1.6675,  ...,  0.9195, -0.4957, -0.2650]],\n",
      "\n",
      "        [[-0.2317, -2.7016,  1.1747,  ..., -0.4007,  0.7334,  0.0873],\n",
      "         [-2.0654, -1.4475,  1.1212,  ..., -0.8073,  1.2274,  1.0159],\n",
      "         [-0.4999, -1.9603,  1.0090,  ..., -0.6711,  0.4517,  0.8213],\n",
      "         [-0.5021, -1.9607,  1.4397,  ..., -0.6161, -0.2164,  0.2542]]],\n",
      "       grad_fn=<AddBackward0>)\n",
      "torch.Size([2, 4, 512])\n"
     ]
    }
   ],
   "execution_count": 61
  },
  {
   "metadata": {
    "ExecuteTime": {
     "end_time": "2025-06-02T10:53:25.890808Z",
     "start_time": "2025-06-02T10:53:25.559674Z"
    }
   },
   "cell_type": "code",
   "source": [
    "def make_model(source_vocab, target_vocab, \n",
    "               N=6, d_model=512, d_ff=2048, head=8, dropout=0.1):\n",
    "    c = copy.deepcopy\n",
    "    attn = MultiHeadedAttention(head, d_model)\n",
    "    ff = PositionwiseFeedForward(d_model, d_ff, dropout)\n",
    "    position = PositionalEncoding(d_model, dropout)\n",
    "    model = EncoderDecoder(\n",
    "        Encoder(EncoderLayer(d_model, c(attn), c(ff), dropout), \n",
    "                N),\n",
    "        Decoder(DecoderLayer(d_model, c(attn), c(attn), c(ff), dropout), \n",
    "                N),\n",
    "        nn.Sequential(Embeddings(d_model, source_vocab), c(position)),\n",
    "        nn.Sequential(Embeddings(d_model, target_vocab), c(position)),\n",
    "        Generator(d_model, target_vocab))\n",
    "\n",
    "    for p in model.parameters():\n",
    "        if p.dim() > 1:\n",
    "            nn.init.xavier_uniform_(p)\n",
    "    return model\n",
    "\n",
    "source_vocab = 11\n",
    "target_vocab = 11 \n",
    "N = 6\n",
    "res = make_model(source_vocab, target_vocab, N)\n",
    "print(res)"
   ],
   "id": "f1b68d6754a0178b",
   "outputs": [
    {
     "name": "stdout",
     "output_type": "stream",
     "text": [
      "EncoderDecoder(\n",
      "  (encoder): Encoder(\n",
      "    (layers): ModuleList(\n",
      "      (0-5): 6 x EncoderLayer(\n",
      "        (self_attn): MultiHeadedAttention(\n",
      "          (linears): ModuleList(\n",
      "            (0-3): 4 x Linear(in_features=512, out_features=512, bias=True)\n",
      "          )\n",
      "          (dropout): Dropout(p=0.1, inplace=False)\n",
      "        )\n",
      "        (feed_forward): PositionwiseFeedForward(\n",
      "          (w1): Linear(in_features=512, out_features=2048, bias=True)\n",
      "          (w2): Linear(in_features=2048, out_features=512, bias=True)\n",
      "          (dropout): Dropout(p=0.1, inplace=False)\n",
      "        )\n",
      "        (sublayer): ModuleList(\n",
      "          (0-1): 2 x SublayerConnection(\n",
      "            (norm): LayerNorm()\n",
      "            (dropout): Dropout(p=0.1, inplace=False)\n",
      "          )\n",
      "        )\n",
      "      )\n",
      "    )\n",
      "    (norm): LayerNorm()\n",
      "  )\n",
      "  (decoder): Decoder(\n",
      "    (layers): ModuleList(\n",
      "      (0-5): 6 x DecoderLayer(\n",
      "        (self_attn): MultiHeadedAttention(\n",
      "          (linears): ModuleList(\n",
      "            (0-3): 4 x Linear(in_features=512, out_features=512, bias=True)\n",
      "          )\n",
      "          (dropout): Dropout(p=0.1, inplace=False)\n",
      "        )\n",
      "        (src_attn): MultiHeadedAttention(\n",
      "          (linears): ModuleList(\n",
      "            (0-3): 4 x Linear(in_features=512, out_features=512, bias=True)\n",
      "          )\n",
      "          (dropout): Dropout(p=0.1, inplace=False)\n",
      "        )\n",
      "        (feed_forward): PositionwiseFeedForward(\n",
      "          (w1): Linear(in_features=512, out_features=2048, bias=True)\n",
      "          (w2): Linear(in_features=2048, out_features=512, bias=True)\n",
      "          (dropout): Dropout(p=0.1, inplace=False)\n",
      "        )\n",
      "        (sublayer): ModuleList(\n",
      "          (0-2): 3 x SublayerConnection(\n",
      "            (norm): LayerNorm()\n",
      "            (dropout): Dropout(p=0.1, inplace=False)\n",
      "          )\n",
      "        )\n",
      "      )\n",
      "    )\n",
      "    (norm): LayerNorm()\n",
      "  )\n",
      "  (src_embed): Sequential(\n",
      "    (0): Embeddings(\n",
      "      (lut): Embedding(11, 512)\n",
      "    )\n",
      "    (1): PositionalEncoding(\n",
      "      (dropout): Dropout(p=0.1, inplace=False)\n",
      "    )\n",
      "  )\n",
      "  (tgt_embed): Sequential(\n",
      "    (0): Embeddings(\n",
      "      (lut): Embedding(11, 512)\n",
      "    )\n",
      "    (1): PositionalEncoding(\n",
      "      (dropout): Dropout(p=0.1, inplace=False)\n",
      "    )\n",
      "  )\n",
      "  (generator): Generator(\n",
      "    (project): Linear(in_features=512, out_features=11, bias=True)\n",
      "  )\n",
      ")\n"
     ]
    }
   ],
   "execution_count": 63
  },
  {
   "metadata": {},
   "cell_type": "code",
   "outputs": [],
   "execution_count": null,
   "source": "",
   "id": "cc9b95ca5e6a2a"
  }
 ],
 "metadata": {
  "kernelspec": {
   "display_name": "Python 3",
   "language": "python",
   "name": "python3"
  },
  "language_info": {
   "codemirror_mode": {
    "name": "ipython",
    "version": 2
   },
   "file_extension": ".py",
   "mimetype": "text/x-python",
   "name": "python",
   "nbconvert_exporter": "python",
   "pygments_lexer": "ipython2",
   "version": "2.7.6"
  }
 },
 "nbformat": 4,
 "nbformat_minor": 5
}
