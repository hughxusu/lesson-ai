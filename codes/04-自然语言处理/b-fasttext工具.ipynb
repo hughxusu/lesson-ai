{
 "cells": [
  {
   "metadata": {
    "ExecuteTime": {
     "end_time": "2025-06-05T01:04:03.765860Z",
     "start_time": "2025-06-05T01:04:02.619140Z"
    }
   },
   "cell_type": "code",
   "source": [
    "import os\n",
    "import kagglehub\n",
    "\n",
    "os.environ[\"KAGGLEHUB_CACHE\"] = \"./data/\"  # 指定下载路径\n",
    "path = kagglehub.dataset_download(\"lakshmi25npathi/imdb-dataset-of-50k-movie-reviews\")\n",
    "print(\"Path to dataset files:\", path)  "
   ],
   "id": "dc262305442df02e",
   "outputs": [
    {
     "name": "stdout",
     "output_type": "stream",
     "text": [
      "Path to dataset files: ./data/datasets/lakshmi25npathi/imdb-dataset-of-50k-movie-reviews/versions/1\n"
     ]
    }
   ],
   "execution_count": 1
  },
  {
   "metadata": {
    "ExecuteTime": {
     "end_time": "2025-06-03T08:03:29.878325Z",
     "start_time": "2025-06-03T08:03:26.705601Z"
    }
   },
   "cell_type": "code",
   "source": [
    "import pandas as pd\n",
    "\n",
    "def csv_to_fasttext(input_csv, output_file):\n",
    "    df = pd.read_csv(input_csv)\n",
    "    \n",
    "    with open(output_file, \"w\", encoding=\"utf-8\") as f:\n",
    "        for _, row in df.iterrows():\n",
    "            label = f\"__label__{row['sentiment']}\"\n",
    "            text = row['review'].replace(\"\\n\", \" \").strip()\n",
    "            f.write(f\"{label} {text}\\n\")\n",
    "\n",
    "output_file = \"./data/imdb_fasttext.txt\"\n",
    "csv_to_fasttext(\n",
    "    input_csv=f\"{path}/IMDB Dataset.csv\",  \n",
    "    output_file=output_file \n",
    ")"
   ],
   "id": "4736717249fe44bd",
   "outputs": [],
   "execution_count": 10
  },
  {
   "metadata": {
    "ExecuteTime": {
     "end_time": "2025-06-03T08:04:57.020455Z",
     "start_time": "2025-06-03T08:04:56.579641Z"
    }
   },
   "cell_type": "code",
   "source": [
    "import random\n",
    "\n",
    "with open(output_file, \"r\", encoding=\"utf-8\") as f:\n",
    "    lines = f.readlines()\n",
    "\n",
    "random.shuffle(lines)\n",
    "split_idx = int(0.8 * len(lines))\n",
    "\n",
    "train_file = \"./data/imdb_train.txt\"\n",
    "valid_file = \"./data/imdb_valid.txt\"\n",
    "\n",
    "with open(train_file, \"w\", encoding=\"utf-8\") as f_train:\n",
    "    f_train.writelines(lines[:split_idx])\n",
    "    \n",
    "with open(valid_file, \"w\", encoding=\"utf-8\") as f_valid:\n",
    "    f_valid.writelines(lines[split_idx:])"
   ],
   "id": "ca6b21d830bb6afe",
   "outputs": [],
   "execution_count": 12
  },
  {
   "metadata": {
    "ExecuteTime": {
     "end_time": "2025-06-03T08:07:22.432167Z",
     "start_time": "2025-06-03T08:06:56.194037Z"
    }
   },
   "cell_type": "code",
   "source": [
    "import fasttext\n",
    "\n",
    "model = fasttext.train_supervised(\n",
    "    input=train_file,\n",
    "    epoch=25,          # 迭代次数\n",
    "    lr=0.5,            # 学习率\n",
    "    wordNgrams=2,      # 使用2-gram特征\n",
    "    dim=100,           # 词向量维度\n",
    "    loss='ova'         # 二分类推荐One-vs-All\n",
    ")"
   ],
   "id": "c72dec2107d9aa1f",
   "outputs": [
    {
     "name": "stderr",
     "output_type": "stream",
     "text": [
      "Read 9M words\n",
      "Number of words:  383007\n",
      "Number of labels: 2\n",
      "Progress: 100.0% words/sec/thread:  880067 lr:  0.000000 avg.loss:  0.097113 ETA:   0h 0m 0s  9.6% words/sec/thread:  991839 lr:  0.451998 avg.loss:  0.687160 ETA:   0h 0m19s\n"
     ]
    }
   ],
   "execution_count": 15
  },
  {
   "metadata": {
    "ExecuteTime": {
     "end_time": "2025-06-03T08:07:26.947518Z",
     "start_time": "2025-06-03T08:07:26.064440Z"
    }
   },
   "cell_type": "code",
   "source": "print(\"验证集性能:\", model.test(valid_file))",
   "id": "bb4e4255f5337df2",
   "outputs": [
    {
     "name": "stdout",
     "output_type": "stream",
     "text": [
      "验证集性能: (10000, 0.898, 0.898)\n"
     ]
    }
   ],
   "execution_count": 16
  },
  {
   "metadata": {
    "ExecuteTime": {
     "end_time": "2025-06-03T08:07:54.959155Z",
     "start_time": "2025-06-03T08:07:52.310334Z"
    }
   },
   "cell_type": "code",
   "source": [
    "model_path = \"./data/imdb_model.bin\"\n",
    "model.save_model(model_path)  "
   ],
   "id": "85a33609c8295cfe",
   "outputs": [],
   "execution_count": 17
  },
  {
   "metadata": {
    "ExecuteTime": {
     "end_time": "2025-06-03T08:11:14.771566Z",
     "start_time": "2025-06-03T08:11:12.686275Z"
    }
   },
   "cell_type": "code",
   "source": [
    "loaded_model = fasttext.load_model(model_path)\n",
    "text = \"This movie was a brilliant portrayal of human resilience\"\n",
    "labels, probs = loaded_model.predict(text, k=2)  # k=2返回前2个预测\n",
    "print(f\"预测: {labels[0]} (置信度: {probs[0]:.2f})\")"
   ],
   "id": "8d9607528249b6d7",
   "outputs": [
    {
     "name": "stdout",
     "output_type": "stream",
     "text": [
      "预测: __label__positive (置信度: 1.00)\n"
     ]
    }
   ],
   "execution_count": 20
  },
  {
   "metadata": {
    "ExecuteTime": {
     "end_time": "2025-06-05T01:04:12.075471Z",
     "start_time": "2025-06-05T01:04:10.511607Z"
    }
   },
   "cell_type": "code",
   "source": [
    "os.environ[\"KAGGLEHUB_CACHE\"] = \"./data/\"\n",
    "path = kagglehub.dataset_download(\"hughxusu/thucnewsyuletrainingwords\")\n",
    "\n",
    "print(\"Path to dataset files:\", path)"
   ],
   "id": "73dd151f2aa3ce69",
   "outputs": [
    {
     "name": "stdout",
     "output_type": "stream",
     "text": [
      "Path to dataset files: ./data/datasets/hughxusu/thucnewsyuletrainingwords/versions/1\n"
     ]
    }
   ],
   "execution_count": 2
  },
  {
   "metadata": {
    "ExecuteTime": {
     "end_time": "2025-06-05T01:14:30.931625Z",
     "start_time": "2025-06-05T01:04:15.319841Z"
    }
   },
   "cell_type": "code",
   "source": [
    "import fasttext\n",
    "\n",
    "input_file = f\"{path}/THUCNews_yule.txt\"\n",
    "model = fasttext.train_unsupervised(\n",
    "    input=input_file,\n",
    "    model='skipgram',  # 可以是'skipgram'或'cbow'\n",
    "    dim=300,           # 词向量维度\n",
    "    ws=5,              # 上下文窗口大小\n",
    "    epoch=5,           # 训练轮数\n",
    "    minCount=5,        # 最小词频\n",
    ")"
   ],
   "id": "945c2273d3f8a4a5",
   "outputs": [
    {
     "name": "stderr",
     "output_type": "stream",
     "text": [
      "Read 35M words\n",
      "Number of words:  135377\n",
      "Number of labels: 0\n",
      "Progress: 100.0% words/sec/thread:   26677 lr:  0.000000 avg.loss:  1.151860 ETA:   0h 0m 0s\r1.940292 ETA:   0h 8m23s 18.7% words/sec/thread:   27860 lr:  0.040638 avg.loss:  1.911608 ETA:   0h 7m55s 20.5% words/sec/thread:   27432 lr:  0.039745 avg.loss:  1.907373 ETA:   0h 7m51s 22.4% words/sec/thread:   26729 lr:  0.038784 avg.loss:  1.901894 ETA:   0h 7m52s 26.4% words/sec/thread:   26429 lr:  0.036801 avg.loss:  1.892128 ETA:   0h 7m33s 29.2% words/sec/thread:   26500 lr:  0.035383 avg.loss:  1.862262 ETA:   0h 7m14s 30.3% words/sec/thread:   26483 lr:  0.034846 avg.loss:  1.850049 ETA:   0h 7m 8s 32.3% words/sec/thread:   26393 lr:  0.033825 avg.loss:  1.828202 ETA:   0h 6m57s 32.6% words/sec/thread:   26402 lr:  0.033679 avg.loss:  1.825910 ETA:   0h 6m55s 36.3% words/sec/thread:   26346 lr:  0.031851 avg.loss:  1.793900 ETA:   0h 6m33s 43.9% words/sec/thread:   26186 lr:  0.028067 avg.loss:  1.745266 ETA:   0h 5m49s 47.9% words/sec/thread:   26294 lr:  0.026043 avg.loss:  1.723063 ETA:   0h 5m22sProgress:  49.0% words/sec/thread:   26331 lr:  0.025498 avg.loss:  1.718085 ETA:   0h 5m15s 49.8% words/sec/thread:   26366 lr:  0.025100 avg.loss:  1.714374 ETA:   0h 5m10s 51.9% words/sec/thread:   26428 lr:  0.024059 avg.loss:  1.704917 ETA:   0h 4m56s% words/sec/thread:   26468 lr:  0.023581 avg.loss:  1.700755 ETA:   0h 4m50s 55.6% words/sec/thread:   26545 lr:  0.022194 avg.loss:  1.689316 ETA:   0h 4m32s 56.4% words/sec/thread:   26466 lr:  0.021797 avg.loss:  1.686490 ETA:   0h 4m28s 58.8% words/sec/thread:   26449 lr:  0.020583 avg.loss:  1.677470 ETA:   0h 4m13s 59.0% words/sec/thread:   26452 lr:  0.020523 avg.loss:  1.677047 ETA:   0h 4m12s 66.1% words/sec/thread:   26386 lr:  0.016937 avg.loss:  1.571573 ETA:   0h 3m29sProgress:  69.2% words/sec/thread:   26408 lr:  0.015400 avg.loss:  1.517766 ETA:   0h 3m 9s 70.4% words/sec/thread:   26441 lr:  0.014786 avg.loss:  1.497473 ETA:   0h 3m 2s 72.4% words/sec/thread:   26499 lr:  0.013788 avg.loss:  1.466010 ETA:   0h 2m49s 77.5% words/sec/thread:   26514 lr:  0.011272 avg.loss:  1.393703 ETA:   0h 2m18s 84.5% words/sec/thread:   26601 lr:  0.007747 avg.loss:  1.304949 ETA:   0h 1m34s 87.2% words/sec/thread:   26514 lr:  0.006406 avg.loss:  1.274849 ETA:   0h 1m18s 95.0% words/sec/thread:   26608 lr:  0.002514 avg.loss:  1.196386 ETA:   0h 0m30s 97.4% words/sec/thread:   26642 lr:  0.001311 avg.loss:  1.174520 ETA:   0h 0m16s\n"
     ]
    }
   ],
   "execution_count": 3
  },
  {
   "metadata": {
    "ExecuteTime": {
     "end_time": "2025-06-05T01:16:55.336681Z",
     "start_time": "2025-06-05T01:16:46.500099Z"
    }
   },
   "cell_type": "code",
   "source": [
    "output_model = \"./data/THUCNews_yule.bin\"\n",
    "model.save_model(output_model)"
   ],
   "id": "e75026bf8a6a6b46",
   "outputs": [],
   "execution_count": 4
  },
  {
   "metadata": {
    "ExecuteTime": {
     "end_time": "2025-06-05T01:20:24.130961Z",
     "start_time": "2025-06-05T01:20:17.956986Z"
    }
   },
   "cell_type": "code",
   "source": "loaded_word_model = fasttext.load_model(\"./data/THUCNews_yule.bin\")",
   "id": "8888843f9ff5eae",
   "outputs": [],
   "execution_count": 5
  },
  {
   "metadata": {
    "ExecuteTime": {
     "end_time": "2025-06-05T01:22:37.581253Z",
     "start_time": "2025-06-05T01:22:37.573499Z"
    }
   },
   "cell_type": "code",
   "source": "loaded_word_model.get_word_vector(\"演唱会\")",
   "id": "6d69cc24a45ba9a6",
   "outputs": [
    {
     "data": {
      "text/plain": [
       "array([-1.36941954e-01, -6.91107959e-02, -4.50979322e-01, -1.00790765e-02,\n",
       "       -1.79097299e-02,  5.43925762e-02, -1.65300652e-01,  4.95170578e-02,\n",
       "       -1.37026059e-02, -1.96755417e-02,  1.99646518e-01, -3.60187322e-01,\n",
       "       -2.76700258e-01, -2.08970562e-01,  2.20449399e-02,  1.38366967e-01,\n",
       "        1.94086999e-01,  1.01207010e-01,  2.71101326e-01, -5.47323301e-02,\n",
       "       -2.85441786e-01,  3.47651780e-01, -1.98001012e-01, -9.02976543e-02,\n",
       "       -4.94873673e-01, -4.05424744e-01,  4.88335937e-02, -3.07663679e-01,\n",
       "        2.97929764e-01,  4.82776612e-02, -1.52842730e-01, -1.75745875e-01,\n",
       "        3.39250594e-01, -1.07334882e-01, -2.02305630e-01, -5.56828417e-02,\n",
       "       -1.82944462e-01, -1.00628540e-01,  5.50660118e-02,  2.58158088e-01,\n",
       "       -2.21999250e-02, -9.45993885e-03,  2.82346398e-01, -1.29430637e-01,\n",
       "        1.47254333e-01, -1.01202711e-01,  5.69567978e-02, -2.49726847e-01,\n",
       "        3.04114491e-01,  5.59997149e-02, -3.19920659e-01, -3.45625430e-01,\n",
       "       -2.95162834e-02, -1.41336158e-01,  1.16283752e-01,  3.22558403e-01,\n",
       "       -1.24401726e-01,  3.26225907e-01, -3.46596807e-01,  6.27206415e-02,\n",
       "        5.85922711e-02, -1.35989547e-01, -1.03231937e-01, -2.46215761e-01,\n",
       "        5.64067997e-02, -2.15646803e-01,  4.26251739e-02,  4.85392548e-02,\n",
       "        2.62117922e-01,  2.18692496e-01,  2.59259135e-01, -1.07218154e-01,\n",
       "       -2.15997770e-01, -1.27718776e-01,  1.40337750e-01,  1.09526895e-01,\n",
       "       -4.09409076e-01, -2.16637760e-01,  6.13142140e-02, -3.85359019e-01,\n",
       "       -1.13477990e-01,  1.97863892e-01, -1.86396375e-01, -3.58223543e-02,\n",
       "        8.27778727e-02, -4.52142730e-02,  1.25137448e-01, -4.45011482e-02,\n",
       "       -6.38115764e-01, -2.73864508e-01,  6.35329410e-02, -4.79243577e-01,\n",
       "       -1.71867460e-01,  1.31516248e-01, -2.76038110e-01,  1.18750043e-01,\n",
       "        5.80876097e-02,  8.52918848e-02,  1.10884190e-01, -2.52645671e-01,\n",
       "       -2.64064837e-02,  3.28881472e-01, -8.56286660e-02, -2.10271209e-01,\n",
       "        3.43168527e-02, -1.85801804e-01,  9.90737006e-02,  1.37584005e-02,\n",
       "       -5.88256866e-02, -2.12190494e-01,  1.75485954e-01, -4.23410505e-01,\n",
       "       -4.90280474e-03, -8.40141326e-02, -5.22223376e-02,  1.23065248e-01,\n",
       "       -4.82689947e-01,  7.41078854e-02,  5.54152243e-02, -2.00259268e-01,\n",
       "       -2.44730264e-01,  1.91518933e-01,  1.73370764e-01,  2.31183082e-01,\n",
       "       -4.12818521e-01, -5.05795404e-02, -2.79615517e-03,  1.44074947e-01,\n",
       "        1.45462722e-01, -3.01062223e-03,  2.09757045e-01, -6.16523139e-02,\n",
       "       -5.03157526e-02, -1.86181411e-01,  2.98674285e-01, -1.88266218e-01,\n",
       "       -1.21510262e-02, -2.89756924e-01,  1.89814508e-01,  5.41444123e-02,\n",
       "       -3.25324595e-01, -3.61053675e-01, -1.20041333e-01, -1.59027278e-01,\n",
       "       -3.16743672e-01,  6.31852001e-02,  1.25866383e-01,  1.37523174e-01,\n",
       "       -2.11094037e-01,  2.84235422e-02, -1.54120594e-01,  4.43292484e-02,\n",
       "        6.30059466e-02, -6.32654205e-02,  5.13750538e-02, -6.26747906e-02,\n",
       "       -1.34371649e-02, -2.69260019e-01,  7.91928470e-02, -2.30770662e-01,\n",
       "       -2.16718331e-01,  3.44061822e-01,  2.02586949e-01, -6.21690862e-02,\n",
       "        3.00319076e-01,  1.50808334e-01, -1.18219834e-02, -2.18200490e-01,\n",
       "       -4.22867686e-02,  1.33524463e-01, -2.25241244e-01,  2.52773732e-01,\n",
       "       -9.46321785e-02, -1.56664178e-01, -1.05465144e-01,  1.48814946e-01,\n",
       "        1.58923239e-01, -1.97895661e-01,  1.85462162e-02, -1.20855913e-01,\n",
       "        2.32727844e-02, -1.84838418e-02, -2.05281228e-01, -1.11136802e-01,\n",
       "       -9.39012542e-02,  1.32034928e-01, -3.81864794e-02, -2.39474073e-01,\n",
       "        8.29410404e-02,  3.56158704e-01, -4.10567880e-01, -1.34080097e-01,\n",
       "        4.57351118e-01, -4.27946419e-01,  9.28661004e-02, -6.54701054e-01,\n",
       "        2.17912272e-02,  1.89646348e-01,  3.46353471e-01, -3.39896739e-01,\n",
       "       -1.42650843e-01,  2.13913932e-01,  9.75960717e-02, -2.12679759e-01,\n",
       "       -2.44332701e-01, -1.40231252e-01, -1.65352583e-01, -9.15158242e-02,\n",
       "        2.07244784e-01, -5.48891462e-02, -2.22036496e-01, -2.39316583e-01,\n",
       "       -1.22733414e-01,  1.06322072e-01, -3.92417088e-02,  9.39655602e-02,\n",
       "        1.44908980e-01, -1.71162263e-02, -3.09655666e-01, -3.46097350e-01,\n",
       "       -3.00702527e-02,  2.48397946e-01, -2.04912424e-02, -4.12913889e-01,\n",
       "        5.18635698e-02,  1.20860755e-01,  1.50374919e-01, -5.62199566e-04,\n",
       "       -1.32035553e-01, -7.46902451e-02, -1.36345312e-01, -7.24124089e-02,\n",
       "        2.08164260e-01,  1.05114197e-02,  2.12559998e-01, -1.76361799e-02,\n",
       "        4.71395105e-02,  2.65235841e-01, -1.16504744e-01, -2.78819084e-01,\n",
       "       -2.21664310e-01, -4.73081142e-01,  1.05647616e-01, -3.32850143e-02,\n",
       "       -2.98417985e-01,  8.16084445e-03,  2.89222717e-01, -3.42573285e-01,\n",
       "        2.29119565e-02,  2.14944884e-01,  7.71066770e-02, -6.99929893e-02,\n",
       "       -3.67917717e-01, -3.69753629e-01, -2.31481701e-01,  6.90819398e-02,\n",
       "       -2.45506123e-01, -3.50903839e-01,  2.43798986e-01, -5.85562326e-02,\n",
       "        1.29861519e-01, -1.91793606e-01,  3.51494014e-01,  4.28716540e-01,\n",
       "       -1.13825634e-01,  2.96127945e-01,  6.53889775e-02, -7.17451423e-02,\n",
       "       -1.13124616e-01, -2.57889717e-03,  9.54227298e-02,  3.61363977e-01,\n",
       "       -1.33756086e-01,  1.57048211e-01,  4.11091000e-01,  3.79922420e-01,\n",
       "        3.33747417e-01,  6.86881840e-02, -3.44451576e-01, -3.14480305e-01,\n",
       "        2.36287534e-01, -9.38692614e-02,  5.13268728e-03,  1.03576183e-02,\n",
       "        3.25205892e-01, -3.45738009e-02,  2.21173674e-01,  5.39263934e-02,\n",
       "       -1.00927785e-01,  2.47440413e-01, -3.43808383e-01, -1.06952213e-01,\n",
       "        2.23139346e-01, -6.32419884e-02, -1.81269318e-01, -3.10243387e-02,\n",
       "       -4.05582041e-01, -1.08735226e-01, -2.50275314e-01,  4.57589552e-02],\n",
       "      dtype=float32)"
      ]
     },
     "execution_count": 7,
     "metadata": {},
     "output_type": "execute_result"
    }
   ],
   "execution_count": 7
  },
  {
   "metadata": {
    "ExecuteTime": {
     "end_time": "2025-06-05T01:24:25.194748Z",
     "start_time": "2025-06-05T01:24:21.893354Z"
    }
   },
   "cell_type": "code",
   "source": "loaded_word_model.get_nearest_neighbors(\"演唱会\")",
   "id": "8bde899ee0fac006",
   "outputs": [
    {
     "data": {
      "text/plain": [
       "[(0.7165132761001587, '巡回演唱'),\n",
       " (0.6898350715637207, '开唱'),\n",
       " (0.6895934343338013, '个唱会'),\n",
       " (0.6618766784667969, '安可场'),\n",
       " (0.6557812690734863, 'LIVEDVD'),\n",
       " (0.6470138430595398, '踏红馆'),\n",
       " (0.646662712097168, '独唱会'),\n",
       " (0.6439158320426941, '音乐会'),\n",
       " (0.6410515308380127, '一忆莲'),\n",
       " (0.6387121081352234, '进红馆')]"
      ]
     },
     "execution_count": 12,
     "metadata": {},
     "output_type": "execute_result"
    }
   ],
   "execution_count": 12
  },
  {
   "metadata": {
    "ExecuteTime": {
     "end_time": "2025-06-05T01:24:36.594815Z",
     "start_time": "2025-06-05T01:24:36.528613Z"
    }
   },
   "cell_type": "code",
   "source": "loaded_word_model.get_nearest_neighbors(\"粉丝\")",
   "id": "cf05dbcf5e0eccc2",
   "outputs": [
    {
     "data": {
      "text/plain": [
       "[(0.6937841773033142, '歌迷'),\n",
       " (0.671504020690918, '影迷'),\n",
       " (0.6690942645072937, 'fans'),\n",
       " (0.6440088748931885, 'Fans'),\n",
       " (0.6379040479660034, '庚饭'),\n",
       " (0.6054631471633911, '步迷'),\n",
       " (0.5840657949447632, 'FANS'),\n",
       " (0.580436110496521, '庚饭们'),\n",
       " (0.5663548707962036, '笔亲们'),\n",
       " (0.5612307786941528, '逾千')]"
      ]
     },
     "execution_count": 14,
     "metadata": {},
     "output_type": "execute_result"
    }
   ],
   "execution_count": 14
  },
  {
   "metadata": {
    "ExecuteTime": {
     "end_time": "2025-06-05T02:02:40.981161Z",
     "start_time": "2025-06-05T02:02:40.917630Z"
    }
   },
   "cell_type": "code",
   "source": "loaded_word_model.get_nearest_neighbors(\"周杰伦\")",
   "id": "54ae5f8d217efe06",
   "outputs": [
    {
     "data": {
      "text/plain": [
       "[(0.8326612710952759, '周董'),\n",
       " (0.6159330010414124, '杰伦'),\n",
       " (0.5920110940933228, '蔡依林'),\n",
       " (0.5822582244873047, '退罗志祥'),\n",
       " (0.5650357604026794, '刺陵'),\n",
       " (0.5632564425468445, '王力宏'),\n",
       " (0.5565342307090759, '罗康妮'),\n",
       " (0.5519910454750061, '刺陵时'),\n",
       " (0.5510969161987305, 'Jay'),\n",
       " (0.5508455634117126, '江语晨')]"
      ]
     },
     "execution_count": 22,
     "metadata": {},
     "output_type": "execute_result"
    }
   ],
   "execution_count": 22
  },
  {
   "metadata": {},
   "cell_type": "code",
   "source": [
    "from fasttext import util\n",
    "util.download_model('zh', if_exists='ignore')"
   ],
   "id": "664d21a9a7483683",
   "outputs": [],
   "execution_count": null
  },
  {
   "metadata": {},
   "cell_type": "code",
   "outputs": [],
   "execution_count": null,
   "source": [
    "model = fasttext.load_model(\"cc.zh.300.bin\")\n",
    "model.words[:100]\n",
    "loaded_word_model.get_nearest_neighbors(\"演唱会\")\n",
    "loaded_word_model.get_nearest_neighbors(\"粉丝\")\n",
    "loaded_word_model.get_nearest_neighbors(\"周杰伦\")"
   ],
   "id": "6e2515eb01189108"
  }
 ],
 "metadata": {
  "kernelspec": {
   "display_name": "Python 3",
   "language": "python",
   "name": "python3"
  },
  "language_info": {
   "codemirror_mode": {
    "name": "ipython",
    "version": 2
   },
   "file_extension": ".py",
   "mimetype": "text/x-python",
   "name": "python",
   "nbconvert_exporter": "python",
   "pygments_lexer": "ipython2",
   "version": "2.7.6"
  }
 },
 "nbformat": 4,
 "nbformat_minor": 5
}
