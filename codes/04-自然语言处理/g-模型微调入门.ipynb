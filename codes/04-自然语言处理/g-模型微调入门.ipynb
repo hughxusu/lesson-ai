{
 "cells": [
  {
   "cell_type": "code",
   "id": "initial_id",
   "metadata": {
    "collapsed": true,
    "ExecuteTime": {
     "end_time": "2025-08-05T05:01:39.978452Z",
     "start_time": "2025-08-05T05:01:32.766005Z"
    }
   },
   "source": [
    "from datasets import load_dataset\n",
    "\n",
    "dataset = load_dataset(\"Yelp/yelp_review_full\", cache_dir=\"./data/hf/datasets\")\n",
    "print(dataset)"
   ],
   "outputs": [
    {
     "name": "stdout",
     "output_type": "stream",
     "text": [
      "DatasetDict({\n",
      "    train: Dataset({\n",
      "        features: ['label', 'text'],\n",
      "        num_rows: 650000\n",
      "    })\n",
      "    test: Dataset({\n",
      "        features: ['label', 'text'],\n",
      "        num_rows: 50000\n",
      "    })\n",
      "})\n"
     ]
    }
   ],
   "execution_count": 1
  },
  {
   "metadata": {
    "ExecuteTime": {
     "end_time": "2025-08-05T05:01:42.978995Z",
     "start_time": "2025-08-05T05:01:42.975963Z"
    }
   },
   "cell_type": "code",
   "source": "print(dataset[\"train\"][0])",
   "id": "67abfc2d54463ee0",
   "outputs": [
    {
     "name": "stdout",
     "output_type": "stream",
     "text": [
      "{'label': 4, 'text': \"dr. goldberg offers everything i look for in a general practitioner.  he's nice and easy to talk to without being patronizing; he's always on time in seeing his patients; he's affiliated with a top-notch hospital (nyu) which my parents have explained to me is very important in case something happens and you need surgery; and you can get referrals to see specialists without having to see him first.  really, what more do you need?  i'm sitting here trying to think of any complaints i have about him, but i'm really drawing a blank.\"}\n"
     ]
    }
   ],
   "execution_count": 2
  },
  {
   "metadata": {
    "ExecuteTime": {
     "end_time": "2025-08-05T05:01:45.828114Z",
     "start_time": "2025-08-05T05:01:45.819443Z"
    }
   },
   "cell_type": "code",
   "source": [
    "import random\n",
    "import pandas as pd\n",
    "import datasets\n",
    "from IPython.display import display, HTML\n",
    "\n",
    "def show_random_elements(dataset, num_examples=10):\n",
    "    assert num_examples <= len(dataset), \"Can't pick more elements than there are in the dataset.\"\n",
    "    picks = []\n",
    "    for _ in range(num_examples):\n",
    "        pick = random.randint(0, len(dataset)-1)\n",
    "        while pick in picks:\n",
    "            pick = random.randint(0, len(dataset)-1)\n",
    "        picks.append(pick)\n",
    "\n",
    "    df = pd.DataFrame(dataset[picks])\n",
    "    for column, typ in dataset.features.items():\n",
    "        if isinstance(typ, datasets.ClassLabel):\n",
    "            df[column] = df[column].transform(lambda i: typ.names[i])\n",
    "    display(HTML(df.to_html()))\n",
    "\n",
    "show_random_elements(dataset[\"train\"])"
   ],
   "id": "79dbed5cc7dc89a7",
   "outputs": [
    {
     "data": {
      "text/plain": [
       "<IPython.core.display.HTML object>"
      ],
      "text/html": [
       "<table border=\"1\" class=\"dataframe\">\n",
       "  <thead>\n",
       "    <tr style=\"text-align: right;\">\n",
       "      <th></th>\n",
       "      <th>label</th>\n",
       "      <th>text</th>\n",
       "    </tr>\n",
       "  </thead>\n",
       "  <tbody>\n",
       "    <tr>\n",
       "      <th>0</th>\n",
       "      <td>1 star</td>\n",
       "      <td>This is by far the skankiest, worst, most dubious Walmart in the Valley. I'd rather go without than step foot into this store. It's always more crowded than usual (Walmarts suck! Plan to stand in line FOREVER!) but this one takes the cake. From the throngs of people too fat to walk motoring around on their scooters (Hey, I'm calling it like I see it, hate me if you want), people clogging up the already enflamed lines by price matching 10 different grocery store ads, to paying for conveyor belts brimming with flaming hot Cheetos, candy, Powerade and other various almost non-food items with food stamps, to gang bangers and cursing teenagers in line giving me the stink eye (why does no one care to curb their profanity in front of kids anymore?) to employees who can't direct me to the simplest things, I HATE THIS STORE. Please, dear God, corporate moguls hear my plea, open a Super Target in Laveen.</td>\n",
       "    </tr>\n",
       "    <tr>\n",
       "      <th>1</th>\n",
       "      <td>5 stars</td>\n",
       "      <td>This is basically for Shaina who with unbelievable skill and dexterity, put on my screen protector for my iPhone 6 Plus. She was great and I was definitely happy I stopped in. And overall really friendly and helpful staff.</td>\n",
       "    </tr>\n",
       "    <tr>\n",
       "      <th>2</th>\n",
       "      <td>1 star</td>\n",
       "      <td>This place is still open because the snowbirds don't know what real Mexican food is all aabout and there is no where else in AJ to eat.  If you have a car there is no reason to eat here at all.</td>\n",
       "    </tr>\n",
       "    <tr>\n",
       "      <th>3</th>\n",
       "      <td>1 star</td>\n",
       "      <td>Placed an order for delivery with this store today, and was called later and told they couldn't deliver it because \\\"he was the only one there today\\\" so I would need to pick it up, but I would get a discount.  As I had already submitted my credit card information when I placed the order, and didn't want to be charged for an order I didn't get, I went to pick it up.  \\n\\nWhen I arrived, there were at least 2 people that I could see working.  As I had put the tip amount in when I placed the order online, I told him that I would need that amount removed, as I wasn't going to tip them for NOT delivering.  Instead, he ran it through with the amount on.  I noticed this before I signed, and told him I would not sign as it was incorrect.  After quite a bit of trouble he finally reversed the charges and charged me the correct amount.\\n\\nFor the hassle of picking up, when I had specifically chosen the restaurant due to the delivery option, I should have been given a discount or a free item.  Neither was given to me as he said he \\\"couldn't\\\" once I arrived, nor was an apology for them not being able to offer the service that they clearly offer.\\n\\nDue to this, I will not be ordering from here again.  There are many, many other restaurants in the Madison area, and I will be patronizing any of them instead of a restaurant that does not provide the service they advertise.</td>\n",
       "    </tr>\n",
       "    <tr>\n",
       "      <th>4</th>\n",
       "      <td>2 star</td>\n",
       "      <td>I have a love-hate relationship with this place...  \\n\\nI love it because it's extremely close to me (so, it's convenient when I'm craving a beer) and the atmosphere on Sundays is outstanding.  I'm a giant Steeler fan, but you'll probably find fans from all 32 teams in Buffalo blues, which gives it a fun and exciting feel during NFL Sundays.  \\n\\nHowever, I hate it because I believe the alcohol and food is overpriced.  The food wouldn't rub me the wrong way so much if I thought it was worth the price, but I don't.  Not even a little bit.  The only thing I have found to be delicious there were the wings; however, you can go to almost any other bar to get delicious and cheaper wings.  So, it's not really much of a win at all.  Also, I want to have a handful of beers during the games, but I don't want to empty my pockets doing it.  So, all in all, I recommend going once and awhile (mainly on Sundays) for a beer or two, but other than that it's not worth much of a visit.</td>\n",
       "    </tr>\n",
       "    <tr>\n",
       "      <th>5</th>\n",
       "      <td>3 stars</td>\n",
       "      <td>I don't imagine this being a restaurant that you would go to unless you were a guest at the El Cortez hotel, or happened to be hanging around the hotel casino, got hungry, and decided you wanted to eat diner food.  In short, this place is a downscale version of Denny's.  It's not very fancy, but the food is good and cheap.  \\n\\nJust like Denny's, the place is open 24 hours, and they serve everything on their menu all day.  When I went, I had the scrambled eggs (egg whites only) with homestyle potatoes and toast.  My order was supposed to come with bacon or sausage, but I'm vegetarian and declined it.  The waitress was very kind to let me have fruit in lieu of the meat.  I got my food about five minutes after I ordered it, and it tasted very similar to what I would eat at Denny's.\\n\\nThe El Cortez is a very low-rent hotel in Downtown Las Vegas, so don't expect to see any high rollers sitting around this restaurant.  When I was eating here, I noticed that most of the other patrons were elderly people.  I don't like to make assumptions, but most of them didn't seem like they had lots of disposable income, and probably shouldn't be hanging around a casino, gambling with money they can't really afford to lose.  But I suppose that's none of my business.\\n\\nIf diner food is what you're looking for, this is a decent place to find it.  If you're looking for something a little more up-scale or exotic, walk outside to Fremont Street.  There are many good restaurants within a short walk of this place.  However, I would eat here again.</td>\n",
       "    </tr>\n",
       "    <tr>\n",
       "      <th>6</th>\n",
       "      <td>5 stars</td>\n",
       "      <td>The first BBQ I had when we got to Charlotte two years ago, and it's still my favorite spot in town for a couple of reasons. So, Mac's Speed Shop gets my first review (and it goes for this location and the other I've visited on Sandy Porter Road in the Steele Creek area).\\n\\nFirst, the place knows what it is and does everything possible to make sure you enjoy yourself. Servers are attentive &amp; knowledgable, service is fast, but you're also welcome to take your time and enjoy the extensive beer list for as long as you'd like.\\n\\nSecond, the food's consistently top notch. It isn't the truest NC BBQ you'll find, so a hard-core traditionalist may not rave about it, but they have the right mix of variety and restraint that gives everyone in your party an option that's going to be GOOD. Other \\\"wing\\\" places need to recognize that these grilled &amp; smokey wings are the best in town. Hungry for a steak? Try the KC Beef Rib instead. You'll feel like Fred Flintstone when it's put in front of you and like the luckiest yelper on earth when you're finished. \\n\\nAnd if you're there with five or six friends, please (PLEASE) take on the Fatboy Challenge together. For less than $50 you'll all get to try the best sandwich in Charlotte without the nasty side effects of trying to eat 5+ pounds of food by yourself. It's sweet, smokey, and surprisingly spicy on a great loaf of Ciabatta. Plus you get a big ol' bowl of Mac N Cheese and a pitcher of beer included on the tab.\\n\\nThird, that beer list. Mac's gets a little bit of everything and has the prettiest lineup of taps I've seen in this town. They have some cheaper domestic tall boys if that's your thing, but please do yourself the favor of asking the well-versed bartenders for a taste of something new or a recommendation based on your usual drink. You'll be better for it.\\n\\nFinally, as a Steelers fan, I love having this caliber of place to go on game days. Any football fan should have Mac's on their list of destinations for Monday Nights, too... a good chunk (if not all) of their drafts are always 1/2 off on Monday. Best deal in town.</td>\n",
       "    </tr>\n",
       "    <tr>\n",
       "      <th>7</th>\n",
       "      <td>5 stars</td>\n",
       "      <td>The ladies here are very sweet and talented. We had 2 bridal gowns that needed a bustle and minor alterations. The prices are very reasonable, the dresses came back perfect,  and the length in time getting them back was very fast. Is recommend this shop for any and all alterations.</td>\n",
       "    </tr>\n",
       "    <tr>\n",
       "      <th>8</th>\n",
       "      <td>1 star</td>\n",
       "      <td>If your bad at math and love smelling like an ashtray come on in</td>\n",
       "    </tr>\n",
       "    <tr>\n",
       "      <th>9</th>\n",
       "      <td>3 stars</td>\n",
       "      <td>I friggin love this place.\\n\\nokay, so its a little terrifying walking INTO this joint, especially after dark...there are a lot of people that look like they were (for lack of a better phrase) \\\"ridden hard and put away wet\\\", but holy bejesus...you can get some of the weirdest things...for the lowest prices.  And I'm still stunned about how much meat they have here...and how cheap it is.  Okay, so I don't know the quality of it, but .99cents a pound for chicken?  boom.  They have those nasty smoked pig ankles my dog likes.  I think my favorite part of this place was the liquor section.  I LOVE how the good stuff is locked up, and you need assistance to get what you want...and I love the prices.  23$ for a bottle of belvedere.  \\n\\nMan, I wish we had you in NY, food for less.</td>\n",
       "    </tr>\n",
       "  </tbody>\n",
       "</table>"
      ]
     },
     "metadata": {},
     "output_type": "display_data"
    }
   ],
   "execution_count": 3
  },
  {
   "metadata": {
    "ExecuteTime": {
     "end_time": "2025-08-05T05:03:43.612308Z",
     "start_time": "2025-08-05T05:03:43.609748Z"
    }
   },
   "cell_type": "code",
   "source": [
    "import os\n",
    "\n",
    "os.environ['HF_HOME'] = './data/hf'\n",
    "os.environ['HF_HUB_CACHE'] = './data/hf/hub'"
   ],
   "id": "6110e43a0095d9a",
   "outputs": [],
   "execution_count": 6
  },
  {
   "metadata": {
    "ExecuteTime": {
     "end_time": "2025-08-05T05:03:47.660017Z",
     "start_time": "2025-08-05T05:03:46.814006Z"
    }
   },
   "cell_type": "code",
   "source": [
    "from transformers import AutoTokenizer\n",
    "\n",
    "model_name = 'google-bert/bert-base-cased'\n",
    "tokenizer = AutoTokenizer.from_pretrained(model_name)\n",
    "\n",
    "def tokenize_function(examples):\n",
    "    return tokenizer(examples[\"text\"], padding=\"max_length\", truncation=True)\n",
    "\n",
    "tokenized_datasets = dataset.map(tokenize_function, batched=True)"
   ],
   "id": "a66365d5f4e0955a",
   "outputs": [],
   "execution_count": 7
  },
  {
   "metadata": {
    "ExecuteTime": {
     "end_time": "2025-08-05T05:03:50.019027Z",
     "start_time": "2025-08-05T05:03:50.013055Z"
    }
   },
   "cell_type": "code",
   "source": "show_random_elements(tokenized_datasets[\"train\"], num_examples=1)",
   "id": "ca6b0e1842853f13",
   "outputs": [
    {
     "data": {
      "text/plain": [
       "<IPython.core.display.HTML object>"
      ],
      "text/html": [
       "<table border=\"1\" class=\"dataframe\">\n",
       "  <thead>\n",
       "    <tr style=\"text-align: right;\">\n",
       "      <th></th>\n",
       "      <th>label</th>\n",
       "      <th>text</th>\n",
       "      <th>input_ids</th>\n",
       "      <th>token_type_ids</th>\n",
       "      <th>attention_mask</th>\n",
       "    </tr>\n",
       "  </thead>\n",
       "  <tbody>\n",
       "    <tr>\n",
       "      <th>0</th>\n",
       "      <td>2 star</td>\n",
       "      <td>My boyfriend's dad gave us the 2011 Entertainment Guide book for Christmas and, slowly, we have been exploring new-to-us-restaurants with our coupons. His dad also has the same book and used his coupon for Anntony's yesterday for lunch. His dad is not one to call us and rave about a place, but he said we needed to check it out. We checked out the menu that was advertised in the book to see if the food matched our tastes. I was excited to see they offered Caribbean Crab Cakes so we headed out to Anntony's for dinner.\\n\\nWhen we walked in at 6:45, there was not a single person in the restaurant. We sat down and were handed menu's that differed from the menu in the entertainment book. I checked their menu on-line after dinner and found it to be correct with the menu at the restaurant though. The menu consisted of all chicken and some pork options. I was really disappointed to find that no crab-cake listed. In addition, their menu did not supply a description of the entrees, but it did for their sides. I found the menu very underwhelming. \\n\\nI ordered the chicken wing dinner that was tossed in a special Caribbean sauce with their black beans and mac and cheese. My boyfriend ordered the chicken breast with collard greens and rice. The wings were okay, some were dry and some were not. He said his chicken tasted like it was leftover from lunch and was dry as well. The beans, mac and cheese, and rice were very good though. \\n\\nTheir slogan is \\\"Don't Worry About Nothin' Mon!\\\" I WISH! I was very worried while I was dining for the following reasons: \\n-They had two TVs on that showed depressing world events (Not sure why a restaurant has TVs in it, it's not a bar). \\n-The server, although very pleasant and sweet, did not have her hair tied back and wore a strapless dress with flip flops. We asked for hot sauce and she brought out a bottle of sauce with out a lid on it. Where was the Health Department when we needed them? \\n-Why were we the only people in the restaurant??? \\n\\n\\nI can only assume that my boyfriends dad liked the place so much was due to the amount of food you get with the low priced meals and that lunch was a bit fresher than dinner. \\n\\nI would not recommend this place for dinner. Maybe lunch is better, but the food safety and health issues are a bit concerning.</td>\n",
       "      <td>[101, 1422, 6508, 112, 188, 4153, 1522, 1366, 1103, 1349, 4549, 7500, 1520, 1111, 3394, 1105, 117, 2494, 117, 1195, 1138, 1151, 12138, 1207, 118, 1106, 118, 1366, 118, 7724, 1114, 1412, 8707, 4199, 119, 1230, 4153, 1145, 1144, 1103, 1269, 1520, 1105, 1215, 1117, 8707, 1320, 1111, 5083, 25843, 112, 188, 8128, 1111, 5953, 119, 1230, 4153, 1110, 1136, 1141, 1106, 1840, 1366, 1105, 187, 8308, 1164, 170, 1282, 117, 1133, 1119, 1163, 1195, 1834, 1106, 4031, 1122, 1149, 119, 1284, 6488, 1149, 1103, 13171, 1115, 1108, 18428, 1107, 1103, 1520, 1106, 1267, 1191, 1103, 2094, 10260, 1412, 18689, ...]</td>\n",
       "      <td>[0, 0, 0, 0, 0, 0, 0, 0, 0, 0, 0, 0, 0, 0, 0, 0, 0, 0, 0, 0, 0, 0, 0, 0, 0, 0, 0, 0, 0, 0, 0, 0, 0, 0, 0, 0, 0, 0, 0, 0, 0, 0, 0, 0, 0, 0, 0, 0, 0, 0, 0, 0, 0, 0, 0, 0, 0, 0, 0, 0, 0, 0, 0, 0, 0, 0, 0, 0, 0, 0, 0, 0, 0, 0, 0, 0, 0, 0, 0, 0, 0, 0, 0, 0, 0, 0, 0, 0, 0, 0, 0, 0, 0, 0, 0, 0, 0, 0, 0, 0, ...]</td>\n",
       "      <td>[1, 1, 1, 1, 1, 1, 1, 1, 1, 1, 1, 1, 1, 1, 1, 1, 1, 1, 1, 1, 1, 1, 1, 1, 1, 1, 1, 1, 1, 1, 1, 1, 1, 1, 1, 1, 1, 1, 1, 1, 1, 1, 1, 1, 1, 1, 1, 1, 1, 1, 1, 1, 1, 1, 1, 1, 1, 1, 1, 1, 1, 1, 1, 1, 1, 1, 1, 1, 1, 1, 1, 1, 1, 1, 1, 1, 1, 1, 1, 1, 1, 1, 1, 1, 1, 1, 1, 1, 1, 1, 1, 1, 1, 1, 1, 1, 1, 1, 1, 1, ...]</td>\n",
       "    </tr>\n",
       "  </tbody>\n",
       "</table>"
      ]
     },
     "metadata": {},
     "output_type": "display_data"
    }
   ],
   "execution_count": 8
  },
  {
   "metadata": {
    "ExecuteTime": {
     "end_time": "2025-08-05T05:03:53.586026Z",
     "start_time": "2025-08-05T05:03:53.562042Z"
    }
   },
   "cell_type": "code",
   "source": [
    "small_train_dataset = tokenized_datasets[\"train\"].shuffle(seed=42).select(range(1000))\n",
    "small_eval_dataset = tokenized_datasets[\"test\"].shuffle(seed=42).select(range(1000))"
   ],
   "id": "e357ff178bda59b4",
   "outputs": [],
   "execution_count": 9
  },
  {
   "metadata": {
    "ExecuteTime": {
     "end_time": "2025-08-05T05:03:56.449122Z",
     "start_time": "2025-08-05T05:03:55.772546Z"
    }
   },
   "cell_type": "code",
   "source": [
    "from transformers import AutoModelForSequenceClassification\n",
    "\n",
    "model = AutoModelForSequenceClassification.from_pretrained(model_name, num_labels=5)"
   ],
   "id": "c614af4d6779c03d",
   "outputs": [
    {
     "name": "stderr",
     "output_type": "stream",
     "text": [
      "Some weights of BertForSequenceClassification were not initialized from the model checkpoint at google-bert/bert-base-cased and are newly initialized: ['classifier.bias', 'classifier.weight']\n",
      "You should probably TRAIN this model on a down-stream task to be able to use it for predictions and inference.\n"
     ]
    }
   ],
   "execution_count": 10
  },
  {
   "metadata": {
    "ExecuteTime": {
     "end_time": "2025-08-05T05:08:02.649825Z",
     "start_time": "2025-08-05T05:08:02.468110Z"
    }
   },
   "cell_type": "code",
   "source": [
    "from transformers import TrainingArguments\n",
    "\n",
    "model_dir = \"./data/hf/models/bert-base-cased-finetune-yelp\"\n",
    "training_args = TrainingArguments(\n",
    "    output_dir=model_dir, per_device_train_batch_size=16, num_train_epochs=5, logging_steps=100\n",
    ")\n",
    "print(training_args)"
   ],
   "id": "b2bbaa594e9cbcf5",
   "outputs": [
    {
     "ename": "ImportError",
     "evalue": "Using the `Trainer` with `PyTorch` requires `accelerate>=0.26.0`: Please run `pip install transformers[torch]` or `pip install 'accelerate>=0.26.0'`",
     "output_type": "error",
     "traceback": [
      "\u001B[31m---------------------------------------------------------------------------\u001B[39m",
      "\u001B[31mImportError\u001B[39m                               Traceback (most recent call last)",
      "\u001B[36mCell\u001B[39m\u001B[36m \u001B[39m\u001B[32mIn[11]\u001B[39m\u001B[32m, line 4\u001B[39m\n\u001B[32m      1\u001B[39m \u001B[38;5;28;01mfrom\u001B[39;00m\u001B[38;5;250m \u001B[39m\u001B[34;01mtransformers\u001B[39;00m\u001B[38;5;250m \u001B[39m\u001B[38;5;28;01mimport\u001B[39;00m TrainingArguments\n\u001B[32m      3\u001B[39m model_dir = \u001B[33m\"\u001B[39m\u001B[33m./data/hf/models/bert-base-cased-finetune-yelp\u001B[39m\u001B[33m\"\u001B[39m\n\u001B[32m----> \u001B[39m\u001B[32m4\u001B[39m training_args = \u001B[43mTrainingArguments\u001B[49m\u001B[43m(\u001B[49m\n\u001B[32m      5\u001B[39m \u001B[43m    \u001B[49m\u001B[43moutput_dir\u001B[49m\u001B[43m=\u001B[49m\u001B[43mmodel_dir\u001B[49m\u001B[43m,\u001B[49m\u001B[43m \u001B[49m\u001B[43mper_device_train_batch_size\u001B[49m\u001B[43m=\u001B[49m\u001B[32;43m16\u001B[39;49m\u001B[43m,\u001B[49m\u001B[43m \u001B[49m\u001B[43mnum_train_epochs\u001B[49m\u001B[43m=\u001B[49m\u001B[32;43m5\u001B[39;49m\u001B[43m,\u001B[49m\u001B[43m \u001B[49m\u001B[43mlogging_steps\u001B[49m\u001B[43m=\u001B[49m\u001B[32;43m100\u001B[39;49m\n\u001B[32m      6\u001B[39m \u001B[43m)\u001B[49m\n\u001B[32m      7\u001B[39m \u001B[38;5;28mprint\u001B[39m(training_args)\n",
      "\u001B[36mFile \u001B[39m\u001B[32m<string>:133\u001B[39m, in \u001B[36m__init__\u001B[39m\u001B[34m(self, output_dir, overwrite_output_dir, do_train, do_eval, do_predict, eval_strategy, prediction_loss_only, per_device_train_batch_size, per_device_eval_batch_size, per_gpu_train_batch_size, per_gpu_eval_batch_size, gradient_accumulation_steps, eval_accumulation_steps, eval_delay, torch_empty_cache_steps, learning_rate, weight_decay, adam_beta1, adam_beta2, adam_epsilon, max_grad_norm, num_train_epochs, max_steps, lr_scheduler_type, lr_scheduler_kwargs, warmup_ratio, warmup_steps, log_level, log_level_replica, log_on_each_node, logging_dir, logging_strategy, logging_first_step, logging_steps, logging_nan_inf_filter, save_strategy, save_steps, save_total_limit, save_safetensors, save_on_each_node, save_only_model, restore_callback_states_from_checkpoint, no_cuda, use_cpu, use_mps_device, seed, data_seed, jit_mode_eval, use_ipex, bf16, fp16, fp16_opt_level, half_precision_backend, bf16_full_eval, fp16_full_eval, tf32, local_rank, ddp_backend, tpu_num_cores, tpu_metrics_debug, debug, dataloader_drop_last, eval_steps, dataloader_num_workers, dataloader_prefetch_factor, past_index, run_name, disable_tqdm, remove_unused_columns, label_names, load_best_model_at_end, metric_for_best_model, greater_is_better, ignore_data_skip, fsdp, fsdp_min_num_params, fsdp_config, fsdp_transformer_layer_cls_to_wrap, accelerator_config, deepspeed, label_smoothing_factor, optim, optim_args, adafactor, group_by_length, length_column_name, report_to, ddp_find_unused_parameters, ddp_bucket_cap_mb, ddp_broadcast_buffers, dataloader_pin_memory, dataloader_persistent_workers, skip_memory_metrics, use_legacy_prediction_loop, push_to_hub, resume_from_checkpoint, hub_model_id, hub_strategy, hub_token, hub_private_repo, hub_always_push, hub_revision, gradient_checkpointing, gradient_checkpointing_kwargs, include_inputs_for_metrics, include_for_metrics, eval_do_concat_batches, fp16_backend, push_to_hub_model_id, push_to_hub_organization, push_to_hub_token, mp_parameters, auto_find_batch_size, full_determinism, torchdynamo, ray_scope, ddp_timeout, torch_compile, torch_compile_backend, torch_compile_mode, include_tokens_per_second, include_num_input_tokens_seen, neftune_noise_alpha, optim_target_modules, batch_eval_metrics, eval_on_start, use_liger_kernel, liger_kernel_config, eval_use_gather_object, average_tokens_across_devices)\u001B[39m\n",
      "\u001B[36mFile \u001B[39m\u001B[32m~/opt/miniconda3/envs/ai/lib/python3.11/site-packages/transformers/training_args.py:1795\u001B[39m, in \u001B[36mTrainingArguments.__post_init__\u001B[39m\u001B[34m(self)\u001B[39m\n\u001B[32m   1793\u001B[39m \u001B[38;5;66;03m# Initialize device before we proceed\u001B[39;00m\n\u001B[32m   1794\u001B[39m \u001B[38;5;28;01mif\u001B[39;00m \u001B[38;5;28mself\u001B[39m.framework == \u001B[33m\"\u001B[39m\u001B[33mpt\u001B[39m\u001B[33m\"\u001B[39m \u001B[38;5;129;01mand\u001B[39;00m is_torch_available():\n\u001B[32m-> \u001B[39m\u001B[32m1795\u001B[39m     \u001B[38;5;28;43mself\u001B[39;49m\u001B[43m.\u001B[49m\u001B[43mdevice\u001B[49m\n\u001B[32m   1797\u001B[39m \u001B[38;5;66;03m# Disable average tokens when using single device\u001B[39;00m\n\u001B[32m   1798\u001B[39m \u001B[38;5;28;01mif\u001B[39;00m \u001B[38;5;28mself\u001B[39m.average_tokens_across_devices:\n",
      "\u001B[36mFile \u001B[39m\u001B[32m~/opt/miniconda3/envs/ai/lib/python3.11/site-packages/transformers/training_args.py:2324\u001B[39m, in \u001B[36mTrainingArguments.device\u001B[39m\u001B[34m(self)\u001B[39m\n\u001B[32m   2320\u001B[39m \u001B[38;5;250m\u001B[39m\u001B[33;03m\"\"\"\u001B[39;00m\n\u001B[32m   2321\u001B[39m \u001B[33;03mThe device used by this process.\u001B[39;00m\n\u001B[32m   2322\u001B[39m \u001B[33;03m\"\"\"\u001B[39;00m\n\u001B[32m   2323\u001B[39m requires_backends(\u001B[38;5;28mself\u001B[39m, [\u001B[33m\"\u001B[39m\u001B[33mtorch\u001B[39m\u001B[33m\"\u001B[39m])\n\u001B[32m-> \u001B[39m\u001B[32m2324\u001B[39m \u001B[38;5;28;01mreturn\u001B[39;00m \u001B[38;5;28;43mself\u001B[39;49m\u001B[43m.\u001B[49m\u001B[43m_setup_devices\u001B[49m\n",
      "\u001B[36mFile \u001B[39m\u001B[32m~/opt/miniconda3/envs/ai/lib/python3.11/site-packages/transformers/utils/generic.py:74\u001B[39m, in \u001B[36mcached_property.__get__\u001B[39m\u001B[34m(self, obj, objtype)\u001B[39m\n\u001B[32m     72\u001B[39m cached = \u001B[38;5;28mgetattr\u001B[39m(obj, attr, \u001B[38;5;28;01mNone\u001B[39;00m)\n\u001B[32m     73\u001B[39m \u001B[38;5;28;01mif\u001B[39;00m cached \u001B[38;5;129;01mis\u001B[39;00m \u001B[38;5;28;01mNone\u001B[39;00m:\n\u001B[32m---> \u001B[39m\u001B[32m74\u001B[39m     cached = \u001B[38;5;28;43mself\u001B[39;49m\u001B[43m.\u001B[49m\u001B[43mfget\u001B[49m\u001B[43m(\u001B[49m\u001B[43mobj\u001B[49m\u001B[43m)\u001B[49m\n\u001B[32m     75\u001B[39m     \u001B[38;5;28msetattr\u001B[39m(obj, attr, cached)\n\u001B[32m     76\u001B[39m \u001B[38;5;28;01mreturn\u001B[39;00m cached\n",
      "\u001B[36mFile \u001B[39m\u001B[32m~/opt/miniconda3/envs/ai/lib/python3.11/site-packages/transformers/training_args.py:2194\u001B[39m, in \u001B[36mTrainingArguments._setup_devices\u001B[39m\u001B[34m(self)\u001B[39m\n\u001B[32m   2192\u001B[39m \u001B[38;5;28;01mif\u001B[39;00m \u001B[38;5;129;01mnot\u001B[39;00m is_sagemaker_mp_enabled():\n\u001B[32m   2193\u001B[39m     \u001B[38;5;28;01mif\u001B[39;00m \u001B[38;5;129;01mnot\u001B[39;00m is_accelerate_available():\n\u001B[32m-> \u001B[39m\u001B[32m2194\u001B[39m         \u001B[38;5;28;01mraise\u001B[39;00m \u001B[38;5;167;01mImportError\u001B[39;00m(\n\u001B[32m   2195\u001B[39m             \u001B[33mf\u001B[39m\u001B[33m\"\u001B[39m\u001B[33mUsing the `Trainer` with `PyTorch` requires `accelerate>=\u001B[39m\u001B[38;5;132;01m{\u001B[39;00mACCELERATE_MIN_VERSION\u001B[38;5;132;01m}\u001B[39;00m\u001B[33m`: \u001B[39m\u001B[33m\"\u001B[39m\n\u001B[32m   2196\u001B[39m             \u001B[33mf\u001B[39m\u001B[33m\"\u001B[39m\u001B[33mPlease run `pip install transformers[torch]` or `pip install \u001B[39m\u001B[33m'\u001B[39m\u001B[33maccelerate>=\u001B[39m\u001B[38;5;132;01m{\u001B[39;00mACCELERATE_MIN_VERSION\u001B[38;5;132;01m}\u001B[39;00m\u001B[33m'\u001B[39m\u001B[33m`\u001B[39m\u001B[33m\"\u001B[39m\n\u001B[32m   2197\u001B[39m         )\n\u001B[32m   2198\u001B[39m \u001B[38;5;66;03m# We delay the init of `PartialState` to the end for clarity\u001B[39;00m\n\u001B[32m   2199\u001B[39m accelerator_state_kwargs: \u001B[38;5;28mdict\u001B[39m[\u001B[38;5;28mstr\u001B[39m, Any] = {\u001B[33m\"\u001B[39m\u001B[33menabled\u001B[39m\u001B[33m\"\u001B[39m: \u001B[38;5;28;01mTrue\u001B[39;00m, \u001B[33m\"\u001B[39m\u001B[33muse_configured_state\u001B[39m\u001B[33m\"\u001B[39m: \u001B[38;5;28;01mFalse\u001B[39;00m}\n",
      "\u001B[31mImportError\u001B[39m: Using the `Trainer` with `PyTorch` requires `accelerate>=0.26.0`: Please run `pip install transformers[torch]` or `pip install 'accelerate>=0.26.0'`"
     ]
    }
   ],
   "execution_count": 11
  },
  {
   "metadata": {},
   "cell_type": "code",
   "outputs": [],
   "execution_count": null,
   "source": "",
   "id": "d1d8f07565b51d79"
  }
 ],
 "metadata": {
  "kernelspec": {
   "display_name": "Python 3",
   "language": "python",
   "name": "python3"
  },
  "language_info": {
   "codemirror_mode": {
    "name": "ipython",
    "version": 2
   },
   "file_extension": ".py",
   "mimetype": "text/x-python",
   "name": "python",
   "nbconvert_exporter": "python",
   "pygments_lexer": "ipython2",
   "version": "2.7.6"
  }
 },
 "nbformat": 4,
 "nbformat_minor": 5
}
