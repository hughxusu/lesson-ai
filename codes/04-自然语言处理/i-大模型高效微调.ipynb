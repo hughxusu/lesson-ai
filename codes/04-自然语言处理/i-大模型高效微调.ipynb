{
 "cells": [
  {
   "cell_type": "code",
   "execution_count": null,
   "id": "c3418a54",
   "metadata": {},
   "outputs": [],
   "source": [
    "from transformers import GPT2Tokenizer, OPTForCausalLM\n",
    "\n",
    "model_id = \"facebook/opt-6.7b\"\n",
    "\n",
    "model = OPTForCausalLM.from_pretrained(model_id, load_in_8bit=True)\n",
    "tokenizer = GPT2Tokenizer.from_pretrained(model_id)"
   ]
  },
  {
   "cell_type": "code",
   "execution_count": null,
   "id": "be9f024f",
   "metadata": {},
   "outputs": [],
   "source": []
  }
 ],
 "metadata": {
  "language_info": {
   "name": "python"
  }
 },
 "nbformat": 4,
 "nbformat_minor": 5
}
