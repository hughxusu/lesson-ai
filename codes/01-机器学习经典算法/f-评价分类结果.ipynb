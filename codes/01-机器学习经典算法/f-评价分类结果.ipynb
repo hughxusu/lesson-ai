{
 "cells": [
  {
   "cell_type": "code",
   "execution_count": 26,
   "id": "initial_id",
   "metadata": {
    "ExecuteTime": {
     "end_time": "2025-05-31T03:30:19.192159Z",
     "start_time": "2025-05-31T03:30:17.231041Z"
    },
    "collapsed": true
   },
   "outputs": [],
   "source": [
    "from sklearn import datasets\n",
    "from sklearn.model_selection import train_test_split\n",
    "\n",
    "cancer = datasets.load_breast_cancer()\n",
    "x = cancer.data\n",
    "y = cancer.target\n",
    "x_train, x_test, y_train, y_test = train_test_split(x, y, random_state=42)"
   ]
  },
  {
   "cell_type": "code",
   "execution_count": 27,
   "id": "72f7d1afc6ba9dd6",
   "metadata": {
    "ExecuteTime": {
     "end_time": "2025-05-31T03:30:20.303390Z",
     "start_time": "2025-05-31T03:30:20.072254Z"
    }
   },
   "outputs": [],
   "source": [
    "from sklearn.preprocessing import StandardScaler\n",
    "from sklearn.pipeline import Pipeline\n",
    "from sklearn.linear_model import LogisticRegression\n",
    "\n",
    "pipeline = Pipeline([\n",
    "    ('scaler', StandardScaler()),\n",
    "    ('log_reg', LogisticRegression())\n",
    "])\n",
    "pipeline.fit(x_train, y_train)\n",
    "y_hat = pipeline.predict(x_test)"
   ]
  },
  {
   "cell_type": "code",
   "execution_count": 28,
   "id": "3c0e6e56b398d938",
   "metadata": {
    "ExecuteTime": {
     "end_time": "2025-05-31T03:30:20.958722Z",
     "start_time": "2025-05-31T03:30:20.941193Z"
    }
   },
   "outputs": [
    {
     "name": "stdout",
     "output_type": "stream",
     "text": [
      "[[53  1]\n",
      " [ 2 87]]\n",
      "0.9886363636363636\n",
      "0.9775280898876404\n"
     ]
    }
   ],
   "source": [
    "from sklearn.metrics import confusion_matrix, precision_score, recall_score\n",
    "\n",
    "print(confusion_matrix(y_test, y_hat))\n",
    "print(precision_score(y_test, y_hat))\n",
    "print(recall_score(y_test, y_hat))"
   ]
  },
  {
   "cell_type": "code",
   "execution_count": 29,
   "id": "f9e81bb7d2ab5eac",
   "metadata": {
    "ExecuteTime": {
     "end_time": "2025-05-31T03:30:21.581648Z",
     "start_time": "2025-05-31T03:30:21.568267Z"
    }
   },
   "outputs": [
    {
     "name": "stdout",
     "output_type": "stream",
     "text": [
      "              precision    recall  f1-score   support\n",
      "\n",
      "   malignant       0.96      0.98      0.97        54\n",
      "      benign       0.99      0.98      0.98        89\n",
      "\n",
      "    accuracy                           0.98       143\n",
      "   macro avg       0.98      0.98      0.98       143\n",
      "weighted avg       0.98      0.98      0.98       143\n",
      "\n"
     ]
    }
   ],
   "source": [
    "from sklearn.metrics import classification_report\n",
    "\n",
    "print(classification_report(\n",
    "    y_test, y_hat, target_names=cancer.target_names\n",
    "))"
   ]
  },
  {
   "cell_type": "code",
   "execution_count": 30,
   "id": "e0b24d68cd5842af",
   "metadata": {
    "ExecuteTime": {
     "end_time": "2025-05-31T03:30:22.050978Z",
     "start_time": "2025-05-31T03:30:22.044180Z"
    }
   },
   "outputs": [
    {
     "name": "stdout",
     "output_type": "stream",
     "text": [
      "0.9830508474576272\n"
     ]
    }
   ],
   "source": [
    "from sklearn.metrics import f1_score\n",
    "\n",
    "print(f1_score(y_test, y_hat))"
   ]
  },
  {
   "cell_type": "code",
   "execution_count": null,
   "id": "6943a16a769b54a9",
   "metadata": {
    "ExecuteTime": {
     "end_time": "2025-05-31T03:30:22.474576Z",
     "start_time": "2025-05-31T03:30:22.467279Z"
    }
   },
   "outputs": [
    {
     "name": "stdout",
     "output_type": "stream",
     "text": [
      "(143,)\n",
      "[  1.96127089 -11.38074677  -5.8688768    7.51437272   9.53889523\n",
      " -22.63573219 -19.80154138  -3.23176196   0.33358757   7.30468799]\n",
      "-27.180532423129907\n",
      "14.08189126205985\n"
     ]
    }
   ],
   "source": [
    "\n",
    "\n",
    "\n",
    "decision_scores = pipeline.decision_function(x_test)\n",
    "print(decision_scores.shape)\n",
    "print(decision_scores[:10])\n",
    "print(np.min(decision_scores))\n",
    "print(np.max(decision_scores))"
   ]
  },
  {
   "cell_type": "code",
   "execution_count": null,
   "id": "39210e3ac17cf2f0",
   "metadata": {
    "ExecuteTime": {
     "end_time": "2025-05-31T03:30:23.018770Z",
     "start_time": "2025-05-31T03:30:23.006280Z"
    }
   },
   "outputs": [],
   "source": [
    "import numpy as np\n",
    "\n",
    "y_hat_2 = np.array(decision_scores >= 5, dtype='int')\n",
    "print(confusion_matrix(y_test, y_hat_2))\n",
    "print(precision_score(y_test, y_hat_2))\n",
    "print(recall_score(y_test, y_hat_2))"
   ]
  },
  {
   "cell_type": "code",
   "execution_count": null,
   "id": "f13468bc26a33181",
   "metadata": {
    "ExecuteTime": {
     "end_time": "2025-05-31T03:30:23.502191Z",
     "start_time": "2025-05-31T03:30:23.490884Z"
    }
   },
   "outputs": [],
   "source": [
    "y_hat_3 = np.array(decision_scores >= -5, dtype='int')\n",
    "print(confusion_matrix(y_test, y_hat_3))\n",
    "print(precision_score(y_test, y_hat_3))\n",
    "print(recall_score(y_test, y_hat_3))"
   ]
  },
  {
   "cell_type": "code",
   "execution_count": null,
   "id": "266af48bf470523c",
   "metadata": {
    "ExecuteTime": {
     "end_time": "2025-05-31T03:30:24.791238Z",
     "start_time": "2025-05-31T03:30:23.962769Z"
    }
   },
   "outputs": [],
   "source": [
    "from sklearn.metrics import precision_recall_curve\n",
    "import matplotlib.pyplot as plt\n",
    "\n",
    "precisions, recalls, thresholds = precision_recall_curve(y_test, decision_scores)\n",
    "plt.figure(figsize=(10, 8))\n",
    "plt.plot(precisions, recalls, linewidth=2)\n",
    "plt.xticks(fontsize=16)\n",
    "plt.yticks(fontsize=16)\n",
    "plt.show()"
   ]
  },
  {
   "cell_type": "code",
   "execution_count": null,
   "id": "c57e004ce0da5705",
   "metadata": {
    "ExecuteTime": {
     "end_time": "2025-05-31T05:17:52.131294Z",
     "start_time": "2025-05-31T05:17:51.928580Z"
    }
   },
   "outputs": [],
   "source": [
    "from sklearn.metrics import roc_curve\n",
    "\n",
    "# 真实标签\n",
    "y_true = [1, 0, 1, 0, 1, 0, 1, 0, 1, 0]\n",
    "\n",
    "# 预测概率\n",
    "y_scores = [0.9, 0.8, 0.75, 0.7, 0.6, 0.55, 0.4, 0.3, 0.2, 0.1]\n",
    "\n",
    "fpr, tpr, _ = roc_curve(y_true, y_scores)\n",
    "plt.figure(figsize=(10, 10))\n",
    "plt.plot(fpr, tpr, marker='o', label='ROC Curve', linewidth=2)\n",
    "plt.xticks(fontsize=16)\n",
    "plt.yticks(fontsize=16)\n",
    "plt.legend(fontsize=16)\n",
    "plt.grid(True)\n",
    "plt.show()"
   ]
  },
  {
   "cell_type": "code",
   "execution_count": null,
   "id": "ac4791386509d2b9",
   "metadata": {
    "ExecuteTime": {
     "end_time": "2025-05-31T03:30:24.973854Z",
     "start_time": "2025-05-31T03:30:24.794044Z"
    }
   },
   "outputs": [],
   "source": [
    "from sklearn.metrics import roc_curve\n",
    "\n",
    "fprs, tprs, thresholds = roc_curve(y_hat, decision_scores)\n",
    "plt.figure(figsize=(10, 8))\n",
    "plt.plot(fprs, tprs, linewidth=2)\n",
    "plt.xticks(fontsize=16)\n",
    "plt.yticks(fontsize=16)\n",
    "plt.show()"
   ]
  },
  {
   "cell_type": "code",
   "execution_count": null,
   "id": "3282b94eb138aa1c",
   "metadata": {
    "ExecuteTime": {
     "end_time": "2025-05-31T03:33:49.269968Z",
     "start_time": "2025-05-31T03:33:49.069446Z"
    }
   },
   "outputs": [],
   "source": [
    "iris = datasets.load_iris()\n",
    "X = iris.data\n",
    "y = iris.target\n",
    "\n",
    "X_train, X_test, y_train, y_test = train_test_split(X, y, random_state=95)\n",
    "log_reg = LogisticRegression()\n",
    "log_reg.fit(X_train, y_train)\n",
    "log_reg.score(X_test, y_test)\n",
    "y_predict = log_reg.predict(X_test)\n",
    "print(precision_score(y_test, y_predict, average='micro'))"
   ]
  },
  {
   "cell_type": "code",
   "execution_count": null,
   "id": "a4593a244ff6bf82",
   "metadata": {
    "ExecuteTime": {
     "end_time": "2025-05-31T03:33:51.948602Z",
     "start_time": "2025-05-31T03:33:51.941936Z"
    }
   },
   "outputs": [],
   "source": [
    "print(confusion_matrix(y_test, y_predict))"
   ]
  },
  {
   "cell_type": "code",
   "execution_count": null,
   "id": "6a58eba0ac28fece",
   "metadata": {
    "ExecuteTime": {
     "end_time": "2025-05-31T03:35:02.262989Z",
     "start_time": "2025-05-31T03:35:02.119640Z"
    }
   },
   "outputs": [],
   "source": [
    "cfm = confusion_matrix(y_test, y_predict)\n",
    "plt.matshow(cfm, cmap=plt.cm.gray)\n",
    "plt.xticks(fontsize=16)\n",
    "plt.yticks(fontsize=16)\n",
    "plt.show()"
   ]
  },
  {
   "cell_type": "code",
   "execution_count": null,
   "id": "dbd4a8e6f28c2590",
   "metadata": {
    "ExecuteTime": {
     "end_time": "2025-05-31T03:35:07.073671Z",
     "start_time": "2025-05-31T03:35:06.925026Z"
    }
   },
   "outputs": [],
   "source": [
    "row_sums = np.sum(cfm, axis=1)\n",
    "err_matrix = cfm / row_sums\n",
    "np.fill_diagonal(err_matrix, 0)\n",
    "print(err_matrix)\n",
    "plt.matshow(err_matrix, cmap=plt.cm.gray)\n",
    "plt.xticks(fontsize=16)\n",
    "plt.yticks(fontsize=16)\n",
    "plt.show()"
   ]
  },
  {
   "cell_type": "code",
   "execution_count": null,
   "id": "9467b228307279fb",
   "metadata": {
    "ExecuteTime": {
     "end_time": "2025-05-31T10:53:20.080358Z",
     "start_time": "2025-05-31T10:53:20.072497Z"
    }
   },
   "outputs": [],
   "source": [
    "from sklearn.datasets import make_classification\n",
    "\n",
    "X, y = make_classification(n_samples=5000, n_features=2, n_classes=3,\n",
    "                           n_informative=2, n_redundant=0,\n",
    "                           n_repeated=0,  n_clusters_per_class=1, \n",
    "                           weights=[0.01, 0.05, 0.94], random_state=0)"
   ]
  },
  {
   "cell_type": "code",
   "execution_count": null,
   "id": "8d6efc7eaf94bd3c",
   "metadata": {
    "ExecuteTime": {
     "end_time": "2025-05-31T10:53:21.113318Z",
     "start_time": "2025-05-31T10:53:21.106023Z"
    }
   },
   "outputs": [],
   "source": [
    "from collections import Counter\n",
    "\n",
    "Counter(y)"
   ]
  },
  {
   "cell_type": "code",
   "execution_count": null,
   "id": "b7d36a3c3eaaeac8",
   "metadata": {
    "ExecuteTime": {
     "end_time": "2025-05-31T10:55:16.485566Z",
     "start_time": "2025-05-31T10:55:16.143291Z"
    }
   },
   "outputs": [],
   "source": [
    "def plot_distribution(X, y):\n",
    "    plt.figure(figsize=(10, 8))\n",
    "    plt.scatter(X[:, 0], X[:, 1], c=y, s=100, cmap='viridis')\n",
    "    plt.xticks(fontsize=16)\n",
    "    plt.yticks(fontsize=16)\n",
    "    plt.show()\n",
    "    \n",
    "plot_distribution(X, y)"
   ]
  },
  {
   "cell_type": "code",
   "execution_count": null,
   "id": "be673c2ffc1dac13",
   "metadata": {
    "ExecuteTime": {
     "end_time": "2025-05-31T11:00:07.479150Z",
     "start_time": "2025-05-31T11:00:05.294674Z"
    }
   },
   "outputs": [],
   "source": [
    "from imblearn.over_sampling import RandomOverSampler\n",
    "\n",
    "ros = RandomOverSampler(random_state=0)\n",
    "X_resampled, y_resampled = ros.fit_resample(X, y)\n",
    "Counter(y_resampled)\n",
    "plot_distribution(X_resampled, y_resampled)"
   ]
  },
  {
   "cell_type": "code",
   "execution_count": null,
   "id": "2d0a3533dc234a14",
   "metadata": {
    "ExecuteTime": {
     "end_time": "2025-05-31T11:11:36.865638Z",
     "start_time": "2025-05-31T11:11:36.373116Z"
    }
   },
   "outputs": [],
   "source": [
    "from imblearn.over_sampling import SMOTE\n",
    "\n",
    "X_resampled, y_resampled = SMOTE().fit_resample(X, y)\n",
    "Counter(y_resampled)\n",
    "plot_distribution(X_resampled, y_resampled)"
   ]
  },
  {
   "cell_type": "code",
   "execution_count": null,
   "id": "735075ace10512f3",
   "metadata": {
    "ExecuteTime": {
     "end_time": "2025-05-31T11:14:05.755361Z",
     "start_time": "2025-05-31T11:14:05.534533Z"
    }
   },
   "outputs": [],
   "source": [
    "from imblearn.under_sampling import RandomUnderSampler\n",
    "\n",
    "rus = RandomUnderSampler(random_state=0)\n",
    "X_resampled, y_resampled = rus.fit_resample(X, y)\n",
    "Counter(y_resampled)\n",
    "plot_distribution(X_resampled, y_resampled)"
   ]
  },
  {
   "cell_type": "code",
   "execution_count": null,
   "id": "e94e47deee1d163c",
   "metadata": {},
   "outputs": [],
   "source": []
  }
 ],
 "metadata": {
  "kernelspec": {
   "display_name": "ai",
   "language": "python",
   "name": "python3"
  },
  "language_info": {
   "codemirror_mode": {
    "name": "ipython",
    "version": 3
   },
   "file_extension": ".py",
   "mimetype": "text/x-python",
   "name": "python",
   "nbconvert_exporter": "python",
   "pygments_lexer": "ipython3",
   "version": "3.11.13"
  }
 },
 "nbformat": 4,
 "nbformat_minor": 5
}
