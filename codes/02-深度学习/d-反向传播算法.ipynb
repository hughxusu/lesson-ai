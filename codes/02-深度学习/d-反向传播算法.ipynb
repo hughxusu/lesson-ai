{
 "cells": [
  {
   "metadata": {
    "ExecuteTime": {
     "end_time": "2025-06-21T10:26:38.597101Z",
     "start_time": "2025-06-21T10:26:37.902913Z"
    }
   },
   "cell_type": "code",
   "source": [
    "import torch\n",
    "from sklearn.datasets import load_iris\n",
    "from sklearn.model_selection import train_test_split\n",
    "import numpy as np\n",
    "\n",
    "iris = load_iris()\n",
    "X = iris.data\n",
    "y = iris.target\n",
    "\n",
    "indices_0_1 = np.where((y == 0) | (y == 1))[0]\n",
    "data = X[indices_0_1]\n",
    "label = y[indices_0_1]\n",
    "\n",
    "X_train, X_test, y_train, y_test = train_test_split(data, label, test_size=0.2, random_state=0)\n",
    "X_train = torch.from_numpy(X_train).float()\n",
    "y_train = torch.from_numpy(y_train).float()\n",
    "X_test = torch.from_numpy(X_test).float()\n",
    "y_test = torch.from_numpy(y_test).float()"
   ],
   "id": "912ca62dcb7c3f56",
   "outputs": [],
   "execution_count": 1
  },
  {
   "metadata": {
    "ExecuteTime": {
     "end_time": "2025-06-21T10:26:40.106231Z",
     "start_time": "2025-06-21T10:26:40.102943Z"
    }
   },
   "cell_type": "code",
   "source": [
    "class Sigmoid:\n",
    "    def __init__(self):\n",
    "        self.out = None\n",
    "\n",
    "    def run(self, x):\n",
    "        self.out = torch.sigmoid(x)\n",
    "        return self.out\n",
    "\n",
    "    def back(self, dout):\n",
    "        if self.out is None:\n",
    "            raise RuntimeError(\"Must call forward before backward\")\n",
    "        dx = dout * (1.0 - self.out) * self.out\n",
    "        return dx"
   ],
   "id": "8bd6f6541b4130a9",
   "outputs": [],
   "execution_count": 2
  },
  {
   "metadata": {
    "ExecuteTime": {
     "end_time": "2025-06-21T10:26:41.007259Z",
     "start_time": "2025-06-21T10:26:41.003907Z"
    }
   },
   "cell_type": "code",
   "source": [
    "class Affine:\n",
    "    def __init__(self, W, b):\n",
    "        self.W = W\n",
    "        self.b = b\n",
    "        self.x = None\n",
    "        self.dW = None\n",
    "        self.db = None\n",
    "\n",
    "    def run(self, x):\n",
    "        self.x = x\n",
    "        out = torch.matmul(x, self.W) + self.b\n",
    "        return out\n",
    "\n",
    "    def back(self, dout):\n",
    "        dx = torch.matmul(dout, self.W.T)\n",
    "        self.dW = torch.matmul(self.x.T, dout)\n",
    "        self.db = torch.sum(dout, dim=0)\n",
    "        return dx"
   ],
   "id": "4566d96cf81b67de",
   "outputs": [],
   "execution_count": 3
  },
  {
   "metadata": {
    "ExecuteTime": {
     "end_time": "2025-06-21T10:26:41.750835Z",
     "start_time": "2025-06-21T10:26:41.747244Z"
    }
   },
   "cell_type": "code",
   "source": [
    "import torch.nn.functional as F\n",
    "\n",
    "class SigmoidWithLoss:\n",
    "    def __init__(self):\n",
    "        self.loss = None\n",
    "        self.y = None\n",
    "        self.t = None\n",
    "\n",
    "    def run(self, x, t):\n",
    "        self.t = t\n",
    "        self.y = torch.sigmoid(x)\n",
    "        self.loss = F.binary_cross_entropy(self.y, self.t)\n",
    "        return self.loss\n",
    "\n",
    "    def back(self, dout=1):\n",
    "        batch_size = self.t.shape[0]\n",
    "        dx = (self.y - self.t) / batch_size\n",
    "        return dx.unsqueeze(1)"
   ],
   "id": "e89471b4e52e5ea6",
   "outputs": [],
   "execution_count": 4
  },
  {
   "metadata": {
    "ExecuteTime": {
     "end_time": "2025-06-21T10:26:42.540796Z",
     "start_time": "2025-06-21T10:26:42.533445Z"
    }
   },
   "cell_type": "code",
   "source": [
    "from collections import OrderedDict\n",
    "\n",
    "class IrisNet:\n",
    "    def __init__(self):\n",
    "        self.params = {}\n",
    "        # 调整权重形状：W1 (4,5), W2 (5,5), W3 (5,1)\n",
    "        self.params['W1'] = torch.randn(4, 5, dtype=torch.float32, requires_grad=False) * 0.1\n",
    "        self.params['b1'] = torch.randn(5, dtype=torch.float32, requires_grad=False) * 0.1\n",
    "        self.params['W2'] = torch.randn(5, 5, dtype=torch.float32, requires_grad=False) * 0.1\n",
    "        self.params['b2'] = torch.randn(5, dtype=torch.float32, requires_grad=False) * 0.1\n",
    "        self.params['W3'] = torch.randn(5, 1, dtype=torch.float32, requires_grad=False) * 0.1\n",
    "        self.params['b3'] = torch.randn(1, dtype=torch.float32, requires_grad=False) * 0.1\n",
    "\n",
    "        self.layers = OrderedDict()\n",
    "        self.layers['Affine1'] = Affine(self.params['W1'], self.params['b1'])\n",
    "        self.layers['Sigmoid1'] = Sigmoid()\n",
    "        self.layers['Affine2'] = Affine(self.params['W2'], self.params['b2'])\n",
    "        self.layers['Sigmoid2'] = Sigmoid()\n",
    "        self.layers['Affine3'] = Affine(self.params['W3'], self.params['b3'])\n",
    "        self.lastLayer = SigmoidWithLoss()\n",
    "\n",
    "    def predict(self, x):\n",
    "        for layer in self.layers.values():\n",
    "            x = layer.run(x)\n",
    "        return x.squeeze()  # 去掉多余的维度，输出形状为 (batch_size,)\n",
    "\n",
    "    def loss(self, x, t):\n",
    "        y = self.predict(x)\n",
    "        return self.lastLayer.run(y, t)\n",
    "\n",
    "    def gradient(self, x, t):\n",
    "        self.loss(x, t)\n",
    "        dout = 1\n",
    "        dout = self.lastLayer.back(dout)\n",
    "        layers = list(self.layers.values())[::-1]  # 反向传播需要逆序\n",
    "        for layer in layers:\n",
    "            dout = layer.back(dout)\n",
    "\n",
    "        grads = {}\n",
    "        grads['W1'] = self.layers['Affine1'].dW\n",
    "        grads['b1'] = self.layers['Affine1'].db\n",
    "        grads['W2'] = self.layers['Affine2'].dW\n",
    "        grads['b2'] = self.layers['Affine2'].db\n",
    "        grads['W3'] = self.layers['Affine3'].dW\n",
    "        grads['b3'] = self.layers['Affine3'].db\n",
    "        return grads\n",
    "\n",
    "    def accuracy(self, x, t):\n",
    "        y = self.predict(x) > 0.5\n",
    "        accuracy = torch.sum(y == t).item() / float(x.shape[0])\n",
    "        return accuracy"
   ],
   "id": "67f2bb9571c2b95e",
   "outputs": [],
   "execution_count": 5
  },
  {
   "metadata": {
    "ExecuteTime": {
     "end_time": "2025-06-21T10:26:43.287938Z",
     "start_time": "2025-06-21T10:26:43.232160Z"
    }
   },
   "cell_type": "code",
   "source": [
    "%%time\n",
    "network = IrisNet()\n",
    "\n",
    "iters_num = 400\n",
    "learning_rate = 0.5\n",
    "train_loss_list = []\n",
    "train_acc_list = []\n",
    "test_acc_list = []\n",
    "\n",
    "for i in range(iters_num):\n",
    "    grad = network.gradient(X_train, y_train)\n",
    "\n",
    "    for key in ('W1', 'b1', 'W2', 'b2', 'W3', 'b3'):\n",
    "        network.params[key] -= learning_rate * grad[key]\n",
    "\n",
    "    loss = network.loss(X_train, y_train)\n",
    "    train_loss_list.append(loss.item())\n",
    "\n",
    "    train_acc = network.accuracy(X_train, y_train)\n",
    "    test_acc = network.accuracy(X_test, y_test)\n",
    "    train_acc_list.append(train_acc)\n",
    "    test_acc_list.append(test_acc)\n",
    "    if i % 50 == 0:\n",
    "        print(f\"Epoch {i}, loss: {loss:.4f}, \"\n",
    "              f\"Train Acc: {train_acc:.4f}, Test Acc: {test_acc:.4f}\")"
   ],
   "id": "4331b10a04fc4cd",
   "outputs": [
    {
     "name": "stdout",
     "output_type": "stream",
     "text": [
      "Epoch 0, loss: 0.6944, Train Acc: 0.5000, Test Acc: 0.5000\n",
      "Epoch 50, loss: 0.6930, Train Acc: 0.5000, Test Acc: 0.5000\n",
      "Epoch 100, loss: 0.6925, Train Acc: 0.5000, Test Acc: 0.5000\n",
      "Epoch 150, loss: 0.6915, Train Acc: 0.5000, Test Acc: 0.5000\n",
      "Epoch 200, loss: 0.6879, Train Acc: 0.5000, Test Acc: 0.5000\n",
      "Epoch 250, loss: 0.6646, Train Acc: 0.5000, Test Acc: 0.5000\n",
      "Epoch 300, loss: 0.3963, Train Acc: 0.9500, Test Acc: 0.9500\n",
      "Epoch 350, loss: 0.0936, Train Acc: 1.0000, Test Acc: 1.0000\n",
      "CPU times: user 45.2 ms, sys: 2.87 ms, total: 48 ms\n",
      "Wall time: 52.4 ms\n"
     ]
    }
   ],
   "execution_count": 6
  },
  {
   "metadata": {
    "ExecuteTime": {
     "end_time": "2025-06-21T10:26:44.718734Z",
     "start_time": "2025-06-21T10:26:44.603640Z"
    }
   },
   "cell_type": "code",
   "source": [
    "import matplotlib.pyplot as plt\n",
    "\n",
    "plt.figure(figsize=(12, 5))\n",
    "plt.subplot(1, 2, 1)\n",
    "plt.plot(train_acc_list, label='train acc', linewidth=2)\n",
    "plt.plot(test_acc_list, label='test acc', linestyle='--', linewidth=2)\n",
    "plt.xlabel('Epochs', fontsize=12)\n",
    "plt.ylabel('Accuracy', fontsize=12)\n",
    "plt.title('Training and Test Accuracy', fontsize=12)\n",
    "plt.xticks(fontsize=12)\n",
    "plt.yticks(fontsize=12)\n",
    "plt.legend()\n",
    "\n",
    "plt.subplot(1, 2, 2)\n",
    "plt.plot(train_loss_list, label='train loss', linewidth=2)\n",
    "plt.xlabel('Epochs', fontsize=12)\n",
    "plt.ylabel('Loss', fontsize=12)\n",
    "plt.title('Training Loss', fontsize=12)\n",
    "plt.xticks(fontsize=12)\n",
    "plt.yticks(fontsize=12)\n",
    "\n",
    "plt.tight_layout()\n",
    "plt.show()"
   ],
   "id": "334f09bd5d06be3e",
   "outputs": [
    {
     "data": {
      "text/plain": [
       "<Figure size 1200x500 with 2 Axes>"
      ],
      "image/png": "[encoded data removed]"
     },
     "metadata": {},
     "output_type": "display_data"
    }
   ],
   "execution_count": 7
  },
  {
   "metadata": {
    "ExecuteTime": {
     "end_time": "2025-06-21T10:26:45.271437Z",
     "start_time": "2025-06-21T10:26:45.268602Z"
    }
   },
   "cell_type": "code",
   "source": [
    "x1 = torch.tensor(100, dtype=torch.float32)\n",
    "print(x1)\n",
    "\n",
    "x = torch.tensor(100.0, requires_grad=True)\n",
    "print(x)"
   ],
   "id": "ff275c48e8d9d66",
   "outputs": [
    {
     "name": "stdout",
     "output_type": "stream",
     "text": [
      "tensor(100.)\n",
      "tensor(100., requires_grad=True)\n"
     ]
    }
   ],
   "execution_count": 8
  },
  {
   "metadata": {
    "ExecuteTime": {
     "end_time": "2025-06-21T10:26:46.050174Z",
     "start_time": "2025-06-21T10:26:46.046508Z"
    }
   },
   "cell_type": "code",
   "source": [
    "y = x * 2\n",
    "print(y)"
   ],
   "id": "6091405107698214",
   "outputs": [
    {
     "name": "stdout",
     "output_type": "stream",
     "text": [
      "tensor(200., grad_fn=<MulBackward0>)\n"
     ]
    }
   ],
   "execution_count": 9
  },
  {
   "metadata": {
    "ExecuteTime": {
     "end_time": "2025-06-21T10:26:46.675551Z",
     "start_time": "2025-06-21T10:26:46.672885Z"
    }
   },
   "cell_type": "code",
   "source": [
    "print(x.grad_fn)\n",
    "print(y.grad_fn)"
   ],
   "id": "a280293b2fc5341e",
   "outputs": [
    {
     "name": "stdout",
     "output_type": "stream",
     "text": [
      "None\n",
      "<MulBackward0 object at 0x11e764cd0>\n"
     ]
    }
   ],
   "execution_count": 10
  },
  {
   "metadata": {
    "ExecuteTime": {
     "end_time": "2025-06-21T10:26:47.263067Z",
     "start_time": "2025-06-21T10:26:47.259710Z"
    }
   },
   "cell_type": "code",
   "source": [
    "z = y * 1.1\n",
    "print(z)"
   ],
   "id": "fada72857e21125f",
   "outputs": [
    {
     "name": "stdout",
     "output_type": "stream",
     "text": [
      "tensor(220., grad_fn=<MulBackward0>)\n"
     ]
    }
   ],
   "execution_count": 11
  },
  {
   "metadata": {
    "ExecuteTime": {
     "end_time": "2025-06-21T10:26:47.893699Z",
     "start_time": "2025-06-21T10:26:47.865364Z"
    }
   },
   "cell_type": "code",
   "source": [
    "z.backward()\n",
    "print(x.grad)"
   ],
   "id": "d55ba029244c9e66",
   "outputs": [
    {
     "name": "stdout",
     "output_type": "stream",
     "text": [
      "tensor(2.2000)\n"
     ]
    }
   ],
   "execution_count": 12
  },
  {
   "metadata": {
    "ExecuteTime": {
     "end_time": "2025-06-21T10:26:48.570629Z",
     "start_time": "2025-06-21T10:26:48.566712Z"
    }
   },
   "cell_type": "code",
   "source": [
    "x1 = torch.tensor(100, dtype=torch.float32)\n",
    "out = x1 * 2 * 1.1\n",
    "print(x1.requires_grad)\n",
    "print(out.grad_fn)\n",
    "\n",
    "x1.requires_grad_(True)\n",
    "out1 = x1 * 2 * 1.1\n",
    "print(x1.requires_grad)\n",
    "print(out1.grad_fn)"
   ],
   "id": "b3938e852f299201",
   "outputs": [
    {
     "name": "stdout",
     "output_type": "stream",
     "text": [
      "False\n",
      "None\n",
      "True\n",
      "<MulBackward0 object at 0x11d0f6c50>\n"
     ]
    }
   ],
   "execution_count": 13
  },
  {
   "metadata": {
    "ExecuteTime": {
     "end_time": "2025-06-21T10:26:49.242415Z",
     "start_time": "2025-06-21T10:26:49.239876Z"
    }
   },
   "cell_type": "code",
   "source": [
    "with torch.no_grad():\n",
    "    print(x1.requires_grad)"
   ],
   "id": "3690ea3910d680f8",
   "outputs": [
    {
     "name": "stdout",
     "output_type": "stream",
     "text": [
      "True\n"
     ]
    }
   ],
   "execution_count": 14
  },
  {
   "metadata": {
    "ExecuteTime": {
     "end_time": "2025-06-21T10:26:50.189944Z",
     "start_time": "2025-06-21T10:26:50.185621Z"
    }
   },
   "cell_type": "code",
   "source": [
    "print((x1 * 2 * 1.1).requires_grad)\n",
    "\n",
    "with torch.no_grad():\n",
    "    print((x1 * 2 * 1.1).requires_grad)"
   ],
   "id": "b3611bb7a854918",
   "outputs": [
    {
     "name": "stdout",
     "output_type": "stream",
     "text": [
      "True\n",
      "False\n"
     ]
    }
   ],
   "execution_count": 15
  },
  {
   "metadata": {
    "ExecuteTime": {
     "end_time": "2025-06-21T10:26:50.907543Z",
     "start_time": "2025-06-21T10:26:50.902494Z"
    }
   },
   "cell_type": "code",
   "source": [
    "print(x1.requires_grad)\n",
    "y = x1.detach()\n",
    "print(x1.requires_grad)\n",
    "print(x1.eq(y).all())"
   ],
   "id": "3c8acaea84780e40",
   "outputs": [
    {
     "name": "stdout",
     "output_type": "stream",
     "text": [
      "True\n",
      "True\n",
      "tensor(True)\n"
     ]
    }
   ],
   "execution_count": 16
  },
  {
   "metadata": {
    "ExecuteTime": {
     "end_time": "2025-06-21T10:26:51.769131Z",
     "start_time": "2025-06-21T10:26:51.760431Z"
    }
   },
   "cell_type": "code",
   "source": [
    "from torch import nn\n",
    "\n",
    "y = torch.tensor([0.1, 0.05, 0.6, 0.0, 0.05, 0.1, 0.0, 0.1, 0.0, 0.0], requires_grad=True)\n",
    "criterion = nn.CrossEntropyLoss()\n",
    "loss = criterion(y, torch.tensor(2))\n",
    "print(loss)\n",
    "loss.backward()\n",
    "print(y.grad)"
   ],
   "id": "caea39495c3d1556",
   "outputs": [
    {
     "name": "stdout",
     "output_type": "stream",
     "text": [
      "tensor(1.8195, grad_fn=<NllLossBackward0>)\n",
      "tensor([ 0.0983,  0.0935, -0.8379,  0.0890,  0.0935,  0.0983,  0.0890,  0.0983,\n",
      "         0.0890,  0.0890])\n"
     ]
    }
   ],
   "execution_count": 17
  },
  {
   "metadata": {
    "ExecuteTime": {
     "end_time": "2025-06-21T10:27:56.561427Z",
     "start_time": "2025-06-21T10:27:56.557171Z"
    }
   },
   "cell_type": "code",
   "source": [
    "model = nn.Sequential(\n",
    "    nn.Linear(4, 10),    \n",
    "    nn.Sigmoid(),           \n",
    "    nn.Linear(10, 10),   \n",
    "    nn.Sigmoid(),\n",
    "    nn.Linear(10, 3),\n",
    ")"
   ],
   "id": "4e659340d7677827",
   "outputs": [],
   "execution_count": 23
  },
  {
   "metadata": {
    "ExecuteTime": {
     "end_time": "2025-06-21T10:27:58.051927Z",
     "start_time": "2025-06-21T10:27:58.046402Z"
    }
   },
   "cell_type": "code",
   "source": [
    "from torchinfo import summary\n",
    "summary(model, input_size=(1, 4))"
   ],
   "id": "24d6f364878497f0",
   "outputs": [
    {
     "data": {
      "text/plain": [
       "==========================================================================================\n",
       "Layer (type:depth-idx)                   Output Shape              Param #\n",
       "==========================================================================================\n",
       "Sequential                               [1, 3]                    --\n",
       "├─Linear: 1-1                            [1, 10]                   50\n",
       "├─Sigmoid: 1-2                           [1, 10]                   --\n",
       "├─Linear: 1-3                            [1, 10]                   110\n",
       "├─Sigmoid: 1-4                           [1, 10]                   --\n",
       "├─Linear: 1-5                            [1, 3]                    33\n",
       "==========================================================================================\n",
       "Total params: 193\n",
       "Trainable params: 193\n",
       "Non-trainable params: 0\n",
       "Total mult-adds (Units.MEGABYTES): 0.00\n",
       "==========================================================================================\n",
       "Input size (MB): 0.00\n",
       "Forward/backward pass size (MB): 0.00\n",
       "Params size (MB): 0.00\n",
       "Estimated Total Size (MB): 0.00\n",
       "=========================================================================================="
      ]
     },
     "execution_count": 24,
     "metadata": {},
     "output_type": "execute_result"
    }
   ],
   "execution_count": 24
  },
  {
   "metadata": {
    "ExecuteTime": {
     "end_time": "2025-06-21T10:28:04.441273Z",
     "start_time": "2025-06-21T10:28:04.434996Z"
    }
   },
   "cell_type": "code",
   "source": [
    "iris = load_iris()\n",
    "x = iris.data\n",
    "y = iris.target\n",
    "\n",
    "x_train, x_test, y_train, y_test = train_test_split(x, y, random_state=0)\n",
    "print(x_train.shape, x_test.shape, y_train.shape, y_test.shape)\n",
    "\n",
    "x_train_tensor = torch.FloatTensor(x_train)\n",
    "y_train_tensor = torch.LongTensor(y_train)\n",
    "x_test_tensor = torch.FloatTensor(x_test)\n",
    "y_test_tensor = torch.LongTensor(y_test)"
   ],
   "id": "dfa27ad48af7c1e3",
   "outputs": [
    {
     "name": "stdout",
     "output_type": "stream",
     "text": [
      "(112, 4) (38, 4) (112,) (38,)\n"
     ]
    }
   ],
   "execution_count": 25
  },
  {
   "metadata": {
    "ExecuteTime": {
     "end_time": "2025-06-21T10:28:07.746343Z",
     "start_time": "2025-06-21T10:28:07.743152Z"
    }
   },
   "cell_type": "code",
   "source": [
    "criterion = nn.CrossEntropyLoss()\n",
    "optimizer = torch.optim.SGD(model.parameters(), lr=0.5)"
   ],
   "id": "751ef515529b9ee2",
   "outputs": [],
   "execution_count": 26
  },
  {
   "metadata": {
    "ExecuteTime": {
     "end_time": "2025-06-21T10:28:32.741600Z",
     "start_time": "2025-06-21T10:28:32.471886Z"
    }
   },
   "cell_type": "code",
   "source": [
    "num_epochs = 1000\n",
    "\n",
    "model.train()\n",
    "for epoch in range(num_epochs):\n",
    "    # 前向传播\n",
    "    outputs = model(x_train_tensor)\n",
    "    loss = criterion(outputs, y_train_tensor)\n",
    "    \n",
    "    optimizer.zero_grad()\n",
    "    loss.backward()\n",
    "    optimizer.step()\n",
    "    _, train_predicted = torch.max(outputs.data, 1)\n",
    "    train_accuracy = (train_predicted == y_train_tensor).sum().item() / y_train_tensor.size(0)\n",
    "    if (epoch + 1) % 100 == 0:\n",
    "        print(f'Epoch [{epoch+1}/{num_epochs}], Loss: {loss.item():.4f},  训练集准确率: {train_accuracy:.4f}')"
   ],
   "id": "3d2ec0a0680120b9",
   "outputs": [
    {
     "name": "stdout",
     "output_type": "stream",
     "text": [
      "Epoch [100/1000], Loss: 0.0541,  训练集准确率: 0.9911\n",
      "Epoch [200/1000], Loss: 0.0510,  训练集准确率: 0.9821\n",
      "Epoch [300/1000], Loss: 0.0483,  训练集准确率: 0.9821\n",
      "Epoch [400/1000], Loss: 0.0461,  训练集准确率: 0.9821\n",
      "Epoch [500/1000], Loss: 0.0443,  训练集准确率: 0.9821\n",
      "Epoch [600/1000], Loss: 0.0427,  训练集准确率: 0.9821\n",
      "Epoch [700/1000], Loss: 0.0414,  训练集准确率: 0.9821\n",
      "Epoch [800/1000], Loss: 0.0403,  训练集准确率: 0.9821\n",
      "Epoch [900/1000], Loss: 0.0393,  训练集准确率: 0.9821\n",
      "Epoch [1000/1000], Loss: 0.0385,  训练集准确率: 0.9911\n"
     ]
    }
   ],
   "execution_count": 30
  },
  {
   "metadata": {
    "ExecuteTime": {
     "end_time": "2025-06-21T10:28:34.625824Z",
     "start_time": "2025-06-21T10:28:34.622610Z"
    }
   },
   "cell_type": "code",
   "source": [
    "model.eval()\n",
    "with torch.no_grad():\n",
    "    outputs = model(x_test_tensor)\n",
    "    _, predicted = torch.max(outputs.data, 1)\n",
    "    accuracy = (predicted == y_test_tensor).sum().item() / y_test_tensor.size(0)\n",
    "    print(f'测试集准确率: {accuracy:.4f}')"
   ],
   "id": "902a6c5dd316e25e",
   "outputs": [
    {
     "name": "stdout",
     "output_type": "stream",
     "text": [
      "测试集准确率: 0.9474\n"
     ]
    }
   ],
   "execution_count": 31
  },
  {
   "metadata": {},
   "cell_type": "code",
   "source": "",
   "id": "195ee39355561a84",
   "outputs": [],
   "execution_count": null
  }
 ],
 "metadata": {
  "kernelspec": {
   "display_name": "Python 3",
   "language": "python",
   "name": "python3"
  },
  "language_info": {
   "codemirror_mode": {
    "name": "ipython",
    "version": 2
   },
   "file_extension": ".py",
   "mimetype": "text/x-python",
   "name": "python",
   "nbconvert_exporter": "python",
   "pygments_lexer": "ipython2",
   "version": "2.7.6"
  }
 },
 "nbformat": 4,
 "nbformat_minor": 5
}
