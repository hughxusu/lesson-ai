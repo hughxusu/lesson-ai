{
 "cells": [
  {
   "cell_type": "code",
   "id": "initial_id",
   "metadata": {
    "collapsed": true,
    "ExecuteTime": {
     "end_time": "2025-05-28T14:41:30.532244Z",
     "start_time": "2025-05-28T14:41:30.526765Z"
    }
   },
   "source": [
    "def AND(x1, x2):\n",
    "    w1, w2, theta = 0.5, 0.5, 0.7\n",
    "    tmp = x1*w1 + x2*w2\n",
    "    if tmp <= theta:\n",
    "        return 0\n",
    "    elif tmp > theta:\n",
    "        return 1\n",
    "    \n",
    "print(AND(0, 0))\n",
    "print(AND(1, 0))\n",
    "print(AND(0, 1))\n",
    "print(AND(1, 1))"
   ],
   "outputs": [
    {
     "name": "stdout",
     "output_type": "stream",
     "text": [
      "0\n",
      "0\n",
      "0\n",
      "1\n"
     ]
    }
   ],
   "execution_count": 21
  },
  {
   "metadata": {
    "ExecuteTime": {
     "end_time": "2025-05-28T14:41:31.103071Z",
     "start_time": "2025-05-28T14:41:31.097852Z"
    }
   },
   "cell_type": "code",
   "source": [
    "import numpy as np\n",
    "\n",
    "def AND(x1, x2):\n",
    "    x = np.array([x1, x2])\n",
    "    w = np.array([0.5, 0.5])\n",
    "    b = -0.7\n",
    "    tmp = np.sum(w*x) + b\n",
    "    if tmp <= 0:\n",
    "        return 0\n",
    "    else:\n",
    "        return 1\n",
    "    \n",
    "print(AND(0, 0))\n",
    "print(AND(1, 0))\n",
    "print(AND(0, 1))\n",
    "print(AND(1, 1))"
   ],
   "id": "7f6c6d9472b38586",
   "outputs": [
    {
     "name": "stdout",
     "output_type": "stream",
     "text": [
      "0\n",
      "0\n",
      "0\n",
      "1\n"
     ]
    }
   ],
   "execution_count": 22
  },
  {
   "metadata": {
    "ExecuteTime": {
     "end_time": "2025-05-28T14:41:31.607558Z",
     "start_time": "2025-05-28T14:41:31.602581Z"
    }
   },
   "cell_type": "code",
   "source": [
    "def OR(x1, x2):\n",
    "    x = np.array([x1, x2])\n",
    "    w = np.array([0.5, 0.5])\n",
    "    b = -0.2\n",
    "    tmp = np.sum(w*x) + b\n",
    "    if tmp <= 0:\n",
    "        return 0\n",
    "    else:\n",
    "        return 1\n",
    "    \n",
    "print(OR(0, 0))\n",
    "print(OR(1, 0))\n",
    "print(OR(0, 1))\n",
    "print(OR(1, 1))"
   ],
   "id": "4d6644b017f24259",
   "outputs": [
    {
     "name": "stdout",
     "output_type": "stream",
     "text": [
      "0\n",
      "1\n",
      "1\n",
      "1\n"
     ]
    }
   ],
   "execution_count": 23
  },
  {
   "metadata": {
    "ExecuteTime": {
     "end_time": "2025-05-28T14:41:32.091621Z",
     "start_time": "2025-05-28T14:41:32.086577Z"
    }
   },
   "cell_type": "code",
   "source": [
    "def NAND(x1, x2):\n",
    "    x = np.array([x1, x2])\n",
    "    w = np.array([-0.5, -0.5])\n",
    "    b = 0.7\n",
    "    tmp = np.sum(w*x) + b\n",
    "    if tmp <= 0:\n",
    "        return 0\n",
    "    else:\n",
    "        return 1\n",
    "    \n",
    "print(NAND(0, 0))\n",
    "print(NAND(1, 0))\n",
    "print(NAND(0, 1))\n",
    "print(NAND(1, 1))"
   ],
   "id": "75699b0d18583d4f",
   "outputs": [
    {
     "name": "stdout",
     "output_type": "stream",
     "text": [
      "1\n",
      "1\n",
      "1\n",
      "0\n"
     ]
    }
   ],
   "execution_count": 24
  },
  {
   "metadata": {
    "ExecuteTime": {
     "end_time": "2025-05-28T14:41:32.541594Z",
     "start_time": "2025-05-28T14:41:32.536602Z"
    }
   },
   "cell_type": "code",
   "source": [
    "def XOR(x1, x2):\n",
    "    s1 = NAND(x1, x2)\n",
    "    s2 = OR(x1, x2)\n",
    "    y = AND(s1, s2)\n",
    "    return y\n",
    "\n",
    "print(XOR(0, 0))\n",
    "print(XOR(1, 0))\n",
    "print(XOR(0, 1))\n",
    "print(XOR(1, 1))"
   ],
   "id": "2c0fc75a1c4ff52b",
   "outputs": [
    {
     "name": "stdout",
     "output_type": "stream",
     "text": [
      "0\n",
      "1\n",
      "1\n",
      "0\n"
     ]
    }
   ],
   "execution_count": 25
  },
  {
   "metadata": {
    "ExecuteTime": {
     "end_time": "2025-05-28T14:41:33.124963Z",
     "start_time": "2025-05-28T14:41:33.121896Z"
    }
   },
   "cell_type": "code",
   "source": "import torch",
   "id": "828261a8965056c4",
   "outputs": [],
   "execution_count": 26
  },
  {
   "metadata": {
    "ExecuteTime": {
     "end_time": "2025-05-28T14:41:33.599533Z",
     "start_time": "2025-05-28T14:41:33.594991Z"
    }
   },
   "cell_type": "code",
   "source": [
    "x = torch.empty(5, 3)\n",
    "print(x)"
   ],
   "id": "b95acea89f70a7a2",
   "outputs": [
    {
     "name": "stdout",
     "output_type": "stream",
     "text": [
      "tensor([[ 0.5525, -1.0750,  1.5437],\n",
      "        [-0.3558,  0.2688, -0.5244],\n",
      "        [-0.1605,  0.5240, -0.9731],\n",
      "        [-0.1149, -1.6686,  0.2604],\n",
      "        [-0.3460,  0.1163,  0.0321]])\n"
     ]
    }
   ],
   "execution_count": 27
  },
  {
   "metadata": {
    "ExecuteTime": {
     "end_time": "2025-05-28T14:41:34.195744Z",
     "start_time": "2025-05-28T14:41:34.191777Z"
    }
   },
   "cell_type": "code",
   "source": [
    "x = torch.rand(5, 3)\n",
    "print(x)"
   ],
   "id": "688172da0db6db80",
   "outputs": [
    {
     "name": "stdout",
     "output_type": "stream",
     "text": [
      "tensor([[0.0690, 0.5368, 0.2172],\n",
      "        [0.6602, 0.4275, 0.0125],\n",
      "        [0.1684, 0.7674, 0.9430],\n",
      "        [0.7413, 0.5080, 0.1711],\n",
      "        [0.6900, 0.4394, 0.3123]])\n"
     ]
    }
   ],
   "execution_count": 28
  },
  {
   "metadata": {
    "ExecuteTime": {
     "end_time": "2025-05-28T14:41:34.668714Z",
     "start_time": "2025-05-28T14:41:34.664318Z"
    }
   },
   "cell_type": "code",
   "source": [
    "x = torch.zeros(5, 3, dtype=torch.long)\n",
    "print(x)"
   ],
   "id": "66f75162f918e6f0",
   "outputs": [
    {
     "name": "stdout",
     "output_type": "stream",
     "text": [
      "tensor([[0, 0, 0],\n",
      "        [0, 0, 0],\n",
      "        [0, 0, 0],\n",
      "        [0, 0, 0],\n",
      "        [0, 0, 0]])\n"
     ]
    }
   ],
   "execution_count": 29
  },
  {
   "metadata": {
    "ExecuteTime": {
     "end_time": "2025-05-28T14:41:35.116811Z",
     "start_time": "2025-05-28T14:41:35.112566Z"
    }
   },
   "cell_type": "code",
   "source": [
    "x = torch.tensor([2.5, 3.5])\n",
    "print(x)"
   ],
   "id": "308b97a46cfdb189",
   "outputs": [
    {
     "name": "stdout",
     "output_type": "stream",
     "text": [
      "tensor([2.5000, 3.5000])\n"
     ]
    }
   ],
   "execution_count": 30
  },
  {
   "metadata": {
    "ExecuteTime": {
     "end_time": "2025-05-28T14:41:35.705551Z",
     "start_time": "2025-05-28T14:41:35.699145Z"
    }
   },
   "cell_type": "code",
   "source": [
    "x = x.new_ones(5, 3, dtype=torch.double)\n",
    "print(x)\n",
    "\n",
    "y = torch.randn_like(x, dtype=torch.float)\n",
    "print(y)"
   ],
   "id": "65183a2a73808742",
   "outputs": [
    {
     "name": "stdout",
     "output_type": "stream",
     "text": [
      "tensor([[1., 1., 1.],\n",
      "        [1., 1., 1.],\n",
      "        [1., 1., 1.],\n",
      "        [1., 1., 1.],\n",
      "        [1., 1., 1.]], dtype=torch.float64)\n",
      "tensor([[ 1.1913,  0.1702,  0.5442],\n",
      "        [ 0.3467, -0.7905, -1.1380],\n",
      "        [ 0.0437, -1.9117,  1.6265],\n",
      "        [-1.7044, -0.9828, -0.1467],\n",
      "        [ 1.4953, -2.0119, -2.5557]])\n"
     ]
    }
   ],
   "execution_count": 31
  },
  {
   "metadata": {
    "ExecuteTime": {
     "end_time": "2025-05-28T14:41:36.220639Z",
     "start_time": "2025-05-28T14:41:36.215459Z"
    }
   },
   "cell_type": "code",
   "source": [
    "print(x.size())\n",
    "print(y.size())\n",
    "a, b = x.size()\n",
    "print(a, b)"
   ],
   "id": "553600289d546750",
   "outputs": [
    {
     "name": "stdout",
     "output_type": "stream",
     "text": [
      "torch.Size([5, 3])\n",
      "torch.Size([5, 3])\n",
      "5 3\n"
     ]
    }
   ],
   "execution_count": 32
  },
  {
   "metadata": {
    "ExecuteTime": {
     "end_time": "2025-05-28T14:41:37.281050Z",
     "start_time": "2025-05-28T14:41:37.274194Z"
    }
   },
   "cell_type": "code",
   "source": [
    "rank_0_tensor = torch.tensor(4)\n",
    "print(rank_0_tensor)\n",
    "\n",
    "rank_1_tensor = torch.tensor([2.0, 3.0, 4.0])\n",
    "print(rank_1_tensor)\n",
    "\n",
    "rank_2_tensor = torch.tensor([[1, 2], [3, 4], [5, 6]], dtype=torch.float16)\n",
    "print(rank_2_tensor)"
   ],
   "id": "edd0c4a450f64d94",
   "outputs": [
    {
     "name": "stdout",
     "output_type": "stream",
     "text": [
      "tensor(4)\n",
      "tensor([2., 3., 4.])\n",
      "tensor([[1., 2.],\n",
      "        [3., 4.],\n",
      "        [5., 6.]], dtype=torch.float16)\n"
     ]
    }
   ],
   "execution_count": 33
  },
  {
   "metadata": {
    "ExecuteTime": {
     "end_time": "2025-05-28T14:41:37.818802Z",
     "start_time": "2025-05-28T14:41:37.813354Z"
    }
   },
   "cell_type": "code",
   "source": [
    "rank_3_tensor = torch.tensor([\n",
    "    [[0, 1, 2, 3, 4],\n",
    "     [5, 6, 7, 8, 9]],\n",
    "    [[10, 11, 12, 13, 14],\n",
    "     [15, 16, 17, 18, 19]],\n",
    "    [[20, 21, 22, 23, 24],\n",
    "     [25, 26, 27, 28, 29]],])\n",
    "print(rank_3_tensor)"
   ],
   "id": "6c27b383f7529e10",
   "outputs": [
    {
     "name": "stdout",
     "output_type": "stream",
     "text": [
      "tensor([[[ 0,  1,  2,  3,  4],\n",
      "         [ 5,  6,  7,  8,  9]],\n",
      "\n",
      "        [[10, 11, 12, 13, 14],\n",
      "         [15, 16, 17, 18, 19]],\n",
      "\n",
      "        [[20, 21, 22, 23, 24],\n",
      "         [25, 26, 27, 28, 29]]])\n"
     ]
    }
   ],
   "execution_count": 34
  },
  {
   "metadata": {
    "ExecuteTime": {
     "end_time": "2025-05-28T14:41:38.550717Z",
     "start_time": "2025-05-28T14:41:38.544558Z"
    }
   },
   "cell_type": "code",
   "source": [
    "print(x + y)\n",
    "print(torch.add(x, y))"
   ],
   "id": "c242d57ff7b675ad",
   "outputs": [
    {
     "name": "stdout",
     "output_type": "stream",
     "text": [
      "tensor([[ 2.1913,  1.1702,  1.5442],\n",
      "        [ 1.3467,  0.2095, -0.1380],\n",
      "        [ 1.0437, -0.9117,  2.6265],\n",
      "        [-0.7044,  0.0172,  0.8533],\n",
      "        [ 2.4953, -1.0119, -1.5557]], dtype=torch.float64)\n",
      "tensor([[ 2.1913,  1.1702,  1.5442],\n",
      "        [ 1.3467,  0.2095, -0.1380],\n",
      "        [ 1.0437, -0.9117,  2.6265],\n",
      "        [-0.7044,  0.0172,  0.8533],\n",
      "        [ 2.4953, -1.0119, -1.5557]], dtype=torch.float64)\n"
     ]
    }
   ],
   "execution_count": 35
  },
  {
   "metadata": {
    "ExecuteTime": {
     "end_time": "2025-05-28T14:42:35.063404Z",
     "start_time": "2025-05-28T14:42:35.054357Z"
    }
   },
   "cell_type": "code",
   "source": [
    "result = torch.zeros(5, 3)\n",
    "print(result)\n",
    "torch.add(x, y, out=result)\n",
    "print(result)"
   ],
   "id": "d6b7f4d506bda3ec",
   "outputs": [
    {
     "name": "stdout",
     "output_type": "stream",
     "text": [
      "tensor([[0., 0., 0.],\n",
      "        [0., 0., 0.],\n",
      "        [0., 0., 0.],\n",
      "        [0., 0., 0.],\n",
      "        [0., 0., 0.]])\n",
      "tensor([[ 2.1913,  1.1702,  1.5442],\n",
      "        [ 1.3467,  0.2095, -0.1380],\n",
      "        [ 1.0437, -0.9117,  2.6265],\n",
      "        [-0.7044,  0.0172,  0.8533],\n",
      "        [ 2.4953, -1.0119, -1.5557]])\n"
     ]
    }
   ],
   "execution_count": 39
  },
  {
   "metadata": {
    "ExecuteTime": {
     "end_time": "2025-05-28T14:43:03.670723Z",
     "start_time": "2025-05-28T14:43:03.663302Z"
    }
   },
   "cell_type": "code",
   "source": [
    "print(y)\n",
    "y.add_(x)\n",
    "print(y)"
   ],
   "id": "2c3f5323d81dbec3",
   "outputs": [
    {
     "name": "stdout",
     "output_type": "stream",
     "text": [
      "tensor([[ 1.1913,  0.1702,  0.5442],\n",
      "        [ 0.3467, -0.7905, -1.1380],\n",
      "        [ 0.0437, -1.9117,  1.6265],\n",
      "        [-1.7044, -0.9828, -0.1467],\n",
      "        [ 1.4953, -2.0119, -2.5557]])\n",
      "tensor([[ 2.1913,  1.1702,  1.5442],\n",
      "        [ 1.3467,  0.2095, -0.1380],\n",
      "        [ 1.0437, -0.9117,  2.6265],\n",
      "        [-0.7044,  0.0172,  0.8533],\n",
      "        [ 2.4953, -1.0119, -1.5557]])\n"
     ]
    }
   ],
   "execution_count": 40
  },
  {
   "metadata": {
    "ExecuteTime": {
     "end_time": "2025-05-28T14:43:23.309536Z",
     "start_time": "2025-05-28T14:43:23.298863Z"
    }
   },
   "cell_type": "code",
   "source": "print(y[:, 1])",
   "id": "18f7ce8e023acb1b",
   "outputs": [
    {
     "name": "stdout",
     "output_type": "stream",
     "text": [
      "tensor([ 1.1702,  0.2095, -0.9117,  0.0172, -1.0119])\n"
     ]
    }
   ],
   "execution_count": 41
  },
  {
   "metadata": {
    "ExecuteTime": {
     "end_time": "2025-05-28T14:44:05.415567Z",
     "start_time": "2025-05-28T14:44:05.406731Z"
    }
   },
   "cell_type": "code",
   "source": [
    "x = torch.randn(4, 4)\n",
    "y = x.view(16)\n",
    "z = x.view(-1, 8)\n",
    "print(x.size(), y.size(), z.size())"
   ],
   "id": "365112638550790f",
   "outputs": [
    {
     "name": "stdout",
     "output_type": "stream",
     "text": [
      "torch.Size([4, 4]) torch.Size([16]) torch.Size([2, 8])\n"
     ]
    }
   ],
   "execution_count": 42
  },
  {
   "metadata": {
    "ExecuteTime": {
     "end_time": "2025-05-28T14:44:27.509224Z",
     "start_time": "2025-05-28T14:44:27.503432Z"
    }
   },
   "cell_type": "code",
   "source": [
    "x = torch.randn(1)\n",
    "print(x)\n",
    "print(x.item())"
   ],
   "id": "37a78aed8f0e0026",
   "outputs": [
    {
     "name": "stdout",
     "output_type": "stream",
     "text": [
      "tensor([0.8816])\n",
      "0.8815661668777466\n"
     ]
    }
   ],
   "execution_count": 43
  },
  {
   "metadata": {
    "ExecuteTime": {
     "end_time": "2025-05-28T14:44:46.444565Z",
     "start_time": "2025-05-28T14:44:46.438071Z"
    }
   },
   "cell_type": "code",
   "source": [
    "a = torch.ones(5)\n",
    "print(a)"
   ],
   "id": "d2395818d1fed1f6",
   "outputs": [
    {
     "name": "stdout",
     "output_type": "stream",
     "text": [
      "tensor([1., 1., 1., 1., 1.])\n"
     ]
    }
   ],
   "execution_count": 44
  },
  {
   "metadata": {
    "ExecuteTime": {
     "end_time": "2025-05-28T14:45:20.175518Z",
     "start_time": "2025-05-28T14:45:20.167227Z"
    }
   },
   "cell_type": "code",
   "source": [
    "b = a.numpy()\n",
    "print(b)"
   ],
   "id": "c51e570826b25bed",
   "outputs": [
    {
     "name": "stdout",
     "output_type": "stream",
     "text": [
      "[1. 1. 1. 1. 1.]\n"
     ]
    }
   ],
   "execution_count": 45
  },
  {
   "metadata": {
    "ExecuteTime": {
     "end_time": "2025-05-28T14:45:30.188768Z",
     "start_time": "2025-05-28T14:45:30.182623Z"
    }
   },
   "cell_type": "code",
   "source": [
    "a.add_(1)\n",
    "print(a)\n",
    "print(b)"
   ],
   "id": "55b2e511e2bb2d24",
   "outputs": [
    {
     "name": "stdout",
     "output_type": "stream",
     "text": [
      "tensor([2., 2., 2., 2., 2.])\n",
      "[2. 2. 2. 2. 2.]\n"
     ]
    }
   ],
   "execution_count": 46
  },
  {
   "metadata": {
    "ExecuteTime": {
     "end_time": "2025-05-28T14:45:59.455020Z",
     "start_time": "2025-05-28T14:45:59.445957Z"
    }
   },
   "cell_type": "code",
   "source": [
    "a = np.ones(5)\n",
    "b = torch.from_numpy(a)\n",
    "print(a)\n",
    "print(b)\n",
    "print(20*'-')\n",
    "np.add(a, 1, out=a)\n",
    "print(a)\n",
    "print(b)"
   ],
   "id": "b341d5a0b661a324",
   "outputs": [
    {
     "name": "stdout",
     "output_type": "stream",
     "text": [
      "[1. 1. 1. 1. 1.]\n",
      "tensor([1., 1., 1., 1., 1.], dtype=torch.float64)\n",
      "--------------------\n",
      "[2. 2. 2. 2. 2.]\n",
      "tensor([2., 2., 2., 2., 2.], dtype=torch.float64)\n"
     ]
    }
   ],
   "execution_count": 47
  },
  {
   "metadata": {},
   "cell_type": "code",
   "outputs": [],
   "execution_count": null,
   "source": "",
   "id": "2129ef16ce17001"
  }
 ],
 "metadata": {
  "kernelspec": {
   "display_name": "Python 3",
   "language": "python",
   "name": "python3"
  },
  "language_info": {
   "codemirror_mode": {
    "name": "ipython",
    "version": 2
   },
   "file_extension": ".py",
   "mimetype": "text/x-python",
   "name": "python",
   "nbconvert_exporter": "python",
   "pygments_lexer": "ipython2",
   "version": "2.7.6"
  }
 },
 "nbformat": 4,
 "nbformat_minor": 5
}
