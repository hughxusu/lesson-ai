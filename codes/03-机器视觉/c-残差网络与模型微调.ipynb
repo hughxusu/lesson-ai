{
 "cells": [
  {
   "metadata": {
    "ExecuteTime": {
     "end_time": "2025-05-06T01:27:08.740237Z",
     "start_time": "2025-05-06T01:27:08.735819Z"
    },
    "collapsed": true
   },
   "cell_type": "code",
   "outputs": [],
   "execution_count": 1,
   "source": [
    "import sys\n",
    "sys.path.append('../')"
   ],
   "id": "initial_id"
  },
  {
   "metadata": {},
   "cell_type": "code",
   "outputs": [],
   "source": "",
   "id": "f9cce7f0",
   "execution_count": null
  }
 ],
 "metadata": {
  "kernelspec": {
   "display_name": "ai",
   "language": "python",
   "name": "python3"
  },
  "language_info": {
   "codemirror_mode": {
    "name": "ipython",
    "version": 3
   },
   "file_extension": ".py",
   "mimetype": "text/x-python",
   "name": "python",
   "nbconvert_exporter": "python",
   "pygments_lexer": "ipython3",
   "version": "3.12.9"
  }
 },
 "nbformat": 4,
 "nbformat_minor": 5
}
