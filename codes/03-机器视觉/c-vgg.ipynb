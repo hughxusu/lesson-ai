{
 "cells": [
  {
   "metadata": {
    "collapsed": true,
    "ExecuteTime": {
     "end_time": "2025-07-01T08:30:29.714454Z",
     "start_time": "2025-07-01T08:30:26.661204Z"
    }
   },
   "cell_type": "code",
   "source": "%run utils.py",
   "id": "initial_id",
   "outputs": [],
   "execution_count": 2
  },
  {
   "metadata": {
    "ExecuteTime": {
     "end_time": "2025-07-01T08:30:31.717625Z",
     "start_time": "2025-07-01T08:30:31.692044Z"
    }
   },
   "cell_type": "code",
   "source": [
    "from utils import ConvRelu\n",
    "from torch import nn\n",
    "\n",
    "def vgg_block(conv_in, conv_out, conv_num):\n",
    "    layers = []\n",
    "    layers.append(ConvRelu(conv_in, conv_out, kernel_size=3, padding=1))\n",
    "    for i in range(conv_num - 1):\n",
    "        layers.append(ConvRelu(conv_out, conv_out, kernel_size=3, padding=1))\n",
    "\n",
    "    layers.append(nn.MaxPool2d(kernel_size=2, stride=2))\n",
    "    return nn.Sequential(*layers)\n",
    "\n",
    "block = vgg_block(3, 64, 2)\n",
    "print(block)"
   ],
   "id": "f9cce7f0",
   "outputs": [
    {
     "name": "stdout",
     "output_type": "stream",
     "text": [
      "Sequential(\n",
      "  (0): ConvRelu(\n",
      "    (conv): Conv2d(3, 64, kernel_size=(3, 3), stride=(1, 1), padding=(1, 1))\n",
      "    (relu): ReLU()\n",
      "  )\n",
      "  (1): ConvRelu(\n",
      "    (conv): Conv2d(64, 64, kernel_size=(3, 3), stride=(1, 1), padding=(1, 1))\n",
      "    (relu): ReLU()\n",
      "  )\n",
      "  (2): MaxPool2d(kernel_size=2, stride=2, padding=0, dilation=1, ceil_mode=False)\n",
      ")\n"
     ]
    }
   ],
   "execution_count": 3
  },
  {
   "metadata": {
    "ExecuteTime": {
     "end_time": "2025-07-01T08:45:59.985348Z",
     "start_time": "2025-07-01T08:45:59.976366Z"
    }
   },
   "cell_type": "code",
   "source": [
    "class VggBlock(nn.Module):\n",
    "    def __init__(self, conv_in, conv_out, conv_num):\n",
    "        super(VggBlock, self).__init__()\n",
    "        self.layers = []\n",
    "        self.layers.append(ConvRelu(conv_in, conv_out, kernel_size=3, padding=1))\n",
    "        for i in range(conv_num - 1):\n",
    "            self.layers.append(ConvRelu(conv_out, conv_out, kernel_size=3, padding=1))\n",
    "\n",
    "        self.layers.append(nn.MaxPool2d(kernel_size=2, stride=2))\n",
    "\n",
    "    def forward(self, x):\n",
    "        for layer in self.layers:\n",
    "            x = layer(x)\n",
    "        return x\n",
    "\n",
    "block = VggBlock(3, 64, 2)\n",
    "print(block)"
   ],
   "id": "7938ed70d5b2f81a",
   "outputs": [
    {
     "name": "stdout",
     "output_type": "stream",
     "text": [
      "VggBlock()\n"
     ]
    }
   ],
   "execution_count": 11
  },
  {
   "metadata": {
    "ExecuteTime": {
     "end_time": "2025-07-01T08:51:21.863594Z",
     "start_time": "2025-07-01T08:51:21.849112Z"
    }
   },
   "cell_type": "code",
   "source": [
    "from utils import LinerRelu\n",
    "\n",
    "class Vgg16(nn.Module):\n",
    "    def __init__(self, dropout=0.5):\n",
    "        super(Vgg16, self).__init__()\n",
    "        self.block1 = VggBlock(3, 64, 2)\n",
    "        self.block2 = VggBlock(64, 128, 2)\n",
    "        self.block3 = VggBlock(128, 256, 3)\n",
    "        self.block4 = VggBlock(256, 512, 3)\n",
    "        self.block5 = VggBlock(512, 512, 3)\n",
    "        self.fc1 = LinerRelu(512, 256, dropout=dropout)\n",
    "        self.fc2 = LinerRelu(256, 128, dropout=dropout)\n",
    "        self.fc3 = LinerRelu(128, 10, dropout=dropout)\n",
    "\n",
    "    def forward(self, x):\n",
    "        x = self.block1(x)\n",
    "        x = self.block2(x)\n",
    "        x = self.block3(x)\n",
    "        x = self.block4(x)\n",
    "        x = self.block5(x)\n",
    "        x = nn.Flatten()(x)\n",
    "        x = self.fc1(x)\n",
    "        x = self.fc2(x)\n",
    "        x = self.fc3(x)\n",
    "        return x"
   ],
   "id": "4fb880f88e8c1d28",
   "outputs": [],
   "execution_count": 22
  },
  {
   "metadata": {
    "ExecuteTime": {
     "end_time": "2025-07-01T08:51:22.989628Z",
     "start_time": "2025-07-01T08:51:22.762752Z"
    }
   },
   "cell_type": "code",
   "source": [
    "from torchinfo import summary\n",
    "\n",
    "vgg16 = Vgg16()\n",
    "summary(vgg16, (1, 3, 32, 32))"
   ],
   "id": "fde055f95ec7e747",
   "outputs": [
    {
     "data": {
      "text/plain": [
       "==========================================================================================\n",
       "Layer (type:depth-idx)                   Output Shape              Param #\n",
       "==========================================================================================\n",
       "Vgg16                                    [1, 10]                   --\n",
       "├─VggBlock: 1-1                          [1, 64, 16, 16]           --\n",
       "├─VggBlock: 1-2                          [1, 128, 8, 8]            --\n",
       "├─VggBlock: 1-3                          [1, 256, 4, 4]            --\n",
       "├─VggBlock: 1-4                          [1, 512, 2, 2]            --\n",
       "├─VggBlock: 1-5                          [1, 512, 1, 1]            --\n",
       "├─LinerRelu: 1-6                         [1, 256]                  --\n",
       "│    └─Linear: 2-1                       [1, 256]                  131,328\n",
       "│    └─ReLU: 2-2                         [1, 256]                  --\n",
       "│    └─Dropout: 2-3                      [1, 256]                  --\n",
       "├─LinerRelu: 1-7                         [1, 128]                  --\n",
       "│    └─Linear: 2-4                       [1, 128]                  32,896\n",
       "│    └─ReLU: 2-5                         [1, 128]                  --\n",
       "│    └─Dropout: 2-6                      [1, 128]                  --\n",
       "├─LinerRelu: 1-8                         [1, 10]                   --\n",
       "│    └─Linear: 2-7                       [1, 10]                   1,290\n",
       "│    └─ReLU: 2-8                         [1, 10]                   --\n",
       "│    └─Dropout: 2-9                      [1, 10]                   --\n",
       "==========================================================================================\n",
       "Total params: 165,514\n",
       "Trainable params: 165,514\n",
       "Non-trainable params: 0\n",
       "Total mult-adds (Units.MEGABYTES): 0.17\n",
       "==========================================================================================\n",
       "Input size (MB): 0.01\n",
       "Forward/backward pass size (MB): 0.00\n",
       "Params size (MB): 0.66\n",
       "Estimated Total Size (MB): 0.68\n",
       "=========================================================================================="
      ]
     },
     "execution_count": 23,
     "metadata": {},
     "output_type": "execute_result"
    }
   ],
   "execution_count": 23
  },
  {
   "metadata": {},
   "cell_type": "code",
   "outputs": [],
   "execution_count": null,
   "source": "",
   "id": "6fb7fd735df7cbe1"
  }
 ],
 "metadata": {
  "kernelspec": {
   "display_name": "ai",
   "language": "python",
   "name": "python3"
  },
  "language_info": {
   "codemirror_mode": {
    "name": "ipython",
    "version": 3
   },
   "file_extension": ".py",
   "mimetype": "text/x-python",
   "name": "python",
   "nbconvert_exporter": "python",
   "pygments_lexer": "ipython3",
   "version": "3.12.9"
  }
 },
 "nbformat": 4,
 "nbformat_minor": 5
}
