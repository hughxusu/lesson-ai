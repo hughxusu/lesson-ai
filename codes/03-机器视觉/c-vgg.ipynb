{
 "cells": [
  {
   "cell_type": "code",
   "execution_count": null,
   "id": "initial_id",
   "metadata": {
    "ExecuteTime": {
     "end_time": "2025-07-02T00:38:29.279629Z",
     "start_time": "2025-07-02T00:38:27.331622Z"
    },
    "collapsed": true
   },
   "outputs": [],
   "source": [
    "%run utils.py"
   ]
  },
  {
   "cell_type": "code",
   "execution_count": null,
   "id": "f9cce7f0",
   "metadata": {
    "ExecuteTime": {
     "end_time": "2025-07-02T00:38:31.180959Z",
     "start_time": "2025-07-02T00:38:31.167809Z"
    }
   },
   "outputs": [],
   "source": [
    "from utils import ConvRelu\n",
    "from torch import nn\n",
    "\n",
    "def vgg_block(conv_in, conv_out, conv_num):\n",
    "    layers = []\n",
    "    layers.append(ConvRelu(conv_in, conv_out, kernel_size=3, padding=1))\n",
    "    for i in range(conv_num - 1):\n",
    "        layers.append(ConvRelu(conv_out, conv_out, kernel_size=3, padding=1))\n",
    "\n",
    "    layers.append(nn.MaxPool2d(kernel_size=2, stride=2))\n",
    "    return nn.Sequential(*layers)\n",
    "\n",
    "block = vgg_block(3, 64, 2)\n",
    "print(block)"
   ]
  },
  {
   "cell_type": "code",
   "execution_count": null,
   "id": "7938ed70d5b2f81a",
   "metadata": {
    "ExecuteTime": {
     "end_time": "2025-07-02T00:38:34.727602Z",
     "start_time": "2025-07-02T00:38:34.719088Z"
    }
   },
   "outputs": [],
   "source": [
    "class VggBlock(nn.Module):\n",
    "    def __init__(self, conv_in, conv_out, conv_num):\n",
    "        super(VggBlock, self).__init__()\n",
    "        layers = []\n",
    "        layers.append(ConvRelu(conv_in, conv_out, kernel_size=3, padding=1))\n",
    "        for i in range(conv_num - 1):\n",
    "            layers.append(ConvRelu(conv_out, conv_out, kernel_size=3, padding=1))\n",
    "\n",
    "        layers.append(nn.MaxPool2d(kernel_size=2, stride=2))\n",
    "        self.block = nn.Sequential(*layers)\n",
    "\n",
    "    def forward(self, x):\n",
    "        return self.block(x)\n",
    "\n",
    "block = VggBlock(3, 64, 2)\n",
    "print(block)"
   ]
  },
  {
   "cell_type": "code",
   "execution_count": null,
   "id": "4fb880f88e8c1d28",
   "metadata": {
    "ExecuteTime": {
     "end_time": "2025-07-02T00:38:38.639684Z",
     "start_time": "2025-07-02T00:38:38.631142Z"
    }
   },
   "outputs": [],
   "source": [
    "from utils import LinerRelu\n",
    "\n",
    "class Vgg16(nn.Module):\n",
    "    def __init__(self, dropout=0.5):\n",
    "        super(Vgg16, self).__init__()\n",
    "        self.block1 = VggBlock(3, 64, 2)\n",
    "        self.block2 = VggBlock(64, 128, 2)\n",
    "        self.block3 = VggBlock(128, 256, 3)\n",
    "        self.block4 = VggBlock(256, 512, 3)\n",
    "        self.block5 = VggBlock(512, 512, 3)\n",
    "        self.fc1 = LinerRelu(512, 256, dropout=dropout)\n",
    "        self.fc2 = LinerRelu(256, 128, dropout=dropout)\n",
    "        self.fc3 = nn.Linear(128, 10)\n",
    "\n",
    "    def forward(self, x):\n",
    "        x = self.block1(x)\n",
    "        x = self.block2(x)\n",
    "        x = self.block3(x)\n",
    "        x = self.block4(x)\n",
    "        x = self.block5(x)\n",
    "        x = nn.Flatten()(x)\n",
    "        x = self.fc1(x)\n",
    "        x = self.fc2(x)\n",
    "        x = self.fc3(x)\n",
    "        return x"
   ]
  },
  {
   "cell_type": "code",
   "execution_count": null,
   "id": "fde055f95ec7e747",
   "metadata": {
    "ExecuteTime": {
     "end_time": "2025-07-02T00:38:41.225077Z",
     "start_time": "2025-07-02T00:38:41.040300Z"
    }
   },
   "outputs": [],
   "source": [
    "from torchinfo import summary\n",
    "\n",
    "vgg16 = Vgg16()\n",
    "summary(vgg16, (1, 3, 32, 32))"
   ]
  },
  {
   "cell_type": "code",
   "execution_count": null,
   "id": "6fb7fd735df7cbe1",
   "metadata": {
    "ExecuteTime": {
     "end_time": "2025-07-02T00:38:47.436698Z",
     "start_time": "2025-07-02T00:38:44.567905Z"
    }
   },
   "outputs": [],
   "source": [
    "from torchvision import datasets\n",
    "from utils import train_val_split\n",
    "\n",
    "full = datasets.CIFAR10(root=\"./data\", train=True, download=True)\n",
    "test = datasets.CIFAR10(root=\"./data\", train=False, download=True)\n",
    "train, valid = train_val_split(full, seed=666)\n",
    "\n",
    "print(len(train), len(valid), len(test))"
   ]
  },
  {
   "cell_type": "code",
   "execution_count": null,
   "id": "8a7affacee1e888c",
   "metadata": {
    "ExecuteTime": {
     "end_time": "2025-07-02T00:38:51.858739Z",
     "start_time": "2025-07-02T00:38:51.853062Z"
    }
   },
   "outputs": [],
   "source": [
    "from utils import PackDataset\n",
    "from torchvision import transforms\n",
    "\n",
    "train_data = PackDataset(train, transform=transforms.ToTensor())\n",
    "valid_data = PackDataset(valid, transform=transforms.ToTensor())\n",
    "test_data = PackDataset(test, transform=transforms.ToTensor())\n",
    "\n",
    "image, label = train_data[0]\n",
    "print(image.size())"
   ]
  },
  {
   "cell_type": "code",
   "execution_count": null,
   "id": "1ee090d4d33d8ecf",
   "metadata": {
    "ExecuteTime": {
     "end_time": "2025-07-02T00:42:39.307424Z",
     "start_time": "2025-07-02T00:42:39.295029Z"
    }
   },
   "outputs": [],
   "source": [
    "import json\n",
    "from utils import control_callbacks\n",
    "from sklearn.model_selection import ParameterGrid\n",
    "import torch\n",
    "from skorch import NeuralNetClassifier\n",
    "from skorch.helper import predefined_split"
   ]
  },
  {
   "cell_type": "code",
   "execution_count": null,
   "id": "fa1e9247c4b3782e",
   "metadata": {
    "ExecuteTime": {
     "end_time": "2025-07-02T00:38:10.070947Z",
     "start_time": "2025-07-02T00:37:43.910454Z"
    },
    "jupyter": {
     "is_executing": true
    }
   },
   "outputs": [],
   "source": [
    "epochs = 15\n",
    "param_grid = {\n",
    "    'lr': [0.01, 0.005, 0.001, 0.0005, 0.0001],\n",
    "    'dropout': [0.5, 0.3, 0.2]\n",
    "}\n",
    "\n",
    "results = {\n",
    "    'best_params': None,\n",
    "    'best_acc': 0.0,\n",
    "    'all_results': []\n",
    "}\n",
    "\n",
    "calls = control_callbacks(epochs, check_dir='./data/alex-checkpoints', show_bar=False)\n",
    "for params in ParameterGrid(param_grid):\n",
    "    print(f\"\\nTraining with params: {params}\")\n",
    "    vgg = Vgg16(params['dropout'])\n",
    "    net = NeuralNetClassifier(\n",
    "        vgg,\n",
    "        criterion=nn.CrossEntropyLoss,\n",
    "        optimizer=torch.optim.Adam,\n",
    "        lr=params['lr'],\n",
    "        batch_size=2048,\n",
    "        max_epochs=epochs,\n",
    "        train_split=predefined_split(valid_data),\n",
    "        device='cuda' if torch.cuda.is_available() else 'cpu',\n",
    "        callbacks=calls,\n",
    "        classes=list(range(10)),\n",
    "    )\n",
    "    net.fit(X=train_data, y=None)\n",
    "    valid_acc = max(net.history[:, 'valid_acc'])\n",
    "    current_result = {'params': params, 'valid_acc': valid_acc}\n",
    "    results['all_results'].append(current_result)\n",
    "\n",
    "    if valid_acc > results['best_acc']:\n",
    "        results['best_acc'] = valid_acc\n",
    "        results['best_params'] = params\n",
    "\n",
    "    print(f\"\\nBest params: {results['best_params']}, best acc: {results['best_acc']}\")\n",
    "\n",
    "with open('./data/hyperparam_results.json', 'w') as f:\n",
    "    json.dump(results, f, indent=2)"
   ]
  },
  {
   "cell_type": "code",
   "execution_count": null,
   "id": "6561c67923e5c324",
   "metadata": {},
   "outputs": [],
   "source": [
    "epochs = 50\n",
    "vgg = Vgg16(0.3)\n",
    "calls = control_callbacks(epochs, check_dir='./data/alex-checkpoints', show_bar=False)\n",
    "full_data = PackDataset(full, transform=transforms.ToTensor())\n",
    "net = NeuralNetClassifier(\n",
    "    vgg,\n",
    "    criterion=nn.CrossEntropyLoss,\n",
    "    optimizer=torch.optim.Adam,\n",
    "    lr=0.0001,\n",
    "    batch_size=2048,\n",
    "    max_epochs=epochs,\n",
    "    train_split=predefined_split(test_data),\n",
    "    device='cuda' if torch.cuda.is_available() else 'cpu',\n",
    "    callbacks=calls,\n",
    "    classes=list(range(10)),\n",
    ")\n",
    "net.fit(full_data, y=None)"
   ]
  },
  {
   "cell_type": "code",
   "execution_count": null,
   "id": "0432072d",
   "metadata": {},
   "outputs": [],
   "source": [
    "from utils import plot_history, check_result\n",
    "\n",
    "plot_history(net)"
   ]
  },
  {
   "cell_type": "code",
   "execution_count": null,
   "id": "2abcf1cb",
   "metadata": {},
   "outputs": [],
   "source": [
    "check_result(net, test_data)"
   ]
  },
  {
   "cell_type": "code",
   "execution_count": null,
   "id": "0e3ad99f",
   "metadata": {
    "ExecuteTime": {
     "end_time": "2025-07-02T00:44:53.901817Z",
     "start_time": "2025-07-02T00:44:53.891116Z"
    }
   },
   "outputs": [],
   "source": [
    "from utils import show_tensor_image\n",
    "\n",
    "def show_trans(tans_arr):\n",
    "    compose = transforms.Compose(tans_arr)\n",
    "    train_data = PackDataset(full, transform=compose)\n",
    "    image, _ = train_data[0]\n",
    "    show_tensor_image(image)\n",
    "\n",
    "show_trans([transforms.Resize(size=67), transforms.ToTensor()])"
   ]
  },
  {
   "cell_type": "code",
   "execution_count": null,
   "id": "e07be18a75df93",
   "metadata": {
    "ExecuteTime": {
     "end_time": "2025-07-02T00:44:59.189508Z",
     "start_time": "2025-07-02T00:44:59.180331Z"
    }
   },
   "outputs": [],
   "source": [
    "show_trans([\n",
    "  transforms.RandomHorizontalFlip(1), transforms.ToTensor()\n",
    "])"
   ]
  },
  {
   "cell_type": "code",
   "execution_count": null,
   "id": "df9688b674f5b8da",
   "metadata": {
    "ExecuteTime": {
     "end_time": "2025-07-02T00:45:23.259887Z",
     "start_time": "2025-07-02T00:45:23.253293Z"
    }
   },
   "outputs": [],
   "source": [
    "show_trans([\n",
    "  transforms.RandomVerticalFlip(1), transforms.ToTensor()\n",
    "])"
   ]
  },
  {
   "cell_type": "code",
   "execution_count": null,
   "id": "a8feeba98477a9e6",
   "metadata": {
    "ExecuteTime": {
     "end_time": "2025-07-02T00:45:48.745016Z",
     "start_time": "2025-07-02T00:45:48.730905Z"
    }
   },
   "outputs": [],
   "source": [
    "show_trans([\n",
    "    transforms.RandomResizedCrop(size=32, scale=(0.6, 0.6), ratio=(1.0, 1.0)),\n",
    "    transforms.ToTensor()\n",
    "])"
   ]
  },
  {
   "cell_type": "code",
   "execution_count": null,
   "id": "406579c12ec0630c",
   "metadata": {
    "ExecuteTime": {
     "end_time": "2025-07-02T00:49:53.934209Z",
     "start_time": "2025-07-02T00:49:53.926583Z"
    }
   },
   "outputs": [],
   "source": [
    "show_trans([transforms.RandomRotation(30), transforms.ToTensor()])"
   ]
  },
  {
   "cell_type": "code",
   "execution_count": null,
   "id": "6d03fcf7aa952026",
   "metadata": {
    "ExecuteTime": {
     "end_time": "2025-07-02T00:52:32.423318Z",
     "start_time": "2025-07-02T00:52:32.410767Z"
    }
   },
   "outputs": [],
   "source": [
    "from PIL import Image\n",
    "import random\n",
    "\n",
    "class RandomRotateExpandTransform:\n",
    "    def __init__(self, degrees=30, fill=0, interpolation=Image.BICUBIC):\n",
    "        if isinstance(degrees, (tuple, list)):\n",
    "            self.min_angle, self.max_angle = degrees\n",
    "        else:\n",
    "            self.min_angle = -degrees\n",
    "            self.max_angle = degrees\n",
    "\n",
    "        self.fill = fill\n",
    "        self.interpolation = interpolation\n",
    "\n",
    "    def __call__(self, img: Image.Image) -> Image.Image:\n",
    "        if not isinstance(img, Image.Image):\n",
    "            raise TypeError(\"输入图像必须是 PIL.Image.Image 类型\")\n",
    "\n",
    "        orig_size = img.size\n",
    "        angle = random.uniform(self.min_angle, self.max_angle)\n",
    "\n",
    "        rotated = img.rotate(\n",
    "            angle,\n",
    "            resample=self.interpolation,\n",
    "            expand=True,\n",
    "            fillcolor=self.fill\n",
    "        )\n",
    "\n",
    "        resized = rotated.resize(orig_size, resample=self.interpolation)\n",
    "        return resized\n",
    "\n",
    "show_trans([RandomRotateExpandTransform(30), transforms.Resize(size=32), transforms.ToTensor()])"
   ]
  },
  {
   "cell_type": "code",
   "execution_count": null,
   "id": "2be1bb3e8bd5cff1",
   "metadata": {
    "ExecuteTime": {
     "end_time": "2025-07-02T00:55:18.804159Z",
     "start_time": "2025-07-02T00:55:18.796804Z"
    }
   },
   "outputs": [],
   "source": [
    "show_trans([\n",
    "    transforms.ColorJitter(brightness=0.3, contrast=0.2, saturation=0.4, hue=0.1),\n",
    "    transforms.ToTensor()\n",
    "])"
   ]
  },
  {
   "cell_type": "code",
   "execution_count": null,
   "id": "eb26264a358ae08e",
   "metadata": {
    "ExecuteTime": {
     "end_time": "2025-07-02T00:59:40.823324Z",
     "start_time": "2025-07-02T00:59:40.814058Z"
    }
   },
   "outputs": [],
   "source": [
    "aug_list = [\n",
    "    transforms.RandomHorizontalFlip(0.5),\n",
    "    transforms.ColorJitter(brightness=0.3, contrast=0.2, saturation=0.4, hue=0.1),\n",
    "    RandomRotateExpandTransform(25),\n",
    "    transforms.RandomResizedCrop(size=32, scale=(0.7, 0.7), ratio=(1.0, 1.0)),\n",
    "    transforms.ToTensor()\n",
    "]\n",
    "\n",
    "show_trans(aug_list)\n",
    "trans_aug = transforms.Compose(aug_list)"
   ]
  },
  {
   "cell_type": "code",
   "execution_count": null,
   "id": "7c5aa13a89bb9c82",
   "metadata": {},
   "outputs": [],
   "source": [
    "epochs = 100\n",
    "vgg = Vgg16(0.3)\n",
    "calls = control_callbacks(epochs, check_dir='./data/alex-checkpoints', show_bar=False)\n",
    "full_data = PackDataset(full, transform=trans_aug)\n",
    "net = NeuralNetClassifier(\n",
    "    vgg,\n",
    "    criterion=nn.CrossEntropyLoss,\n",
    "    optimizer=torch.optim.Adam,\n",
    "    lr=0.0001,\n",
    "    batch_size=2048,\n",
    "    max_epochs=epochs,\n",
    "    train_split=predefined_split(test_data),\n",
    "    device='cuda' if torch.cuda.is_available() else 'cpu',\n",
    "    callbacks=calls,\n",
    "    classes=list(range(10)),\n",
    ")\n",
    "net.fit(full_data, y=None)"
   ]
  },
  {
   "cell_type": "code",
   "execution_count": null,
   "id": "bf0386ad",
   "metadata": {},
   "outputs": [],
   "source": []
  }
 ],
 "metadata": {
  "kernelspec": {
   "display_name": "ai",
   "language": "python",
   "name": "python3"
  },
  "language_info": {
   "codemirror_mode": {
    "name": "ipython",
    "version": 3
   },
   "file_extension": ".py",
   "mimetype": "text/x-python",
   "name": "python",
   "nbconvert_exporter": "python",
   "pygments_lexer": "ipython3",
   "version": "3.12.9"
  }
 },
 "nbformat": 4,
 "nbformat_minor": 5
}
