{
 "cells": [
  {
   "metadata": {
    "collapsed": true,
    "ExecuteTime": {
     "end_time": "2025-07-01T11:48:22.597196Z",
     "start_time": "2025-07-01T11:48:21.858327Z"
    }
   },
   "cell_type": "code",
   "source": "%run utils.py",
   "id": "initial_id",
   "outputs": [],
   "execution_count": 2
  },
  {
   "metadata": {
    "ExecuteTime": {
     "end_time": "2025-07-01T11:48:23.373199Z",
     "start_time": "2025-07-01T11:48:23.359821Z"
    }
   },
   "cell_type": "code",
   "source": [
    "from utils import ConvRelu\n",
    "from torch import nn\n",
    "\n",
    "def vgg_block(conv_in, conv_out, conv_num):\n",
    "    layers = []\n",
    "    layers.append(ConvRelu(conv_in, conv_out, kernel_size=3, padding=1))\n",
    "    for i in range(conv_num - 1):\n",
    "        layers.append(ConvRelu(conv_out, conv_out, kernel_size=3, padding=1))\n",
    "\n",
    "    layers.append(nn.MaxPool2d(kernel_size=2, stride=2))\n",
    "    return nn.Sequential(*layers)\n",
    "\n",
    "block = vgg_block(3, 64, 2)\n",
    "print(block)"
   ],
   "id": "f9cce7f0",
   "outputs": [
    {
     "name": "stdout",
     "output_type": "stream",
     "text": [
      "Sequential(\n",
      "  (0): ConvRelu(\n",
      "    (conv): Conv2d(3, 64, kernel_size=(3, 3), stride=(1, 1), padding=(1, 1))\n",
      "    (relu): ReLU()\n",
      "  )\n",
      "  (1): ConvRelu(\n",
      "    (conv): Conv2d(64, 64, kernel_size=(3, 3), stride=(1, 1), padding=(1, 1))\n",
      "    (relu): ReLU()\n",
      "  )\n",
      "  (2): MaxPool2d(kernel_size=2, stride=2, padding=0, dilation=1, ceil_mode=False)\n",
      ")\n"
     ]
    }
   ],
   "execution_count": 3
  },
  {
   "metadata": {
    "ExecuteTime": {
     "end_time": "2025-07-01T11:48:24.676866Z",
     "start_time": "2025-07-01T11:48:24.670989Z"
    }
   },
   "cell_type": "code",
   "source": [
    "class VggBlock(nn.Module):\n",
    "    def __init__(self, conv_in, conv_out, conv_num):\n",
    "        super(VggBlock, self).__init__()\n",
    "        layers = []\n",
    "        layers.append(ConvRelu(conv_in, conv_out, kernel_size=3, padding=1))\n",
    "        for i in range(conv_num - 1):\n",
    "            layers.append(ConvRelu(conv_out, conv_out, kernel_size=3, padding=1))\n",
    "\n",
    "        layers.append(nn.MaxPool2d(kernel_size=2, stride=2))\n",
    "        self.block = nn.Sequential(*layers)\n",
    "\n",
    "    def forward(self, x):\n",
    "        return self.block(x)\n",
    "\n",
    "block = VggBlock(3, 64, 2)\n",
    "print(block)"
   ],
   "id": "7938ed70d5b2f81a",
   "outputs": [
    {
     "name": "stdout",
     "output_type": "stream",
     "text": [
      "VggBlock(\n",
      "  (block): Sequential(\n",
      "    (0): ConvRelu(\n",
      "      (conv): Conv2d(3, 64, kernel_size=(3, 3), stride=(1, 1), padding=(1, 1))\n",
      "      (relu): ReLU()\n",
      "    )\n",
      "    (1): ConvRelu(\n",
      "      (conv): Conv2d(64, 64, kernel_size=(3, 3), stride=(1, 1), padding=(1, 1))\n",
      "      (relu): ReLU()\n",
      "    )\n",
      "    (2): MaxPool2d(kernel_size=2, stride=2, padding=0, dilation=1, ceil_mode=False)\n",
      "  )\n",
      ")\n"
     ]
    }
   ],
   "execution_count": 4
  },
  {
   "metadata": {
    "ExecuteTime": {
     "end_time": "2025-07-01T11:48:29.169348Z",
     "start_time": "2025-07-01T11:48:29.164469Z"
    }
   },
   "cell_type": "code",
   "source": [
    "from utils import LinerRelu\n",
    "\n",
    "class Vgg16(nn.Module):\n",
    "    def __init__(self, dropout=0.5):\n",
    "        super(Vgg16, self).__init__()\n",
    "        self.block1 = VggBlock(3, 64, 2)\n",
    "        self.block2 = VggBlock(64, 128, 2)\n",
    "        self.block3 = VggBlock(128, 256, 3)\n",
    "        self.block4 = VggBlock(256, 512, 3)\n",
    "        self.block5 = VggBlock(512, 512, 3)\n",
    "        self.fc1 = LinerRelu(512, 256, dropout=dropout)\n",
    "        self.fc2 = LinerRelu(256, 128, dropout=dropout)\n",
    "        self.fc3 = LinerRelu(128, 10, dropout=dropout)\n",
    "\n",
    "    def forward(self, x):\n",
    "        x = self.block1(x)\n",
    "        x = self.block2(x)\n",
    "        x = self.block3(x)\n",
    "        x = self.block4(x)\n",
    "        x = self.block5(x)\n",
    "        x = nn.Flatten()(x)\n",
    "        x = self.fc1(x)\n",
    "        x = self.fc2(x)\n",
    "        x = self.fc3(x)\n",
    "        return x"
   ],
   "id": "4fb880f88e8c1d28",
   "outputs": [],
   "execution_count": 5
  },
  {
   "metadata": {
    "ExecuteTime": {
     "end_time": "2025-07-01T11:48:30.701677Z",
     "start_time": "2025-07-01T11:48:30.544512Z"
    }
   },
   "cell_type": "code",
   "source": [
    "from torchinfo import summary\n",
    "\n",
    "vgg16 = Vgg16()\n",
    "summary(vgg16, (1, 3, 32, 32))"
   ],
   "id": "fde055f95ec7e747",
   "outputs": [
    {
     "data": {
      "text/plain": [
       "==========================================================================================\n",
       "Layer (type:depth-idx)                   Output Shape              Param #\n",
       "==========================================================================================\n",
       "Vgg16                                    [1, 10]                   --\n",
       "├─VggBlock: 1-1                          [1, 64, 16, 16]           --\n",
       "│    └─Sequential: 2-1                   [1, 64, 16, 16]           --\n",
       "│    │    └─ConvRelu: 3-1                [1, 64, 32, 32]           1,792\n",
       "│    │    └─ConvRelu: 3-2                [1, 64, 32, 32]           36,928\n",
       "│    │    └─MaxPool2d: 3-3               [1, 64, 16, 16]           --\n",
       "├─VggBlock: 1-2                          [1, 128, 8, 8]            --\n",
       "│    └─Sequential: 2-2                   [1, 128, 8, 8]            --\n",
       "│    │    └─ConvRelu: 3-4                [1, 128, 16, 16]          73,856\n",
       "│    │    └─ConvRelu: 3-5                [1, 128, 16, 16]          147,584\n",
       "│    │    └─MaxPool2d: 3-6               [1, 128, 8, 8]            --\n",
       "├─VggBlock: 1-3                          [1, 256, 4, 4]            --\n",
       "│    └─Sequential: 2-3                   [1, 256, 4, 4]            --\n",
       "│    │    └─ConvRelu: 3-7                [1, 256, 8, 8]            295,168\n",
       "│    │    └─ConvRelu: 3-8                [1, 256, 8, 8]            590,080\n",
       "│    │    └─ConvRelu: 3-9                [1, 256, 8, 8]            590,080\n",
       "│    │    └─MaxPool2d: 3-10              [1, 256, 4, 4]            --\n",
       "├─VggBlock: 1-4                          [1, 512, 2, 2]            --\n",
       "│    └─Sequential: 2-4                   [1, 512, 2, 2]            --\n",
       "│    │    └─ConvRelu: 3-11               [1, 512, 4, 4]            1,180,160\n",
       "│    │    └─ConvRelu: 3-12               [1, 512, 4, 4]            2,359,808\n",
       "│    │    └─ConvRelu: 3-13               [1, 512, 4, 4]            2,359,808\n",
       "│    │    └─MaxPool2d: 3-14              [1, 512, 2, 2]            --\n",
       "├─VggBlock: 1-5                          [1, 512, 1, 1]            --\n",
       "│    └─Sequential: 2-5                   [1, 512, 1, 1]            --\n",
       "│    │    └─ConvRelu: 3-15               [1, 512, 2, 2]            2,359,808\n",
       "│    │    └─ConvRelu: 3-16               [1, 512, 2, 2]            2,359,808\n",
       "│    │    └─ConvRelu: 3-17               [1, 512, 2, 2]            2,359,808\n",
       "│    │    └─MaxPool2d: 3-18              [1, 512, 1, 1]            --\n",
       "├─LinerRelu: 1-6                         [1, 256]                  --\n",
       "│    └─Linear: 2-6                       [1, 256]                  131,328\n",
       "│    └─ReLU: 2-7                         [1, 256]                  --\n",
       "│    └─Dropout: 2-8                      [1, 256]                  --\n",
       "├─LinerRelu: 1-7                         [1, 128]                  --\n",
       "│    └─Linear: 2-9                       [1, 128]                  32,896\n",
       "│    └─ReLU: 2-10                        [1, 128]                  --\n",
       "│    └─Dropout: 2-11                     [1, 128]                  --\n",
       "├─LinerRelu: 1-8                         [1, 10]                   --\n",
       "│    └─Linear: 2-12                      [1, 10]                   1,290\n",
       "│    └─ReLU: 2-13                        [1, 10]                   --\n",
       "│    └─Dropout: 2-14                     [1, 10]                   --\n",
       "==========================================================================================\n",
       "Total params: 14,880,202\n",
       "Trainable params: 14,880,202\n",
       "Non-trainable params: 0\n",
       "Total mult-adds (Units.MEGABYTES): 313.64\n",
       "==========================================================================================\n",
       "Input size (MB): 0.01\n",
       "Forward/backward pass size (MB): 2.21\n",
       "Params size (MB): 59.52\n",
       "Estimated Total Size (MB): 61.75\n",
       "=========================================================================================="
      ]
     },
     "execution_count": 6,
     "metadata": {},
     "output_type": "execute_result"
    }
   ],
   "execution_count": 6
  },
  {
   "metadata": {
    "ExecuteTime": {
     "end_time": "2025-07-01T11:13:48.229518Z",
     "start_time": "2025-07-01T11:13:47.027610Z"
    }
   },
   "cell_type": "code",
   "source": [
    "from torchvision import datasets\n",
    "from utils import train_val_split\n",
    "\n",
    "full = datasets.CIFAR10(root=\"./data\", train=True, download=True)\n",
    "test = datasets.CIFAR10(root=\"./data\", train=False, download=True)\n",
    "train, valid = train_val_split(full, seed=666)\n",
    "\n",
    "print(len(train), len(valid), len(test))"
   ],
   "id": "6fb7fd735df7cbe1",
   "outputs": [
    {
     "name": "stdout",
     "output_type": "stream",
     "text": [
      "40000 10000 10000\n"
     ]
    }
   ],
   "execution_count": 8
  },
  {
   "metadata": {
    "ExecuteTime": {
     "end_time": "2025-07-01T11:14:35.719663Z",
     "start_time": "2025-07-01T11:14:35.712358Z"
    }
   },
   "cell_type": "code",
   "source": [
    "from utils import PackDataset\n",
    "from torchvision import transforms\n",
    "\n",
    "train_data = PackDataset(train, transform=transforms.ToTensor())\n",
    "valid_data = PackDataset(valid, transform=transforms.ToTensor())\n",
    "test_data = PackDataset(test, transform=transforms.ToTensor())\n",
    "\n",
    "image, label = train_data[0]\n",
    "print(image.size())"
   ],
   "id": "8a7affacee1e888c",
   "outputs": [
    {
     "name": "stdout",
     "output_type": "stream",
     "text": [
      "torch.Size([3, 32, 32])\n"
     ]
    }
   ],
   "execution_count": 9
  },
  {
   "metadata": {
    "ExecuteTime": {
     "end_time": "2025-07-01T11:17:12.366211Z",
     "start_time": "2025-07-01T11:17:12.358655Z"
    }
   },
   "cell_type": "code",
   "source": [
    "import json\n",
    "from utils import control_callbacks\n",
    "from sklearn.model_selection import ParameterGrid\n",
    "import torch\n",
    "from skorch import NeuralNetClassifier\n",
    "from skorch.helper import predefined_split"
   ],
   "id": "1ee090d4d33d8ecf",
   "outputs": [],
   "execution_count": 11
  },
  {
   "metadata": {},
   "cell_type": "code",
   "outputs": [],
   "execution_count": null,
   "source": [
    "epochs = 15\n",
    "param_grid = {\n",
    "    'lr': [0.001, 0.0005, 0.0001],\n",
    "    'dropout': [0.5, 0.3, 0.2]\n",
    "}\n",
    "\n",
    "results = {\n",
    "    'best_params': None,\n",
    "    'best_acc': 0.0,\n",
    "    'all_results': []\n",
    "}\n",
    "\n",
    "calls = control_callbacks(epochs, check_dir='./data/alex-checkpoints', show_bar=False)\n",
    "for params in ParameterGrid(param_grid):\n",
    "    print(f\"\\nTraining with params: {params}\")\n",
    "    vgg = Vgg16(params['dropout'])\n",
    "    net = NeuralNetClassifier(\n",
    "        vgg,\n",
    "        criterion=nn.CrossEntropyLoss,\n",
    "        optimizer=torch.optim.Adam,\n",
    "        lr=params['lr'],\n",
    "        batch_size=2048,\n",
    "        max_epochs=epochs,\n",
    "        train_split=predefined_split(valid_data),\n",
    "        device='cuda' if torch.cuda.is_available() else 'cpu',\n",
    "        callbacks=calls,\n",
    "        classes=list(range(10)),\n",
    "    )\n",
    "    net.fit(X=train_data, y=None)\n",
    "    valid_acc = max(net.history[:, 'valid_acc'])\n",
    "    current_result = {'params': params, 'valid_acc': valid_acc}\n",
    "    results['all_results'].append(current_result)\n",
    "\n",
    "    if valid_acc > results['best_acc']:\n",
    "        results['best_acc'] = valid_acc\n",
    "        results['best_params'] = params\n",
    "\n",
    "    print(f\"\\nBest params: {results['best_params']}, best acc: {results['best_acc']}\")\n",
    "\n",
    "with open('./data/hyperparam_results.json', 'w') as f:\n",
    "    json.dump(results, f, indent=2)"
   ],
   "id": "fa1e9247c4b3782e"
  },
  {
   "metadata": {},
   "cell_type": "code",
   "outputs": [],
   "execution_count": null,
   "source": [
    "epochs = 100\n",
    "full_data = PackDataset(full, transform=transforms.ToTensor())\n",
    "vgg = Vgg16(0.3)\n",
    "net = NeuralNetClassifier(\n",
    "    vgg,\n",
    "    criterion=nn.CrossEntropyLoss,\n",
    "    optimizer=torch.optim.Adam,\n",
    "    lr=0.0001,\n",
    "    batch_size=2048,\n",
    "    max_epochs=epochs,\n",
    "    train_split=predefined_split(valid_data),\n",
    "    device='cuda' if torch.cuda.is_available() else 'cpu',\n",
    "    callbacks=calls,\n",
    "    classes=list(range(10)),\n",
    ")"
   ],
   "id": "6561c67923e5c324"
  }
 ],
 "metadata": {
  "kernelspec": {
   "display_name": "ai",
   "language": "python",
   "name": "python3"
  },
  "language_info": {
   "codemirror_mode": {
    "name": "ipython",
    "version": 3
   },
   "file_extension": ".py",
   "mimetype": "text/x-python",
   "name": "python",
   "nbconvert_exporter": "python",
   "pygments_lexer": "ipython3",
   "version": "3.12.9"
  }
 },
 "nbformat": 4,
 "nbformat_minor": 5
}
