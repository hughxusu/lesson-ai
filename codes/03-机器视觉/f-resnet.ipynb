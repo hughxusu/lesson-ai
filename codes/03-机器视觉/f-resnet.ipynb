{
 "cells": [
  {
   "metadata": {
    "ExecuteTime": {
     "end_time": "2025-07-05T01:38:46.104127Z",
     "start_time": "2025-07-05T01:38:46.095229Z"
    }
   },
   "cell_type": "code",
   "source": "%run utils",
   "id": "c886af5c04f87c7b",
   "outputs": [],
   "execution_count": 38
  },
  {
   "metadata": {
    "ExecuteTime": {
     "end_time": "2025-07-05T01:38:48.019663Z",
     "start_time": "2025-07-05T01:38:48.015520Z"
    }
   },
   "cell_type": "code",
   "source": [
    "from torch import nn\n",
    "\n",
    "class ConvBn(nn.Module):\n",
    "    def __init__(self, *args, **kwargs):\n",
    "        super(ConvBn, self).__init__()\n",
    "        self.conv = nn.Conv2d(*args, **kwargs)\n",
    "        self.bn = nn.BatchNorm2d(self.conv.out_channels)\n",
    "        nn.init.kaiming_normal_(self.conv.weight)\n",
    "        nn.init.zeros_(self.conv.bias)\n",
    "\n",
    "    def forward(self, x):\n",
    "        return self.bn(self.conv(x))\n",
    "\n",
    "class ConvBnRelu(nn.Module):\n",
    "    def __init__(self, *args, **kwargs):\n",
    "        super(ConvBnRelu, self).__init__()\n",
    "        self.conv = ConvBn(*args, **kwargs)\n",
    "        self.relu = nn.ReLU()\n",
    "\n",
    "    def forward(self, x):\n",
    "        return self.relu(self.conv(x))"
   ],
   "id": "8b82c257663bfdee",
   "outputs": [],
   "execution_count": 39
  },
  {
   "metadata": {
    "ExecuteTime": {
     "end_time": "2025-07-05T01:38:50.879909Z",
     "start_time": "2025-07-05T01:38:50.869044Z"
    }
   },
   "cell_type": "code",
   "source": [
    "class ResUnit(nn.Module):\n",
    "    def __init__(self, in_channels, out_channels, stride=1):\n",
    "        super(ResUnit, self).__init__()\n",
    "        self.conv1 = ConvBnRelu(in_channels, out_channels, kernel_size=3, stride=stride, padding=1)\n",
    "        self.conv2 = ConvBn(out_channels, out_channels, kernel_size=3, stride=1, padding=1)\n",
    "        self.downsample = None\n",
    "        if in_channels != out_channels or stride != 1:\n",
    "            self.downsample = nn.Sequential(\n",
    "                ConvBn(in_channels, out_channels, kernel_size=1, stride=stride),\n",
    "                nn.BatchNorm2d(out_channels)\n",
    "            )\n",
    "\n",
    "    def forward(self, x):\n",
    "        identity = x\n",
    "        out = self.conv1(x)\n",
    "        out = self.conv2(out)\n",
    "        if self.downsample is not None:\n",
    "            identity = self.downsample(x)\n",
    "        out += identity\n",
    "        return nn.ReLU()(out)\n",
    "\n",
    "\n",
    "unit = ResUnit(64, 128, stride=2)\n",
    "print(unit)"
   ],
   "id": "6dfffdef4ddb8de9",
   "outputs": [
    {
     "name": "stdout",
     "output_type": "stream",
     "text": [
      "ResUnit(\n",
      "  (conv1): ConvBnRelu(\n",
      "    (conv): ConvBn(\n",
      "      (conv): Conv2d(64, 128, kernel_size=(3, 3), stride=(2, 2), padding=(1, 1))\n",
      "      (bn): BatchNorm2d(128, eps=1e-05, momentum=0.1, affine=True, track_running_stats=True)\n",
      "    )\n",
      "    (relu): ReLU()\n",
      "  )\n",
      "  (conv2): ConvBn(\n",
      "    (conv): Conv2d(128, 128, kernel_size=(3, 3), stride=(1, 1), padding=(1, 1))\n",
      "    (bn): BatchNorm2d(128, eps=1e-05, momentum=0.1, affine=True, track_running_stats=True)\n",
      "  )\n",
      "  (downsample): Sequential(\n",
      "    (0): ConvBn(\n",
      "      (conv): Conv2d(64, 128, kernel_size=(1, 1), stride=(2, 2))\n",
      "      (bn): BatchNorm2d(128, eps=1e-05, momentum=0.1, affine=True, track_running_stats=True)\n",
      "    )\n",
      "    (1): BatchNorm2d(128, eps=1e-05, momentum=0.1, affine=True, track_running_stats=True)\n",
      "  )\n",
      ")\n"
     ]
    }
   ],
   "execution_count": 40
  },
  {
   "metadata": {
    "ExecuteTime": {
     "end_time": "2025-07-05T01:39:01.031767Z",
     "start_time": "2025-07-05T01:39:01.016831Z"
    }
   },
   "cell_type": "code",
   "source": [
    "class ResBlock(nn.Module):\n",
    "    def __init__(self, in_channels, out_channels, num_units, stride=1):\n",
    "        super(ResBlock, self).__init__()\n",
    "        layers = []\n",
    "        layers.append(ResUnit(in_channels, out_channels, stride=stride))\n",
    "        for i in range(num_units - 1):\n",
    "            layers.append(ResUnit(out_channels, out_channels, stride=1))\n",
    "        self.blocks = nn.Sequential(*layers)\n",
    "\n",
    "    def forward(self, x):\n",
    "        return self.blocks(x)\n",
    "\n",
    "block = ResBlock(64, 128, 2)\n",
    "print(block)"
   ],
   "id": "f89c0db8b43c9c59",
   "outputs": [
    {
     "name": "stdout",
     "output_type": "stream",
     "text": [
      "ResBlock(\n",
      "  (blocks): Sequential(\n",
      "    (0): ResUnit(\n",
      "      (conv1): ConvBnRelu(\n",
      "        (conv): ConvBn(\n",
      "          (conv): Conv2d(64, 128, kernel_size=(3, 3), stride=(1, 1), padding=(1, 1))\n",
      "          (bn): BatchNorm2d(128, eps=1e-05, momentum=0.1, affine=True, track_running_stats=True)\n",
      "        )\n",
      "        (relu): ReLU()\n",
      "      )\n",
      "      (conv2): ConvBn(\n",
      "        (conv): Conv2d(128, 128, kernel_size=(3, 3), stride=(1, 1), padding=(1, 1))\n",
      "        (bn): BatchNorm2d(128, eps=1e-05, momentum=0.1, affine=True, track_running_stats=True)\n",
      "      )\n",
      "      (downsample): Sequential(\n",
      "        (0): ConvBn(\n",
      "          (conv): Conv2d(64, 128, kernel_size=(1, 1), stride=(1, 1))\n",
      "          (bn): BatchNorm2d(128, eps=1e-05, momentum=0.1, affine=True, track_running_stats=True)\n",
      "        )\n",
      "        (1): BatchNorm2d(128, eps=1e-05, momentum=0.1, affine=True, track_running_stats=True)\n",
      "      )\n",
      "    )\n",
      "    (1): ResUnit(\n",
      "      (conv1): ConvBnRelu(\n",
      "        (conv): ConvBn(\n",
      "          (conv): Conv2d(128, 128, kernel_size=(3, 3), stride=(1, 1), padding=(1, 1))\n",
      "          (bn): BatchNorm2d(128, eps=1e-05, momentum=0.1, affine=True, track_running_stats=True)\n",
      "        )\n",
      "        (relu): ReLU()\n",
      "      )\n",
      "      (conv2): ConvBn(\n",
      "        (conv): Conv2d(128, 128, kernel_size=(3, 3), stride=(1, 1), padding=(1, 1))\n",
      "        (bn): BatchNorm2d(128, eps=1e-05, momentum=0.1, affine=True, track_running_stats=True)\n",
      "      )\n",
      "    )\n",
      "  )\n",
      ")\n"
     ]
    }
   ],
   "execution_count": 41
  },
  {
   "metadata": {},
   "cell_type": "code",
   "source": [
    "class ResNet(nn.Module):\n",
    "    def __init__(self):\n",
    "        super(ResNet, self).__init__()\n",
    "        self.conv1 = ConvBnRelu(3, 64, kernel_size=3, stride=1, padding=1)\n",
    "        self.pool1 = nn.MaxPool2d(kernel_size=2, stride=2)\n",
    "        self.block1 = ResBlock(64, 64, 2)\n",
    "        self.block2 = ResBlock(64, 128, 2, stride=2)\n",
    "        self.block3 = ResBlock(128, 256, 2, stride=2)\n",
    "        self.block4 = ResBlock(256, 512, 2, stride=2)\n",
    "        self.pool2 = nn.AdaptiveAvgPool2d((1, 1))\n",
    "        self.fc = nn.Linear(512, 10)\n",
    "\n",
    "    def forward(self, x):\n",
    "        x = self.conv1(x)\n",
    "        x = self.pool1(x)\n",
    "        x = self.block1(x)\n",
    "        x = self.block2(x)\n",
    "        x = self.block3(x)\n",
    "        x = self.block4(x)\n",
    "        x = self.pool2(x)\n",
    "        x = nn.Flatten()(x)\n",
    "        x = self.fc(x)\n",
    "        return x\n"
   ],
   "id": "ca4e061ab5e2b03e",
   "outputs": [],
   "execution_count": null
  },
  {
   "metadata": {},
   "cell_type": "code",
   "source": [
    "from torchinfo import summary\n",
    "\n",
    "net = ResNet()\n",
    "summary(net, (1, 3, 32, 32))"
   ],
   "id": "9d4b15a829cfbec6",
   "outputs": [],
   "execution_count": null
  },
  {
   "metadata": {},
   "cell_type": "code",
   "source": [
    "from torchvision import datasets\n",
    "from utils import train_val_split\n",
    "from utils import PackDataset\n",
    "from torchvision import transforms\n",
    "\n",
    "full = datasets.CIFAR10(root=\"./data\", train=True, download=True)\n",
    "test = datasets.CIFAR10(root=\"./data\", train=False, download=True)\n",
    "train, valid = train_val_split(full, seed=666)\n",
    "\n",
    "train_data = PackDataset(train, transform=transforms.ToTensor())\n",
    "valid_data = PackDataset(valid, transform=transforms.ToTensor())\n",
    "test_data = PackDataset(test, transform=transforms.ToTensor())"
   ],
   "id": "ae7f2e7b3f927b32",
   "outputs": [],
   "execution_count": null
  },
  {
   "metadata": {},
   "cell_type": "code",
   "source": [
    "import json\n",
    "from utils import control_callbacks\n",
    "from sklearn.model_selection import ParameterGrid\n",
    "import torch\n",
    "from skorch import NeuralNetClassifier\n",
    "from skorch.helper import predefined_split"
   ],
   "id": "cb94f60ddc71002c",
   "outputs": [],
   "execution_count": null
  },
  {
   "metadata": {},
   "cell_type": "code",
   "source": [
    "epochs = 20\n",
    "param_grid = {\n",
    "    'lr': [0.01, 0.005, 0.001, 0.0005, 0.0001],\n",
    "}\n",
    "\n",
    "results = {\n",
    "    'best_params': None,\n",
    "    'best_acc': 0.0,\n",
    "    'all_results': []\n",
    "}\n",
    "\n",
    "calls = control_callbacks(epochs, check_dir='./data/alex-checkpoints', show_bar=False)\n",
    "for params in ParameterGrid(param_grid):\n",
    "    print(f\"\\nTraining with params: {params}\")\n",
    "    net = NeuralNetClassifier(\n",
    "        ResNet,\n",
    "        criterion=nn.CrossEntropyLoss,\n",
    "        optimizer=torch.optim.Adam,\n",
    "        lr=params['lr'],\n",
    "        batch_size=2048,\n",
    "        max_epochs=epochs,\n",
    "        train_split=predefined_split(valid_data),\n",
    "        device='cuda' if torch.cuda.is_available() else 'cpu',\n",
    "        callbacks=calls,\n",
    "        classes=list(range(10)),\n",
    "    )\n",
    "    net.fit(X=train_data, y=None)\n",
    "    valid_acc = max(net.history[:, 'valid_acc'])\n",
    "    current_result = {'params': params, 'valid_acc': valid_acc}\n",
    "    results['all_results'].append(current_result)\n",
    "\n",
    "    if valid_acc > results['best_acc']:\n",
    "        results['best_acc'] = valid_acc\n",
    "        results['best_params'] = params\n",
    "\n",
    "    print(f\"\\nBest params: {results['best_params']}, best acc: {results['best_acc']}\")\n",
    "\n",
    "with open('./data/hyperparam_results.json', 'w') as f:\n",
    "    json.dump(results, f, indent=2)"
   ],
   "id": "707b58b3fe7de269",
   "outputs": [],
   "execution_count": null
  }
 ],
 "metadata": {
  "kernelspec": {
   "display_name": "Python 3",
   "language": "python",
   "name": "python3"
  },
  "language_info": {
   "codemirror_mode": {
    "name": "ipython",
    "version": 2
   },
   "file_extension": ".py",
   "mimetype": "text/x-python",
   "name": "python",
   "nbconvert_exporter": "python",
   "pygments_lexer": "ipython2",
   "version": "2.7.6"
  }
 },
 "nbformat": 4,
 "nbformat_minor": 5
}
