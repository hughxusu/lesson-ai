{
 "cells": [
  {
   "cell_type": "code",
   "id": "initial_id",
   "metadata": {
    "collapsed": true,
    "ExecuteTime": {
     "end_time": "2025-07-02T01:33:33.216343Z",
     "start_time": "2025-07-02T01:33:30.356500Z"
    }
   },
   "source": "%run utils",
   "outputs": [],
   "execution_count": 1
  },
  {
   "metadata": {},
   "cell_type": "code",
   "outputs": [],
   "execution_count": null,
   "source": [
    "import torch\n",
    "from utils import ConvRelu\n",
    "from torch import nn\n",
    "\n",
    "class Inception(nn.Module):\n",
    "    def __init__(self, in_channels, ch1x1, ch3x3, ch5x5, pool_proj):\n",
    "        super().__init__()\n",
    "        self.branch1 = ConvRelu(in_channels, ch1x1, conv_size=1)\n",
    "\n",
    "        self.branch2 = nn.Sequential(\n",
    "            ConvRelu(in_channels, ch3x3[0], conv_size=1),\n",
    "            ConvRelu(ch3x3[0], ch3x3[1], conv_size=3, padding=1)\n",
    "        )\n",
    "\n",
    "        self.branch3 = nn.Sequential(\n",
    "            ConvRelu(in_channels, ch5x5[0], conv_size=1),\n",
    "            ConvRelu(ch5x5[0], ch5x5[1], conv_size=5, padding=2)\n",
    "        )\n",
    "\n",
    "        self.branch4 = nn.Sequential(\n",
    "            nn.MaxPool2d(kernel_size=3, stride=1, padding=1),\n",
    "            ConvRelu(in_channels, pool_proj, conv_size=1)\n",
    "        )\n",
    "\n",
    "    def forward(self, x):\n",
    "        branch1 = self.branch1(x)\n",
    "        branch2 = self.branch2(x)\n",
    "        branch3 = self.branch3(x)\n",
    "        branch4 = self.branch4(x)\n",
    "        return torch.cat([branch1, branch2, branch3, branch4], 1)"
   ],
   "id": "48471e80f69b0e8"
  }
 ],
 "metadata": {
  "kernelspec": {
   "display_name": "Python 3",
   "language": "python",
   "name": "python3"
  },
  "language_info": {
   "codemirror_mode": {
    "name": "ipython",
    "version": 2
   },
   "file_extension": ".py",
   "mimetype": "text/x-python",
   "name": "python",
   "nbconvert_exporter": "python",
   "pygments_lexer": "ipython2",
   "version": "2.7.6"
  }
 },
 "nbformat": 4,
 "nbformat_minor": 5
}
